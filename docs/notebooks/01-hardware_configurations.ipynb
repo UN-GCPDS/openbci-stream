{
 "cells": [
  {
   "cell_type": "markdown",
   "metadata": {},
   "source": [
    "# Hardware configurations\n",
    "\n",
    "In order to get all up to date, it is a requirement to have the firmwares fully updated, this issue is handled by Arduino IDE, a preconfigured files for set up the system can be installed with:\n",
    "\n",
    "```bash\n",
    "hg clone ssh://hg@bitbucket.org/gcpds/arduino\n",
    "cd arduino\n",
    "sudo chmod a+x install.sh\n",
    "./install.sh\n",
    "```\n",
    "\n",
    "This instructions will install the following libraries and boards:\n",
    "\n",
    "## Libraries\n",
    "\n",
    "  * OpenBCI 32bit Library 3.1.1\n",
    "  * OpenBCI 32bit SD 2.0.0\n",
    "  * OpenBCI Wifi Master 1.0.1\n",
    "  * OpenBCI Radios 2.0.4\n",
    "  \n",
    "\n",
    "## Boards\n",
    "\n",
    "  * RFDuino 2.3.3\n",
    "  * ChipKIT 2.0.6\n",
    "  \n",
    "\n",
    "After this *Arduino IDE* must be able to use boards like `OpenBCI 32` and `RFduino`, new examples will be created too, the most important are `OpenBCI_Radios >> RadioHost32bit`, `OpenBCI_Radios >> RadioDevice32bit` and `OpenBCI_32bit_Library >> DefaultBoard`.\n",
    "\n",
    "\n",
    "## Install firmwares (with Arduino IDE)\n",
    "\n",
    "### OpenBCI 32bit (Cyton)\n",
    "This is the `ChipKIT` based board, can be programmed through RFduino, just like when we are using the board.\n",
    "\n",
    "![](images/32bit_top.jpg)\n",
    "\n",
    "  * Select the board `OpenBCI 32`\n",
    "  * Load `OpenBCI_32bit_Library >> DefaultBoard` from examples\n",
    "  * Put board in *bootloader mode* pressing `PRG` and `RST` button and releasing first `PRG` and then `RST`.\n",
    "  * `Verify` and `Upload` with Arduino IDE.\n",
    "  \n",
    "### RFduino Host\n",
    "This is the board tha we connect through USB, is **IMPORTANT** set the switch to `RESET` position.\n",
    "\n",
    "![](images/32bit_dongle_top.jpg)\n",
    "\n",
    "  * Select the board `RFduino`\n",
    "  * Load `OpenBCI_Radios >> RadioHost32bit` from examples\n",
    "  * `Verify` and `Upload` with Arduino IDE.\n",
    "  \n",
    "### RFduino Device\n",
    "This board is beside `ChipKIT`, but no have an own serial connection, so is needed an external `FTDI device`, is very **IMPORTANT** to use a 3V device instead of 5V and power the Cyton board with this source and not with batteries.  \n",
    "\n",
    "![](images/32bit_DeviceConnection.jpg)\n",
    "\n",
    "  * Select the board `RFduino`\n",
    "  * Load `OpenBCI_Radios >> RadioDevice32bit` from examples\n",
    "  * `Verify` and `Upload` with Arduino IDE.\n"
   ]
  },
  {
   "cell_type": "markdown",
   "metadata": {},
   "source": [
    "---\n",
    "## References\n",
    "\n",
    "  * [Cyton Board Programming Tutorial](https://docs.openbci.com/Hardware/05-Cyton_Board_Programming_Tutorial)\n",
    "  * [Cyton Radios Programming Tutorial](href='https://docs.openbci.com/Hardware/06-Cyton_Radios_Programming_Tutorial)"
   ]
  }
 ],
 "metadata": {
  "kernelspec": {
   "display_name": "Python 3",
   "language": "python",
   "name": "python3"
  },
  "language_info": {
   "codemirror_mode": {
    "name": "ipython",
    "version": 3
   },
   "file_extension": ".py",
   "mimetype": "text/x-python",
   "name": "python",
   "nbconvert_exporter": "python",
   "pygments_lexer": "ipython3",
   "version": "3.8.5"
  }
 },
 "nbformat": 4,
 "nbformat_minor": 4
}
