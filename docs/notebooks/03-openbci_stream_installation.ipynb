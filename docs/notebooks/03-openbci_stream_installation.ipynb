{
 "cells": [
  {
   "cell_type": "markdown",
   "metadata": {},
   "source": [
    "# Installation"
   ]
  },
  {
   "cell_type": "markdown",
   "metadata": {},
   "source": [
    "## GNU/Linux installation"
   ]
  },
  {
   "cell_type": "markdown",
   "metadata": {},
   "source": [
    "::: note\n",
    "  We recommend **Python 3.8** over **3.7**\n",
    ":::"
   ]
  },
  {
   "cell_type": "markdown",
   "metadata": {},
   "source": [
    "Is recommended to deploy a development environ using [venv](https://docs.python.org/3/library/venv.html), after that, `openbci` can be instaled from [PyPi](https://pypi.org/project/openbci/)."
   ]
  },
  {
   "cell_type": "code",
   "execution_count": null,
   "metadata": {},
   "outputs": [],
   "source": [
    "$ python3 -m venv openbci_venv\n",
    "$ source openbci_venv/bin/activate\n",
    "$ pip install -U openbci-stream"
   ]
  },
  {
   "cell_type": "markdown",
   "metadata": {},
   "source": [
    "## Windows\n",
    "Who cares"
   ]
  }
 ],
 "metadata": {
  "kernelspec": {
   "display_name": "Python 3",
   "language": "python",
   "name": "python3"
  },
  "language_info": {
   "codemirror_mode": {
    "name": "ipython",
    "version": 3
   },
   "file_extension": ".py",
   "mimetype": "text/x-python",
   "name": "python",
   "nbconvert_exporter": "python",
   "pygments_lexer": "ipython3",
   "version": "3.8.3"
  }
 },
 "nbformat": 4,
 "nbformat_minor": 4
}
