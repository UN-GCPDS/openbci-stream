{
 "cells": [
  {
   "cell_type": "markdown",
   "metadata": {},
   "source": [
    "# Appendix 3 - Command line interface"
   ]
  },
  {
   "cell_type": "code",
   "execution_count": null,
   "metadata": {},
   "outputs": [],
   "source": []
  },
  {
   "cell_type": "code",
   "execution_count": 25,
   "metadata": {},
   "outputs": [
    {
     "name": "stdout",
     "output_type": "stream",
     "text": [
      "usage: openbci_cli [-h] {serial,wifi,stream,marker} ...\n"
     ]
    }
   ],
   "source": [
    "from openbci_stream.utils import openbci_cli\n",
    "openbci_cli.parser.print_usage()"
   ]
  },
  {
   "cell_type": "markdown",
   "metadata": {},
   "source": [
    "## Interface\n",
    "There are 4 options for interface: `serial`, `wifi`, `stream` and `marker`"
   ]
  },
  {
   "cell_type": "markdown",
   "metadata": {},
   "source": [
    "### `serial` and `wifi`\n",
    "\n",
    "With this option we can `--star` and `--stop` the data streaming, we can too send a `--command` based on the [SDK](https://docs.openbci.com/docs/02Cyton/CytonSDK) documentation.  \n",
    "The difference between `serial` and `wifi` are the options `--port` and `--ip` respectively, the first is used to select the serial port and the second is used for select the IP of the WiFi module. "
   ]
  },
  {
   "cell_type": "code",
   "execution_count": 18,
   "metadata": {},
   "outputs": [
    {
     "name": "stdout",
     "output_type": "stream",
     "text": [
      "usage: openbci_cli serial [-h] [--start | --stop] [-c COMMAND [COMMAND ...]]\n",
      "                          [--stream_samples STREAM_SAMPLES] [--daisy]\n",
      "                          [--host HOST] [--output OUTPUT]\n",
      "                          [--output_markers OUTPUT_MARKERS] [--port PORT]\n",
      "\n",
      "optional arguments:\n",
      "  -h, --help            show this help message and exit\n",
      "  --start               Start stream\n",
      "  --stop                Stop stream\n",
      "  -c COMMAND [COMMAND ...], --command COMMAND [COMMAND ...]\n",
      "                        Send commands after connection established\n",
      "  --stream_samples STREAM_SAMPLES\n",
      "                        Number of samples to receive in stream\n",
      "  --daisy               Enable or disable daisy\n",
      "  --host HOST           Hostname where is running the acquisition system\n",
      "  --output OUTPUT       Write stream into file\n",
      "  --output_markers OUTPUT_MARKERS\n",
      "                        Write markers into file\n",
      "  --port PORT           Serial port\n"
     ]
    },
    {
     "ename": "SystemExit",
     "evalue": "0",
     "output_type": "error",
     "traceback": [
      "An exception has occurred, use %tb to see the full traceback.\n",
      "\u001b[0;31mSystemExit\u001b[0m\u001b[0;31m:\u001b[0m 0\n"
     ]
    }
   ],
   "source": [
    "# $ openbci_cli serial -h\n",
    "openbci_cli.parser.parse_args(['serial', '-h'])"
   ]
  },
  {
   "cell_type": "markdown",
   "metadata": {},
   "source": [
    "For example if we wan to start a stream from serial device in port `/dev/ttyUSB0` with daisy module attached, streaming 250 samples per second:"
   ]
  },
  {
   "cell_type": "code",
   "execution_count": null,
   "metadata": {},
   "outputs": [],
   "source": [
    "openbci_cli serial --port /dev/ttyUSB0 --daisy --stream_samples 250 --start"
   ]
  },
  {
   "cell_type": "markdown",
   "metadata": {},
   "source": [
    "or start a stream from wifi device in IP `192.168.1.113` in marker mode without daisy module, streaming 2000 samples per second:"
   ]
  },
  {
   "cell_type": "code",
   "execution_count": null,
   "metadata": {},
   "outputs": [],
   "source": [
    "openbci_cli wifi --ip 192.168.1.113 --stream_samples 2000 -c ~3 --start"
   ]
  },
  {
   "cell_type": "markdown",
   "metadata": {},
   "source": [
    "the option `~3` according to the [SDK](https://docs.openbci.com/docs/02Cyton/CytonSDK#sample-rate) is for configure the sample rate in 2000 samples per second, `SAMPLE_RATE_2KSPS` is valid too:"
   ]
  },
  {
   "cell_type": "code",
   "execution_count": null,
   "metadata": {},
   "outputs": [],
   "source": [
    "openbci_cli wifi --ip 192.168.1.113 --stream_samples 2000 -c SAMPLE_RATE_2KSPS --start"
   ]
  },
  {
   "cell_type": "markdown",
   "metadata": {},
   "source": [
    "### `stream`\n",
    "With this option we access to some stream that already started"
   ]
  },
  {
   "cell_type": "code",
   "execution_count": null,
   "metadata": {},
   "outputs": [],
   "source": [
    "openbci_cli stream"
   ]
  },
  {
   "cell_type": "markdown",
   "metadata": {},
   "source": [
    "### `marker`\n",
    "With this option we enter in a interactive console for create marker."
   ]
  },
  {
   "cell_type": "code",
   "execution_count": null,
   "metadata": {},
   "outputs": [],
   "source": [
    "openbci_cli marker"
   ]
  },
  {
   "cell_type": "markdown",
   "metadata": {},
   "source": [
    "## Output\n",
    "\n",
    "For the interfaces `serial` and `wifi`, when `--start` a new stream, and for `stream` interfaces there is an option `--output` for storage the stream into HDF5 format."
   ]
  },
  {
   "cell_type": "code",
   "execution_count": null,
   "metadata": {},
   "outputs": [],
   "source": [
    "openbci_cli serial --port /dev/ttyUSB0 --daisy --output 'saved_data.h5' --stream_samples 250 --start"
   ]
  },
  {
   "cell_type": "markdown",
   "metadata": {},
   "source": [
    "## Remote host"
   ]
  },
  {
   "cell_type": "markdown",
   "metadata": {},
   "source": [
    "All interfaces and commands here explained can be executed from a [remote host](A4-configure_remote_host) with the option `--host`, this mean that we can control the acquisition system from a device connected in the same network."
   ]
  }
 ],
 "metadata": {
  "kernelspec": {
   "display_name": "Python 3",
   "language": "python",
   "name": "python3"
  },
  "language_info": {
   "codemirror_mode": {
    "name": "ipython",
    "version": 3
   },
   "file_extension": ".py",
   "mimetype": "text/x-python",
   "name": "python",
   "nbconvert_exporter": "python",
   "pygments_lexer": "ipython3",
   "version": "3.8.3"
  }
 },
 "nbformat": 4,
 "nbformat_minor": 4
}
