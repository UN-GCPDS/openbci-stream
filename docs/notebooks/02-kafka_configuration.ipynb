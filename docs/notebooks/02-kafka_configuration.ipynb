{
 "cells": [
  {
   "cell_type": "markdown",
   "metadata": {},
   "source": [
    "# Kafka configuration"
   ]
  },
  {
   "cell_type": "markdown",
   "metadata": {},
   "source": [
    "[Apache Kafka](https://kafka.apache.org/) is a distributed streaming platform. It is useful for building real-time streaming data pipelines to get data between the systems or applications. Another useful feature is real-time streaming applications that can transform streams of data or react on a stream of data."
   ]
  },
  {
   "cell_type": "markdown",
   "metadata": {},
   "source": [
    "## GNU/Linux"
   ]
  },
  {
   "cell_type": "markdown",
   "metadata": {},
   "source": [
    "### Arch Linux"
   ]
  },
  {
   "cell_type": "code",
   "execution_count": null,
   "metadata": {},
   "outputs": [],
   "source": [
    "$ yay -S kafka\n",
    "$ sudo pip install kafka-python "
   ]
  },
  {
   "cell_type": "markdown",
   "metadata": {},
   "source": [
    "### Ubuntu"
   ]
  },
  {
   "cell_type": "markdown",
   "metadata": {},
   "source": [
    "A very useful guide (and recomended) can be readed in [tecadmin.net](https://tecadmin.net/install-apache-kafka-ubuntu/), just follow it until step 3.  \n",
    "\n",
    "**TL;DR**"
   ]
  },
  {
   "cell_type": "code",
   "execution_count": null,
   "metadata": {},
   "outputs": [],
   "source": [
    "$ sudo apt update\n",
    "$ sudo apt install default-jdk\n",
    "\n",
    "$ wget http://www-us.apache.org/dist/kafka/2.4.0/kafka_2.13-2.4.0.tgz\n",
    "    \n",
    "$ tar xzf kafka_2.13-2.4.0.tgz\n",
    "$ mv kafka_2.13-2.4.0 /usr/local/kafka\n",
    "\n",
    "$ echo \"\"\"[Unit]\n",
    "Description=Apache Zookeeper server\n",
    "Documentation=http://zookeeper.apache.org\n",
    "Requires=network.target remote-fs.target\n",
    "After=network.target remote-fs.target\n",
    "\n",
    "[Service]\n",
    "Type=simple\n",
    "ExecStart=/usr/local/kafka/bin/zookeeper-server-start.sh /usr/local/kafka/config/zookeeper.properties\n",
    "ExecStop=/usr/local/kafka/bin/zookeeper-server-stop.sh\n",
    "Restart=on-abnormal\n",
    "\n",
    "[Install]\n",
    "WantedBy=multi-user.target\"\"\" >> /etc/systemd/system/zookeeper.service\n",
    "\n",
    "$ echo \"\"\"[Unit]\n",
    "Description=Apache Kafka Server\n",
    "Documentation=http://kafka.apache.org/documentation.html\n",
    "Requires=zookeeper.service\n",
    "\n",
    "[Service]\n",
    "Type=simple\n",
    "Environment=\"JAVA_HOME=/usr/lib/jvm/java-1.11.0-openjdk-amd64\"\n",
    "ExecStart=/usr/local/kafka/bin/kafka-server-start.sh /usr/local/kafka/config/server.properties\n",
    "ExecStop=/usr/local/kafka/bin/kafka-server-stop.sh\n",
    "\n",
    "[Install]\n",
    "WantedBy=multi-user.target\n",
    "\"\"\" >> /etc/systemd/system/kafka.service\n",
    "\n",
    "$ systemctl daemon-reload"
   ]
  },
  {
   "cell_type": "markdown",
   "metadata": {},
   "source": [
    "### Daemon"
   ]
  },
  {
   "cell_type": "markdown",
   "metadata": {},
   "source": [
    "Start daemon, on `Ubuntu` must be `zookeeper.service` instead of `zookeeper@kafka.service`."
   ]
  },
  {
   "cell_type": "code",
   "execution_count": null,
   "metadata": {},
   "outputs": [],
   "source": [
    "systemctl enable kafka.service zookeeper@kafka.service\n",
    "systemctl start kafka.service zookeeper@kafka.service"
   ]
  },
  {
   "cell_type": "markdown",
   "metadata": {},
   "source": [
    "Create topic, on `Ubuntu` the complete path moust be specified: `/usr/local/kafka/bin/kafka-topics.sh`"
   ]
  },
  {
   "cell_type": "code",
   "execution_count": null,
   "metadata": {},
   "outputs": [],
   "source": [
    "kafka-topics.sh --zookeeper localhost:2181 --delete --topic binary\n",
    "kafka-topics.sh --zookeeper localhost:2181 --delete --topic beeg\n",
    "kafka-topics.sh --zookeeper localhost:2181 --delete --topic marker\n",
    "\n",
    "kafka-topics.sh --create --zookeeper localhost:2181 --replication-factor 1 --partitions 1 --topic binary\n",
    "kafka-topics.sh --create --zookeeper localhost:2181 --replication-factor 1 --partitions 1 --topic eeg\n",
    "kafka-topics.sh --create --zookeeper localhost:2181 --replication-factor 1 --partitions 1 --topic marker"
   ]
  },
  {
   "cell_type": "markdown",
   "metadata": {},
   "source": [
    "Change retention"
   ]
  },
  {
   "cell_type": "code",
   "execution_count": null,
   "metadata": {},
   "outputs": [],
   "source": [
    "kafka-configs.sh --zookeeper localhost:2181  --entity-type topics --entity-name binary --alter --add-config retention.ms=1000\n",
    "kafka-configs.sh --zookeeper localhost:2181  --entity-type topics --entity-name eeg --alter --add-config retention.ms=1000\n",
    "kafka-configs.sh --zookeeper localhost:2181  --entity-type topics --entity-name marker --alter --add-config retention.ms=1000"
   ]
  },
  {
   "cell_type": "markdown",
   "metadata": {},
   "source": [
    "## Windows\n",
    "\n",
    "Who cares"
   ]
  }
 ],
 "metadata": {
  "kernelspec": {
   "display_name": "Python 3",
   "language": "python",
   "name": "python3"
  },
  "language_info": {
   "codemirror_mode": {
    "name": "ipython",
    "version": 3
   },
   "file_extension": ".py",
   "mimetype": "text/x-python",
   "name": "python",
   "nbconvert_exporter": "python",
   "pygments_lexer": "ipython3",
   "version": "3.8.3"
  }
 },
 "nbformat": 4,
 "nbformat_minor": 4
}
