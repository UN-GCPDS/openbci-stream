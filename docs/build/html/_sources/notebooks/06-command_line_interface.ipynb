{
 "cells": [
  {
   "cell_type": "markdown",
   "metadata": {},
   "source": [
    "# Command line interface"
   ]
  },
  {
   "cell_type": "markdown",
   "metadata": {},
   "source": [
    "This interface is useful to debug, test connections and features. It can be used for start acquisition or simply connect to an existing one, stream markers, and storage data."
   ]
  },
  {
   "cell_type": "code",
   "execution_count": 3,
   "metadata": {},
   "outputs": [
    {
     "name": "stdout",
     "output_type": "stream",
     "text": [
      "usage: openbci_cli [-h] {serial,wifi,stream,marker} ...\n",
      "\n",
      "Command line interface for OpenBCI-Stream\n",
      "\n",
      "optional arguments:\n",
      "  -h, --help            show this help message and exit\n",
      "\n",
      "Endpoint:\n",
      "  {serial,wifi,stream,marker}\n",
      "    serial              Endpoint using Serial protocol\n",
      "    wifi                Endpoint using WiFi module\n",
      "    stream              Real-time transmission packages debugger\n",
      "    marker              Real-time markers streamer\n",
      "\n",
      "OpenBCI-Stream is software package developed by GCPDS\n"
     ]
    }
   ],
   "source": [
    "$ openbci_cli -h"
   ]
  },
  {
   "cell_type": "markdown",
   "metadata": {},
   "source": [
    "## Endpoints\n",
    "There are 4 endpoints: `serial`, `wifi`, `stream` and `marker`"
   ]
  },
  {
   "cell_type": "markdown",
   "metadata": {},
   "source": [
    "### `serial` and `wifi`\n",
    "\n",
    "The difference between `serial` and `wifi` are the options `--port` and `--ip` respectively, the first is used to select the serial port and the second is used for select the IP of the WiFi module. Additionally, we can use the option `--output` for specifying a file to write the acquired data in format `hdf5` and `--command` to send commands based on the [SDK](https://docs.openbci.com/docs/02Cyton/CytonSDK) documentation.  "
   ]
  },
  {
   "cell_type": "code",
   "execution_count": 1,
   "metadata": {},
   "outputs": [
    {
     "name": "stdout",
     "output_type": "stream",
     "text": [
      "usage: openbci_cli [-h] {serial,wifi,stream,marker} ...\n",
      "\n",
      "Command line interface for OpenBCI-Stream\n",
      "\n",
      "optional arguments:\n",
      "  -h, --help            show this help message and exit\n",
      "\n",
      "Endpoint:\n",
      "  {serial,wifi,stream,marker}\n",
      "    serial              Endpoint using Serial protocol\n",
      "    wifi                Endpoint using WiFi module\n",
      "    stream              Real-time transmission packages debugger\n",
      "    marker              Real-time markers streamer\n",
      "\n",
      "OpenBCI-Stream is software package developed by GCPDS\n"
     ]
    }
   ],
   "source": [
    "$ openbci_cli serial -h"
   ]
  },
  {
   "cell_type": "markdown",
   "metadata": {},
   "source": [
    "For example if we wan to start a stream from serial device in port `/dev/ttyUSB0` with daisy module attached, streaming 250 samples per second:"
   ]
  },
  {
   "cell_type": "code",
   "execution_count": null,
   "metadata": {},
   "outputs": [],
   "source": [
    "$ openbci_cli serial --port /dev/ttyUSB0 --daisy --streaming_package_size 250 "
   ]
  },
  {
   "cell_type": "markdown",
   "metadata": {},
   "source": [
    "or start a stream from wifi device in IP `192.168.1.113` in marker mode without daisy module, streaming 2000 samples per second:"
   ]
  },
  {
   "cell_type": "code",
   "execution_count": null,
   "metadata": {},
   "outputs": [],
   "source": [
    "$ openbci_cli wifi --ip 192.168.1.113 -s 1000 -c ~4"
   ]
  },
  {
   "cell_type": "markdown",
   "metadata": {},
   "source": [
    "the option `~4` according to the [SDK](https://docs.openbci.com/docs/02Cyton/CytonSDK#sample-rate) is for configure the sample rate in 1000 samples per second, `SAMPLE_RATE_2KSPS` is valid too:"
   ]
  },
  {
   "cell_type": "code",
   "execution_count": null,
   "metadata": {},
   "outputs": [],
   "source": [
    "$ openbci_cli wifi --ip 192.168.1.113 -s 1000 -c SAMPLE_RATE_2KSPS"
   ]
  },
  {
   "cell_type": "markdown",
   "metadata": {},
   "source": [
    "### `stream`\n",
    "\n",
    "With this option, we access to a real-time debugger to view the streaming status. We can use the option `--output` for specifying a file to write the acquired data in format `hdf5`."
   ]
  },
  {
   "cell_type": "code",
   "execution_count": null,
   "metadata": {},
   "outputs": [],
   "source": [
    "$ openbci_cli stream -h"
   ]
  },
  {
   "cell_type": "markdown",
   "metadata": {},
   "source": [
    "### `marker`\n",
    "\n",
    "With this option, we enter into an interactive terminal to create and stream markers."
   ]
  },
  {
   "cell_type": "code",
   "execution_count": null,
   "metadata": {},
   "outputs": [],
   "source": [
    "$ openbci_cli marker"
   ]
  },
  {
   "cell_type": "code",
   "execution_count": null,
   "metadata": {},
   "outputs": [],
   "source": [
    ">>>"
   ]
  },
  {
   "cell_type": "markdown",
   "metadata": {},
   "source": [
    "## Remote host"
   ]
  },
  {
   "cell_type": "markdown",
   "metadata": {},
   "source": [
    "All interfaces and commands here explained can be executed from a [remote host](A4-configure_remote_host) with the option `--host`:"
   ]
  },
  {
   "cell_type": "code",
   "execution_count": null,
   "metadata": {},
   "outputs": [],
   "source": [
    "$ openbci_cli serial --host 192.168.1.113 --port /dev/ttyUSB0 --daisy --streaming_package_size 250"
   ]
  },
  {
   "cell_type": "code",
   "execution_count": null,
   "metadata": {},
   "outputs": [],
   "source": [
    "$ openbci_cli stream -h --host 192.168.1.113"
   ]
  },
  {
   "cell_type": "code",
   "execution_count": null,
   "metadata": {},
   "outputs": [],
   "source": [
    "$ openbci_cli marker --host 192.168.1.113"
   ]
  }
 ],
 "metadata": {
  "kernelspec": {
   "display_name": "Python 3",
   "language": "python",
   "name": "python3"
  },
  "language_info": {
   "codemirror_mode": {
    "name": "ipython",
    "version": 3
   },
   "file_extension": ".py",
   "mimetype": "text/x-python",
   "name": "python",
   "nbconvert_exporter": "python",
   "pygments_lexer": "ipython3",
   "version": "3.9.3"
  }
 },
 "nbformat": 4,
 "nbformat_minor": 4
}
