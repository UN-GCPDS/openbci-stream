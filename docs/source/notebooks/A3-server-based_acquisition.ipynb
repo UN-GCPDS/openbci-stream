{
 "cells": [
  {
   "cell_type": "markdown",
   "metadata": {},
   "source": [
    "# Appendix 3 - Raspberry-based acquisition"
   ]
  },
  {
   "cell_type": "markdown",
   "metadata": {},
   "source": [
    "This appendix describes the process for implement an acquisition server based on Raspberry Pi, the main goal of using Raspberry is to get a fully controlled system. The operating system chosen for this purpose is [Arch Linux ARM](https://archlinuxarm.org/)."
   ]
  },
  {
   "cell_type": "markdown",
   "metadata": {},
   "source": [
    "## Step 1 - Install Arch Linux ARM\n",
    "\n",
    "The process of installation is very simple, there is a [guide](https://archlinuxarm.org/platforms/armv8/broadcom/raspberry-pi-4) on the official site.  \n",
    "First at all run a complete system update and install and [configure sudo](https://wiki.archlinux.org/index.php/sudo) to use it with the default user."
   ]
  },
  {
   "cell_type": "code",
   "execution_count": null,
   "metadata": {},
   "outputs": [],
   "source": [
    "$ pacman -Suy\n",
    "$ pacman -S sudo"
   ]
  },
  {
   "cell_type": "markdown",
   "metadata": {},
   "source": [
    "## TL;WR\n",
    "Steps 2 to 6 can be done by a single command, that's not fun, but:"
   ]
  },
  {
   "cell_type": "code",
   "execution_count": null,
   "metadata": {},
   "outputs": [],
   "source": [
    "$ pacman -S wget\n",
    "$ wget https://raw.githubusercontent.com/UN-GCPDS/openbci-stream/master/cmd/stream_tlwr.sh\n",
    "$ chmod a+x stream_tlwr.sh\n",
    "$ ./stream_tlwr.sh"
   ]
  },
  {
   "cell_type": "markdown",
   "metadata": {},
   "source": [
    "And jump to [Step 7](#Step-7---Test-server)"
   ]
  },
  {
   "cell_type": "markdown",
   "metadata": {},
   "source": [
    "## Step 2 - Install dependencies\n",
    "\n",
    "The basic dependencies like `python-pip`, `gcc`, `cython` and `hdf5` can be installed with:"
   ]
  },
  {
   "cell_type": "code",
   "execution_count": null,
   "metadata": {},
   "outputs": [],
   "source": [
    "$ pacman -S python python-pip gcc cython hdf5"
   ]
  },
  {
   "cell_type": "markdown",
   "metadata": {},
   "source": [
    "The main module `openbci-stream` can be installed with:"
   ]
  },
  {
   "cell_type": "code",
   "execution_count": null,
   "metadata": {},
   "outputs": [],
   "source": [
    "$ pip install openbci-stream"
   ]
  },
  {
   "cell_type": "markdown",
   "metadata": {},
   "source": [
    "`openbci-stream` will install a set of scripts for easy environment configuration."
   ]
  },
  {
   "cell_type": "markdown",
   "metadata": {},
   "source": [
    "The following command will download the [PKGBUILD](https://github.com/UN-GCPDS/archlinux-PKGBUILD) for [kafka](https://kafka.apache.org/) and [zookeeper](https://zookeeper.apache.org/) and then install them:"
   ]
  },
  {
   "cell_type": "code",
   "execution_count": null,
   "metadata": {},
   "outputs": [],
   "source": [
    "$ stream_install_kafka.sh "
   ]
  },
  {
   "cell_type": "markdown",
   "metadata": {},
   "source": [
    "<div class=\"alert alert-info\"> <b>Note</b><br>\n",
    "\n",
    "Arch Linux ARM could be a bit fussy about install `scipy` from `pip`, the best option here is use the default package manager:  \n",
    "`pacman -S python-scipy --overwrite='/usr/lib/python3.8/site-packages/*' --overwrite='/usr/bin/*'`  \n",
    "\n",
    "</div>"
   ]
  },
  {
   "cell_type": "markdown",
   "metadata": {},
   "source": [
    "## Step 3 - Configure Kafka\n",
    "\n",
    "The kafka configuration can be done simply by executing the script `stream_configure_kafka.sh` included on `openbci-stream` package:"
   ]
  },
  {
   "cell_type": "code",
   "execution_count": null,
   "metadata": {},
   "outputs": [],
   "source": [
    "$ stream_configure_kafka.sh "
   ]
  },
  {
   "cell_type": "markdown",
   "metadata": {},
   "source": [
    "## Step 4 - Configure an access point\n",
    "\n",
    "The main purpose of this guide is to configure the Raspberry as an access point, the next script will configure a WiFi network called `OpenBCI-Stream` with password `raspberrypi`:"
   ]
  },
  {
   "cell_type": "code",
   "execution_count": null,
   "metadata": {},
   "outputs": [],
   "source": [
    "$ stream_access_point.sh"
   ]
  },
  {
   "cell_type": "markdown",
   "metadata": {},
   "source": [
    "<div class=\"alert alert-info\"> <b>Note</b><br>\n",
    "    \n",
    "If you are connected via WiFi, this connection will be lost after restart the Raspberry, you may wish to connect using other methods (Ethernet, USB) in ways to continue the configuration.  \n",
    "\n",
    "</div>"
   ]
  },
  {
   "cell_type": "markdown",
   "metadata": {},
   "source": [
    "## Step 5 - Configure time server\n",
    "\n",
    "This step is very important if you want to stream markers with high time precision, consist in configure the Raspberry as an [NTP](https://wiki.archlinux.org/index.php/Network_Time_Protocol_daemon#NTP_server_mode) server."
   ]
  },
  {
   "cell_type": "code",
   "execution_count": null,
   "metadata": {},
   "outputs": [],
   "source": [
    "$ stream_configure_ntpd.sh"
   ]
  },
  {
   "cell_type": "markdown",
   "metadata": {},
   "source": [
    "The command above install dependencies, configure the server, and start the daemons.  \n",
    "Now in our client, assuming that we are using a GNU/Linux, we must add `server 192.168.1.1 iburst prefer` on the configuration file `/etc/ntp.conf` and restart `ntpd`"
   ]
  },
  {
   "cell_type": "markdown",
   "metadata": {},
   "source": [
    "## Step 6 - Start acquisition daemons"
   ]
  },
  {
   "cell_type": "code",
   "execution_count": null,
   "metadata": {},
   "outputs": [],
   "source": [
    "$ stream_eeg systemd\n",
    "$ stream_rpyc systemd"
   ]
  },
  {
   "cell_type": "markdown",
   "metadata": {},
   "source": [
    "The commands above will create the respective services for acquisition streaming and distributed access. And then, for initialize them:"
   ]
  },
  {
   "cell_type": "code",
   "execution_count": null,
   "metadata": {},
   "outputs": [],
   "source": [
    "$ systemctl enable stream_eeg stream_rpyc\n",
    "$ systemctl start stream_eeg stream_rpyc"
   ]
  },
  {
   "cell_type": "markdown",
   "metadata": {},
   "source": [
    "## Step 7 - Test server\n",
    "\n",
    "<div class=\"alert alert-warning\"> <b>Warning</b><br>\n",
    "    \n",
    "From this step forward the commands <b>are not</b> executed on Raspberry, but on your <b>main computer</b>. \n",
    "\n",
    "</div>"
   ]
  },
  {
   "cell_type": "markdown",
   "metadata": {},
   "source": [
    "For a complete test, we will need an OpenBCI board connected, in any mode, Serial or WiFi (so be sure about configuring serial port permissions).\n",
    "\n",
    "### WiFi Shield\n",
    "For a WiFi shield, we must know the correct IP, usually this IP not change over time, so if we found it the first time is very likely that we can use the same in other opportunities.  \n",
    "You can use [nmap](https://wiki.archlinux.org/index.php/nmap#Ping_scan) to scan devices:"
   ]
  },
  {
   "cell_type": "code",
   "execution_count": null,
   "metadata": {},
   "outputs": [],
   "source": [
    "$ ssh alarm@192.168.1.1\n",
    "$ nmap -sn 192.168.1.2/24"
   ]
  },
  {
   "cell_type": "markdown",
   "metadata": {},
   "source": [
    "### Test boards\n",
    "At this point we have `OpenBCI-Stream` installed on Raspberry, now we need to install `OpenBCI-Stream` on the main computer too, also [Kafka must be installed and running](02-kafka_configuration.ipynb)."
   ]
  },
  {
   "cell_type": "code",
   "execution_count": null,
   "metadata": {},
   "outputs": [],
   "source": [
    "$ openbci_cli wifi --ip 192.168.1.113 --host 192.168.1.1 -c SAMPLE_RATE_250SPS"
   ]
  },
  {
   "cell_type": "markdown",
   "metadata": {},
   "source": [
    "Here, `192.168.1.113` is the IP assigned from Raspberry to the WiFi module and `192.168.1.1` is the Raspberry IP itself. If everything is ok, a data stream will be printed on the terminal."
   ]
  },
  {
   "cell_type": "markdown",
   "metadata": {},
   "source": [
    "### Test NTP server\n",
    "\n",
    "We can test and synchronize with the server with this command:"
   ]
  },
  {
   "cell_type": "code",
   "execution_count": 10,
   "metadata": {},
   "outputs": [
    {
     "name": "stdout",
     "output_type": "stream",
     "text": [
      "26 Oct 17:38:28 ntpdate[32205]: ntpdate 4.2.8p15@1.3728-o Wed Jul  1 17:02:17 UTC 2020 (1)\n",
      "Looking for host 192.168.1.1 and service ntp\n",
      "192.168.1.1 reversed to _gateway\n",
      "host found : _gateway\n",
      "transmit(192.168.1.1)\n",
      "receive(192.168.1.1)\n",
      "transmit(192.168.1.1)\n",
      "receive(192.168.1.1)\n",
      "transmit(192.168.1.1)\n",
      "receive(192.168.1.1)\n",
      "transmit(192.168.1.1)\n",
      "receive(192.168.1.1)\n",
      "\n",
      "server 192.168.1.1, port 123\n",
      "stratum 4, precision -20, leap 00, trust 000\n",
      "refid [162.159.200.1], root delay 0.139526, root dispersion 0.078171\n",
      "reference time:      e341cce9.4ef3aa7d  Mon, Oct 26 2020 17:32:09.308\n",
      "originate timestamp: e341ce6b.10600a1b  Mon, Oct 26 2020 17:38:35.063\n",
      "transmit timestamp:  e341ce6b.109e15f3  Mon, Oct 26 2020 17:38:35.064\n",
      "filter delay:  0.48293    0.06233    0.04648    0.06221   \n",
      "               ----       ----       ----       ----      \n",
      "filter offset: +0.188384  -0.019893  -0.027461  -0.019337 \n",
      "               ----       ----       ----       ----      \n",
      "delay 0.04648, dispersion 0.03293, offset -0.027461\n",
      "\n",
      "26 Oct 17:38:35 ntpdate[32205]: adjust time server 192.168.1.1 offset -0.027461 sec\n"
     ]
    }
   ],
   "source": [
    "ntpdate -d 192.168.1.1 "
   ]
  },
  {
   "cell_type": "markdown",
   "metadata": {},
   "source": [
    "In case of obtaining this output `no server suitable for synchronization found`, is due that the server (Raspberry) [has not synchronized itself with other servers](http://www.markelov.org/wiki/index.php?title=NTP._Server_dropped:_strata_too_high), just wait and try again."
   ]
  },
  {
   "cell_type": "markdown",
   "metadata": {},
   "source": [
    "Is possible to check wich server is used for syncronization with the follow command, the syncronization not ocurss instantanely, in some cases is necesario wait up to 10 minutes."
   ]
  },
  {
   "cell_type": "code",
   "execution_count": 8,
   "metadata": {},
   "outputs": [
    {
     "name": "stdout",
     "output_type": "stream",
     "text": [
      "     remote           refid      st t when poll reach   delay   offset  jitter\n",
      "==============================================================================\n",
      "*192.168.1.1     162.159.200.1    4 u   14   64    1    2.017  -33.339   1.614\n"
     ]
    }
   ],
   "source": [
    "!ntpq -pn"
   ]
  },
  {
   "cell_type": "markdown",
   "metadata": {},
   "source": [
    "### Troubleshooting\n",
    "\n",
    "  * **No streaming data:** Make sure that the WiFi module was still connected and the Serial devices have read and write permissions.\n",
    "  * **Kafka without connection:** Kafka must be running on every single machine that wants to connect to the stream, there is no special configuration, the default is enough.\n",
    " "
   ]
  }
 ],
 "metadata": {
  "kernelspec": {
   "display_name": "Python 3",
   "language": "python",
   "name": "python3"
  },
  "language_info": {
   "codemirror_mode": {
    "name": "ipython",
    "version": 3
   },
   "file_extension": ".py",
   "mimetype": "text/x-python",
   "name": "python",
   "nbconvert_exporter": "python",
   "pygments_lexer": "ipython3",
   "version": "3.9.2"
  }
 },
 "nbformat": 4,
 "nbformat_minor": 4
}
