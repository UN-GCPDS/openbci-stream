{
 "cells": [
  {
   "cell_type": "markdown",
   "metadata": {},
   "source": [
    "# Command line interface"
   ]
  },
  {
   "cell_type": "markdown",
   "metadata": {},
   "source": [
    "This interface is useful to debug, test connections and features. "
   ]
  },
  {
   "cell_type": "code",
   "execution_count": 1,
   "metadata": {},
   "outputs": [
    {
     "name": "stdout",
     "output_type": "stream",
     "text": [
      "usage: openbci_cli [-h] {serial,wifi,stream,marker} ...\n",
      "\n",
      "Command line interface for OpenBCI-Stream\n",
      "\n",
      "optional arguments:\n",
      "  -h, --help            show this help message and exit\n",
      "\n",
      "Interface:\n",
      "  {serial,wifi,stream,marker}\n",
      "    serial              Interface using Serial protocol\n",
      "    wifi                Interface using WiFi module\n",
      "    stream              Real-time transmission packages debugger\n",
      "    marker              Real-time markers streamer\n",
      "\n",
      "OpenBCI-Stream is software package developed by GCPDS\n"
     ]
    }
   ],
   "source": [
    "!openbci_cli -h"
   ]
  },
  {
   "cell_type": "markdown",
   "metadata": {},
   "source": [
    "## Endpoints\n",
    "There are 4 endpoints: `serial`, `wifi`, `stream` and `marker`"
   ]
  },
  {
   "cell_type": "markdown",
   "metadata": {},
   "source": [
    "### `serial` and `wifi`\n",
    "\n",
    "With this option we can `--star` and `--stop` the data streaming, we can too send a `--command` based on the [SDK](https://docs.openbci.com/docs/02Cyton/CytonSDK) documentation.  \n",
    "The difference between `serial` and `wifi` are the options `--port` and `--ip` respectively, the first is used to select the serial port and the second is used for select the IP of the WiFi module. Additionally, we can use the option `--output` for specifying a file to write the acquired data in format `hdf5`."
   ]
  },
  {
   "cell_type": "code",
   "execution_count": 2,
   "metadata": {},
   "outputs": [
    {
     "name": "stdout",
     "output_type": "stream",
     "text": [
      "usage: openbci_cli serial [-h] [--start | --stop] [-c COMMAND [COMMAND ...]]\n",
      "                          [-s STREAMING_PACKAGE_SIZE] [-d] [--host HOST]\n",
      "                          [--output OUTPUT] [--port PORT]\n",
      "\n",
      "optional arguments:\n",
      "  -h, --help            show this help message and exit\n",
      "  --start               Start stream\n",
      "  --stop                Stop stream\n",
      "  -c COMMAND [COMMAND ...], --command COMMAND [COMMAND ...]\n",
      "                        Send commands after connection established\n",
      "  -s STREAMING_PACKAGE_SIZE, --streaming_package_size STREAMING_PACKAGE_SIZE\n",
      "                        Number of samples to receive in stream\n",
      "  -d, --daisy           Enable or disable daisy\n",
      "  --host HOST           Hostname where is running the acquisition system\n",
      "  --output OUTPUT       Write stream into file\n",
      "  --port PORT           Serial port\n"
     ]
    }
   ],
   "source": [
    "!openbci_cli serial -h"
   ]
  },
  {
   "cell_type": "markdown",
   "metadata": {},
   "source": [
    "For example if we wan to start a stream from serial device in port `/dev/ttyUSB0` with daisy module attached, streaming 250 samples per second:"
   ]
  },
  {
   "cell_type": "code",
   "execution_count": null,
   "metadata": {},
   "outputs": [],
   "source": [
    "!openbci_cli serial --port /dev/ttyUSB0 --daisy --streaming_package_size 250 "
   ]
  },
  {
   "cell_type": "markdown",
   "metadata": {},
   "source": [
    "or start a stream from wifi device in IP `192.168.1.113` in marker mode without daisy module, streaming 2000 samples per second:"
   ]
  },
  {
   "cell_type": "code",
   "execution_count": 1,
   "metadata": {},
   "outputs": [
    {
     "name": "stdout",
     "output_type": "stream",
     "text": [
      "zsh:1: not enough directory stack entries.\n"
     ]
    }
   ],
   "source": [
    "!openbci_cli wifi --ip 192.168.1.113 -s 1000 -c ~4"
   ]
  },
  {
   "cell_type": "markdown",
   "metadata": {},
   "source": [
    "the option `~4` according to the [SDK](https://docs.openbci.com/docs/02Cyton/CytonSDK#sample-rate) is for configure the sample rate in 1000 samples per second, `SAMPLE_RATE_2KSPS` is valid too:"
   ]
  },
  {
   "cell_type": "code",
   "execution_count": null,
   "metadata": {},
   "outputs": [],
   "source": [
    "!openbci_cli wifi --ip 192.168.1.113 -s 1000 -c SAMPLE_RATE_2KSPS"
   ]
  },
  {
   "cell_type": "markdown",
   "metadata": {},
   "source": [
    "### `stream`\n",
    "\n",
    "With this option, we access to a real-time debugger to view the streaming status. We can use the option `--output` for specifying a file to write the acquired data in format `hdf5`."
   ]
  },
  {
   "cell_type": "code",
   "execution_count": 6,
   "metadata": {},
   "outputs": [
    {
     "name": "stdout",
     "output_type": "stream",
     "text": [
      "usage: openbci_cli stream [-h] [--host HOST] [--output OUTPUT]\n",
      "\n",
      "optional arguments:\n",
      "  -h, --help       show this help message and exit\n",
      "  --host HOST      Hostname where is running the acquisition system\n",
      "  --output OUTPUT  Write stream into file\n"
     ]
    }
   ],
   "source": [
    "!openbci_cli stream -h"
   ]
  },
  {
   "cell_type": "markdown",
   "metadata": {},
   "source": [
    "### `marker`\n",
    "\n",
    "With this option, we enter into an interactive terminal to create and stream markers."
   ]
  },
  {
   "cell_type": "code",
   "execution_count": null,
   "metadata": {},
   "outputs": [],
   "source": [
    "!openbci_cli marker"
   ]
  },
  {
   "cell_type": "code",
   "execution_count": null,
   "metadata": {},
   "outputs": [],
   "source": [
    ">>>"
   ]
  },
  {
   "cell_type": "markdown",
   "metadata": {},
   "source": [
    "## Remote host"
   ]
  },
  {
   "cell_type": "markdown",
   "metadata": {},
   "source": [
    "All interfaces and commands here explained can be executed from a [remote host](A4-configure_remote_host) with the option `--host`:"
   ]
  },
  {
   "cell_type": "code",
   "execution_count": null,
   "metadata": {},
   "outputs": [],
   "source": [
    "!openbci_cli serial --host 192.168.1.113 --port /dev/ttyUSB0 --daisy --streaming_package_size 250"
   ]
  },
  {
   "cell_type": "code",
   "execution_count": null,
   "metadata": {},
   "outputs": [],
   "source": [
    "!openbci_cli stream -h --host 192.168.1.113"
   ]
  },
  {
   "cell_type": "code",
   "execution_count": null,
   "metadata": {},
   "outputs": [],
   "source": [
    "!openbci_cli marker --host 192.168.1.113"
   ]
  }
 ],
 "metadata": {
  "kernelspec": {
   "display_name": "Python 3",
   "language": "python",
   "name": "python3"
  },
  "language_info": {
   "codemirror_mode": {
    "name": "ipython",
    "version": 3
   },
   "file_extension": ".py",
   "mimetype": "text/x-python",
   "name": "python",
   "nbconvert_exporter": "python",
   "pygments_lexer": "ipython3",
   "version": "3.8.6"
  }
 },
 "nbformat": 4,
 "nbformat_minor": 4
}
