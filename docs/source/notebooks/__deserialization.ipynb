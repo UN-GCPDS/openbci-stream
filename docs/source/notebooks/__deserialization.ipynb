{
 "cells": [
  {
   "cell_type": "code",
   "execution_count": 15,
   "id": "11f245e2-4b70-4da4-bc55-ce818e5400dc",
   "metadata": {},
   "outputs": [],
   "source": [
    "import os\n",
    "import struct\n",
    "import rawutil\n",
    "import numpy as np\n",
    "\n",
    "aux = np.load(os.path.join('data', 'AUX.npy'))\n",
    "eeg = np.load(os.path.join('data', 'EEG.npy'))"
   ]
  },
  {
   "cell_type": "markdown",
   "id": "fa738ece-1337-4225-8787-f9c50a5d2fe0",
   "metadata": {},
   "source": [
    "# Deserialization"
   ]
  },
  {
   "cell_type": "markdown",
   "id": "81782d1f-18f2-4090-b88a-84a31e9af095",
   "metadata": {},
   "source": [
    "## AUX"
   ]
  },
  {
   "cell_type": "markdown",
   "id": "760ee81a-75bb-470a-9845-a959e826b061",
   "metadata": {},
   "source": [
    "### ```rawutil```"
   ]
  },
  {
   "cell_type": "code",
   "execution_count": 29,
   "id": "b03b0d7e-3b38-452c-8103-3966c90c56da",
   "metadata": {
    "tags": []
   },
   "outputs": [
    {
     "name": "stdout",
     "output_type": "stream",
     "text": [
      "2.36 ms ± 89.7 µs per loop (mean ± std. dev. of 7 runs, 100 loops each)\n"
     ]
    }
   ],
   "source": [
    "%%timeit\n",
    "np.array([[rawutil.unpack('>H', bytes(ch))[0] for ch in row.reshape(-1, 2).tolist()][:2] for row in aux])"
   ]
  },
  {
   "cell_type": "markdown",
   "id": "a65bd443-bc38-4cd4-9a7d-d083b45fbdad",
   "metadata": {},
   "source": [
    "### ```struct```"
   ]
  },
  {
   "cell_type": "code",
   "execution_count": 30,
   "id": "ab6f33ea-186d-43d8-bf58-dbbcfb57683f",
   "metadata": {},
   "outputs": [
    {
     "name": "stdout",
     "output_type": "stream",
     "text": [
      "185 µs ± 3.27 µs per loop (mean ± std. dev. of 7 runs, 10000 loops each)\n"
     ]
    }
   ],
   "source": [
    "%%timeit\n",
    "np.array([struct.unpack('>hhh', a.astype('i1').tobytes())[:2] for a in aux])"
   ]
  },
  {
   "cell_type": "markdown",
   "id": "959ce2d3-2d03-4fc2-9d39-ef57b34aad12",
   "metadata": {},
   "source": [
    "## EEG"
   ]
  },
  {
   "cell_type": "markdown",
   "id": "d5cf0888-9c40-4b0e-be2e-f92509bd148a",
   "metadata": {},
   "source": [
    "### ```rawutil```"
   ]
  },
  {
   "cell_type": "code",
   "execution_count": 130,
   "id": "ebe7adce-8f16-4fec-af00-57e47a04fb83",
   "metadata": {
    "tags": []
   },
   "outputs": [
    {
     "name": "stdout",
     "output_type": "stream",
     "text": [
      "6.23 ms ± 194 µs per loop (mean ± std. dev. of 7 runs, 100 loops each)\n"
     ]
    }
   ],
   "source": [
    "%%timeit\n",
    "np.array([[rawutil.unpack('>u', bytes(ch))[0] for ch in row.reshape(-1, 3).tolist()] for row in eeg])"
   ]
  },
  {
   "cell_type": "markdown",
   "id": "e44422b5-875b-4429-8400-41bb15716cf5",
   "metadata": {},
   "source": [
    "### ```struct```"
   ]
  },
  {
   "cell_type": "code",
   "execution_count": 131,
   "id": "e4002d5e-91c9-4f3e-9565-dc508e1e704c",
   "metadata": {},
   "outputs": [
    {
     "name": "stdout",
     "output_type": "stream",
     "text": [
      "1.11 ms ± 35 µs per loop (mean ± std. dev. of 7 runs, 1000 loops each)\n"
     ]
    }
   ],
   "source": [
    "%%timeit\n",
    "np.array([struct.unpack('>i', (b'\\0' if chunk[0] < 128 else b'\\xff') + chunk) for chunk in [bytes(ch.tolist()) for ch in eeg.reshape(-1, 3)]]).reshape(-1, 8)"
   ]
  }
 ],
 "metadata": {
  "kernelspec": {
   "display_name": "Python 3",
   "language": "python",
   "name": "python3"
  },
  "language_info": {
   "codemirror_mode": {
    "name": "ipython",
    "version": 3
   },
   "file_extension": ".py",
   "mimetype": "text/x-python",
   "name": "python",
   "nbconvert_exporter": "python",
   "pygments_lexer": "ipython3",
   "version": "3.9.7"
  }
 },
 "nbformat": 4,
 "nbformat_minor": 5
}
