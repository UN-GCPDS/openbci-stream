{
 "cells": [
  {
   "cell_type": "code",
   "execution_count": 1,
   "metadata": {
    "nbsphinx": "hidden"
   },
   "outputs": [
    {
     "name": "stderr",
     "output_type": "stream",
     "text": [
      "INFO:OpenBCI-Stream:Compiled `Butter` filter (27|37 Hz) for 250.00 Hz\n"
     ]
    }
   ],
   "source": [
    "from openbci_stream.acquisition import Cyton, OpenBCIConsumer\n",
    "from openbci_stream.acquisition import CytonConstants as cons\n",
    "\n",
    "from gcpds.utils.filters import GenericButterBand, notch60\n",
    "from gcpds.utils.processing import welch, fourier\n",
    "\n",
    "from matplotlib import pyplot as plt\n",
    "import numpy as np\n",
    "import time\n",
    "\n",
    "from gcpds.utils.visualizations import plot_eeg\n",
    "\n",
    "import logging\n",
    "logging.getLogger().setLevel(logging.INFO)\n",
    "logging.getLogger('kafka').setLevel(logging.ERROR)\n",
    "logging.getLogger('matplotlib').setLevel(logging.ERROR)\n",
    "\n",
    "def show(data):\n",
    "    plt.figure(figsize=(10, 5), dpi=90)\n",
    "\n",
    "    plt.subplot(121)\n",
    "    [plt.plot(ch+(i*1e6)-ch.mean()) for (i, ch) in enumerate(data)]\n",
    "    if len(data)>1:\n",
    "        plt.yticks(np.arange(len(data))*1e6, [f'ch{ch+1}' for ch in range(len(data))])\n",
    "    else:\n",
    "        plt.ylabel('$\\mu V$')\n",
    "#     plt.xlim(0, 250)\n",
    "    plt.xlabel('samples')\n",
    "\n",
    "    plt.subplot(122)\n",
    "    # w, Y = welch(data, fs=250, axis=1)\n",
    "    w, Y = fourier(data, fs=250, axis=1)\n",
    "    [plt.plot(w, y) for y in Y]\n",
    "    plt.xlim(0, 90)\n",
    "    plt.xlabel('Frequency [Hz]')\n",
    "    \n",
    "band_2737 = GenericButterBand(27, 37, fs=250)\n",
    "\n",
    "def filter_impedance(v):\n",
    "    v = notch60(v, fs=250)\n",
    "    return band_2737(v, fs=250)\n",
    "\n",
    "def get_rms(v):\n",
    "    return np.std(v)\n",
    "#     return (v.max()-v.min())/(2*np.sqrt(2))\n",
    "\n",
    "def get_z(v):\n",
    "    rms = get_rms(v)\n",
    "    z = (1e-6 * rms * np.sqrt(2) / 6e-9) - 2200\n",
    "    if z < 0:\n",
    "        return 0\n",
    "    return z"
   ]
  },
  {
   "cell_type": "markdown",
   "metadata": {},
   "source": [
    "# Appendix 2 - Measuring Electrode Impedance\n",
    "\n",
    "The measuring of impedance in the `ADS1299` is made it by injecting a `6nA` altern current at `31.2 Hz`, in this example will be measured the impedande in the `N` inputs (like used for single reference EEG montages), and will be use the `leadoff_impedance` method to set these inputs in the correct mode.\n",
    "\n",
    "The first step is to connect correctly the Cyton board to replicate this experiment, a `10K` potentiometer will be connected between the `N` input (bottom) of channel 1 and the `SRB2` (bottom), the `BIAS` pin will not be used in this guide, *if you want to test with your head instead of a potentiometer then you must use this pin*."
   ]
  },
  {
   "cell_type": "markdown",
   "metadata": {},
   "source": [
    "<div class=\"alert alert-warning\"> Note\n",
    "\n",
    "  * The impedance measurement does not work correctly on the current version of Cyton Library, but there is a [pull request](https://github.com/OpenBCI/OpenBCI_Cyton_Library/pull/95) that solve this issue.\n",
    "  * Is possible to use versions between V3.0.0 and V3.1.2, but you must reset the board every time before measurement and NEVER change the sample frequency.\n",
    "\n",
    "</div>"
   ]
  },
  {
   "cell_type": "markdown",
   "metadata": {},
   "source": [
    "## Offline measurement"
   ]
  },
  {
   "cell_type": "code",
   "execution_count": 2,
   "metadata": {},
   "outputs": [
    {
     "ename": "TypeError",
     "evalue": "'bool' object is not subscriptable",
     "output_type": "error",
     "traceback": [
      "\u001b[0;31m---------------------------------------------------------------------------\u001b[0m",
      "\u001b[0;31mTypeError\u001b[0m                                 Traceback (most recent call last)",
      "\u001b[0;32m<ipython-input-2-81c0b061d48f>\u001b[0m in \u001b[0;36m<module>\u001b[0;34m\u001b[0m\n\u001b[1;32m      1\u001b[0m \u001b[0;31m# openbci = Cyton('serial', '/dev/ttyUSB1', capture_stream=True, daisy=False)\u001b[0m\u001b[0;34m\u001b[0m\u001b[0;34m\u001b[0m\u001b[0;34m\u001b[0m\u001b[0m\n\u001b[0;32m----> 2\u001b[0;31m \u001b[0mopenbci\u001b[0m \u001b[0;34m=\u001b[0m \u001b[0mCyton\u001b[0m\u001b[0;34m(\u001b[0m\u001b[0;34m'wifi'\u001b[0m\u001b[0;34m,\u001b[0m \u001b[0;34m'192.168.1.185'\u001b[0m\u001b[0;34m,\u001b[0m \u001b[0mhost\u001b[0m\u001b[0;34m=\u001b[0m\u001b[0;34m'192.168.1.1'\u001b[0m\u001b[0;34m,\u001b[0m \u001b[0mstreaming_package_size\u001b[0m\u001b[0;34m=\u001b[0m\u001b[0;36m100\u001b[0m\u001b[0;34m,\u001b[0m \u001b[0mcapture_stream\u001b[0m\u001b[0;34m=\u001b[0m\u001b[0;32mTrue\u001b[0m\u001b[0;34m,\u001b[0m \u001b[0mdaisy\u001b[0m\u001b[0;34m=\u001b[0m\u001b[0;32mFalse\u001b[0m\u001b[0;34m)\u001b[0m\u001b[0;34m\u001b[0m\u001b[0;34m\u001b[0m\u001b[0m\n\u001b[0m\u001b[1;32m      3\u001b[0m \u001b[0;31m# openbci = Cyton('wifi', '192.168.4.1', streaming_package_size=100, daisy=False, capture_stream=True)\u001b[0m\u001b[0;34m\u001b[0m\u001b[0;34m\u001b[0m\u001b[0;34m\u001b[0m\u001b[0m\n\u001b[1;32m      4\u001b[0m \u001b[0;34m\u001b[0m\u001b[0m\n\u001b[1;32m      5\u001b[0m \u001b[0mopenbci\u001b[0m\u001b[0;34m.\u001b[0m\u001b[0mcommand\u001b[0m\u001b[0;34m(\u001b[0m\u001b[0mcons\u001b[0m\u001b[0;34m.\u001b[0m\u001b[0mSAMPLE_RATE_250SPS\u001b[0m\u001b[0;34m)\u001b[0m\u001b[0;34m\u001b[0m\u001b[0;34m\u001b[0m\u001b[0m\n",
      "\u001b[0;32m~/Development/BCI-Framework/openbci-stream/docs/source/notebooks/openbci_stream/acquisition/cyton.py\u001b[0m in \u001b[0;36m__init__\u001b[0;34m(self, mode, endpoint, host, daisy, montage, streaming_package_size, capture_stream, number_of_channels)\u001b[0m\n\u001b[1;32m    781\u001b[0m                                                      number_of_channels)))\n\u001b[1;32m    782\u001b[0m             \u001b[0;32melif\u001b[0m \u001b[0mmode\u001b[0m \u001b[0;34m==\u001b[0m \u001b[0;34m'wifi'\u001b[0m\u001b[0;34m:\u001b[0m\u001b[0;34m\u001b[0m\u001b[0;34m\u001b[0m\u001b[0m\n\u001b[0;32m--> 783\u001b[0;31m                 self.openbci.append(CytonWiFi(end, host, daisy[board_id], mtg,\n\u001b[0m\u001b[1;32m    784\u001b[0m                                               streaming_package_size, capture_stream, board_id, len(\n\u001b[1;32m    785\u001b[0m                                                   number_of_channels)))\n",
      "\u001b[0;31mTypeError\u001b[0m: 'bool' object is not subscriptable"
     ]
    }
   ],
   "source": [
    "# openbci = Cyton('serial', '/dev/ttyUSB1', capture_stream=True, daisy=False)\n",
    "openbci = Cyton('wifi', ['192.168.1.185'], host='192.168.1.1', streaming_package_size=100, capture_stream=True, daisy=False)\n",
    "# openbci = Cyton('wifi', '192.168.4.1', streaming_package_size=100, daisy=False, capture_stream=True)\n",
    "\n",
    "openbci.command(cons.SAMPLE_RATE_250SPS)\n",
    "openbci.command(cons.DEFAULT_CHANNELS_SETTINGS)\n",
    "openbci.leadoff_impedance(range(1, 9), pchan=cons.TEST_SIGNAL_NOT_APPLIED, nchan=cons.TEST_SIGNAL_APPLIED)\n",
    "\n",
    "openbci.stream(5)\n",
    "data_raw = np.array(openbci.eeg_time_series)"
   ]
  },
  {
   "cell_type": "code",
   "execution_count": 75,
   "metadata": {},
   "outputs": [
    {
     "data": {
      "text/plain": [
       "(8, 1200)"
      ]
     },
     "execution_count": 75,
     "metadata": {},
     "output_type": "execute_result"
    }
   ],
   "source": [
    "data_raw.shape"
   ]
  },
  {
   "cell_type": "code",
   "execution_count": 77,
   "metadata": {},
   "outputs": [
    {
     "data": {
      "image/png": "[encoded data removed]",
      "text/plain": [
       "<Figure size 900x450 with 2 Axes>"
      ]
     },
     "metadata": {
      "needs_background": "light"
     },
     "output_type": "display_data"
    }
   ],
   "source": [
    "show([data_raw[0]])"
   ]
  },
  {
   "cell_type": "markdown",
   "metadata": {},
   "source": [
    "We still not see a sinusoidal at `31.2 Hz` but there is one, so, with a filter:"
   ]
  },
  {
   "cell_type": "code",
   "execution_count": 61,
   "metadata": {},
   "outputs": [
    {
     "name": "stderr",
     "output_type": "stream",
     "text": [
      "INFO:OpenBCI-Stream:Compiled `Butter` filter (27|37 Hz) for 250.00 Hz\n"
     ]
    },
    {
     "data": {
      "image/png": "[encoded data removed]",
      "text/plain": [
       "<Figure size 900x450 with 2 Axes>"
      ]
     },
     "metadata": {
      "needs_background": "light"
     },
     "output_type": "display_data"
    }
   ],
   "source": [
    "band_2737 = GenericButterBand(27, 37, fs=250)\n",
    "\n",
    "def filter_impedance(v):\n",
    "#     v = notch60(v, fs=250)\n",
    "    return band_2737(v, fs=250)\n",
    "\n",
    "data = filter_impedance(data_raw)\n",
    "# data = data[:, 100:-100]\n",
    "\n",
    "show([data[0]])"
   ]
  },
  {
   "cell_type": "markdown",
   "metadata": {},
   "source": [
    "Now we need the `RMS` voltage, there is a lot of formulas to get this value, even using the `std`, but I like to use one based on the `VPP`:\n",
    "\n",
    "$$\n",
    "V_{RMS}=\\frac{V_{pp}}{2\\sqrt{2}}\\sim std(V)\n",
    "$$\n",
    "\n",
    "Our `Vpp` can be calculated as the *maximun* - *minimum*. In some approaches, is very common to found the usage of `standard deviation` instead of RMS."
   ]
  },
  {
   "cell_type": "code",
   "execution_count": 62,
   "metadata": {},
   "outputs": [
    {
     "data": {
      "text/plain": [
       "14.416865121786671"
      ]
     },
     "execution_count": 62,
     "metadata": {},
     "output_type": "execute_result"
    }
   ],
   "source": [
    "def get_rms(v):\n",
    "    return np.std(v)\n",
    "#     return (v.max()-v.min())/(2*np.sqrt(2))\n",
    "\n",
    "rms = get_rms(data[0])\n",
    "rms"
   ]
  },
  {
   "cell_type": "markdown",
   "metadata": {},
   "source": [
    "$$\n",
    "Z=\\frac{V_{RMS}}{I_{RMS}}\n",
    "$$\n",
    "\n",
    "We know that the `ADS1299` injects a `6nA` of alternating current, so:\n",
    "\n",
    "$$\n",
    "I_{RMS}=\\frac{6nA}{\\sqrt{2}}\n",
    "$$\n",
    "\n",
    "Then, considering that we have `uV` instaead of `V`:\n",
    "\n",
    "$$\n",
    "Z=\\frac{\\mu V_{RMS}\\cdot10^{-6}\\cdot\\sqrt{2}}{6\\cdot10^{-9}}\n",
    "$$"
   ]
  },
  {
   "cell_type": "code",
   "execution_count": 56,
   "metadata": {},
   "outputs": [
    {
     "name": "stdout",
     "output_type": "stream",
     "text": [
      "For 346.00 uVrms the electrode impedance is 81.55 KOhm\n"
     ]
    }
   ],
   "source": [
    "def get_z(v):\n",
    "    rms = get_rms(v)\n",
    "    return 1e-6 * rms * np.sqrt(2) / 6e-9\n",
    "\n",
    "z = get_z(data[0])\n",
    "print(f'For {rms:.2f} uVrms the electrode impedance is {z/1000:.2f} KOhm')"
   ]
  },
  {
   "cell_type": "markdown",
   "metadata": {},
   "source": [
    "The Cyton board has a 2.2K Ohm resistors in series with each electrode, so we must remove this value in way to get the real one."
   ]
  },
  {
   "cell_type": "code",
   "execution_count": 9,
   "metadata": {},
   "outputs": [
    {
     "name": "stdout",
     "output_type": "stream",
     "text": [
      "For 61.51 uVrms the electrode-to-head impedance is 12.30 KOhm\n"
     ]
    }
   ],
   "source": [
    "def get_z(v):\n",
    "    rms = get_rms(v)\n",
    "    z = (1e-6 * rms * np.sqrt(2) / 6e-9) - 2200\n",
    "    if z < 0:\n",
    "        return 0\n",
    "    return z\n",
    "\n",
    "z = get_z(data[0])\n",
    "print(f'For {rms:.2f} uVrms the electrode-to-head impedance is {(z)/1000:.2f} KOhm')"
   ]
  },
  {
   "cell_type": "markdown",
   "metadata": {},
   "source": [
    "## Real time measurement\n",
    "\n",
    "For this experiment we will use the Kafka consumer interface, and the same potentiometer.\n",
    "Keep in mind that this measurement uses 1 second signal, so, the variance will affect the real measure, in real-life the amplitude not change so drastically."
   ]
  },
  {
   "cell_type": "code",
   "execution_count": 99,
   "metadata": {},
   "outputs": [
    {
     "name": "stdout",
     "output_type": "stream",
     "text": [
      "b'Success: Sample rate is 1000Hz\\r\\n'\n",
      "b'updating channel settings to default\\r\\n'\n",
      "b'Success: Lead off set for 6\\r\\n'\n",
      "13.94 kOhm\n",
      "14.04 kOhm\n",
      "14.00 kOhm\n",
      "14.03 kOhm\n",
      "14.46 kOhm\n",
      "13.80 kOhm\n",
      "13.98 kOhm\n",
      "14.02 kOhm\n",
      "13.85 kOhm\n",
      "13.78 kOhm\n",
      "13.96 kOhm\n",
      "13.81 kOhm\n",
      "13.72 kOhm\n",
      "13.49 kOhm\n",
      "13.39 kOhm\n",
      "13.78 kOhm\n",
      "13.64 kOhm\n",
      "13.93 kOhm\n",
      "13.73 kOhm\n",
      "14.94 kOhm\n",
      "14.81 kOhm\n",
      "12.19 kOhm\n",
      "8.30 kOhm\n",
      "5.14 kOhm\n",
      "1.52 kOhm\n",
      "1.33 kOhm\n",
      "2.33 kOhm\n",
      "3.15 kOhm\n",
      "3.17 kOhm\n",
      "2.88 kOhm\n",
      "1.11 kOhm\n",
      "0.00 kOhm\n",
      "0.00 kOhm\n",
      "0.00 kOhm\n",
      "0.00 kOhm\n",
      "0.00 kOhm\n",
      "0.00 kOhm\n",
      "0.00 kOhm\n",
      "0.00 kOhm\n",
      "0.20 kOhm\n",
      "0.41 kOhm\n",
      "0.68 kOhm\n",
      "4.80 kOhm\n",
      "14.02 kOhm\n",
      "14.04 kOhm\n",
      "13.58 kOhm\n",
      "13.80 kOhm\n",
      "13.96 kOhm\n",
      "13.99 kOhm\n",
      "15.26 kOhm\n",
      "16.27 kOhm\n",
      "12.41 kOhm\n",
      "5.96 kOhm\n",
      "4.61 kOhm\n",
      "4.82 kOhm\n",
      "0.84 kOhm\n",
      "3.89 kOhm\n",
      "4.05 kOhm\n",
      "4.08 kOhm\n",
      "4.07 kOhm\n",
      "3.82 kOhm\n",
      "3.76 kOhm\n",
      "3.48 kOhm\n",
      "3.65 kOhm\n",
      "3.38 kOhm\n",
      "3.40 kOhm\n",
      "3.33 kOhm\n",
      "3.64 kOhm\n",
      "2.42 kOhm\n",
      "0.74 kOhm\n",
      "0.78 kOhm\n",
      "6.50 kOhm\n",
      "7.42 kOhm\n",
      "10.05 kOhm\n",
      "14.71 kOhm\n",
      "14.95 kOhm\n",
      "14.71 kOhm\n",
      "14.23 kOhm\n",
      "14.84 kOhm\n",
      "14.47 kOhm\n",
      "14.28 kOhm\n",
      "14.47 kOhm\n",
      "14.38 kOhm\n",
      "14.07 kOhm\n",
      "14.43 kOhm\n",
      "14.34 kOhm\n",
      "14.17 kOhm\n",
      "14.58 kOhm\n",
      "14.36 kOhm\n",
      "14.56 kOhm\n",
      "15.02 kOhm\n",
      "15.15 kOhm\n",
      "14.73 kOhm\n",
      "15.10 kOhm\n",
      "14.84 kOhm\n",
      "16.65 kOhm\n",
      "17.92 kOhm\n",
      "18.28 kOhm\n",
      "17.17 kOhm\n",
      "16.18 kOhm\n",
      "17.03 kOhm\n",
      "18.18 kOhm\n",
      "18.06 kOhm\n",
      "17.40 kOhm\n",
      "16.22 kOhm\n",
      "17.43 kOhm\n",
      "16.14 kOhm\n",
      "13.09 kOhm\n",
      "5.52 kOhm\n",
      "0.54 kOhm\n",
      "0.78 kOhm\n",
      "0.00 kOhm\n",
      "0.00 kOhm\n",
      "0.00 kOhm\n",
      "0.89 kOhm\n",
      "3.27 kOhm\n",
      "3.26 kOhm\n",
      "18.39 kOhm\n",
      "24.88 kOhm\n",
      "29.53 kOhm\n",
      "23.76 kOhm\n",
      "22.17 kOhm\n",
      "5.19 kOhm\n",
      "6.33 kOhm\n",
      "5.73 kOhm\n",
      "5.92 kOhm\n",
      "5.67 kOhm\n",
      "5.78 kOhm\n",
      "5.80 kOhm\n",
      "5.75 kOhm\n",
      "5.80 kOhm\n",
      "5.81 kOhm\n",
      "5.84 kOhm\n",
      "5.78 kOhm\n",
      "5.83 kOhm\n",
      "5.97 kOhm\n",
      "6.09 kOhm\n",
      "5.97 kOhm\n",
      "6.13 kOhm\n",
      "5.91 kOhm\n",
      "5.97 kOhm\n",
      "5.91 kOhm\n"
     ]
    },
    {
     "name": "stderr",
     "output_type": "stream",
     "text": [
      "ERROR:kafka.consumer.fetcher:Fetch to node 0 failed: Cancelled: <BrokerConnection node_id=0 host=192.168.1.1:9092 <connected> [IPv4 ('192.168.1.1', 9092)]>\n",
      "WARNING:OpenBCI-Stream:<class 'KeyboardInterrupt'>\n",
      "WARNING:OpenBCI-Stream:\n",
      "WARNING:OpenBCI-Stream:<traceback object at 0x7f9b5ba74c80>\n"
     ]
    },
    {
     "name": "stdout",
     "output_type": "stream",
     "text": [
      "6.03 kOhm\n"
     ]
    },
    {
     "ename": "KeyboardInterrupt",
     "evalue": "",
     "output_type": "error",
     "traceback": [
      "\u001b[0;31m---------------------------------------------------------------------------\u001b[0m",
      "\u001b[0;31mKeyboardInterrupt\u001b[0m                         Traceback (most recent call last)",
      "\u001b[0;32m<ipython-input-99-4cd9e5436260>\u001b[0m in \u001b[0;36m<module>\u001b[0;34m\u001b[0m\n\u001b[1;32m      9\u001b[0m     \u001b[0mopenbci\u001b[0m\u001b[0;34m.\u001b[0m\u001b[0mstart_stream\u001b[0m\u001b[0;34m(\u001b[0m\u001b[0;34m)\u001b[0m\u001b[0;34m\u001b[0m\u001b[0;34m\u001b[0m\u001b[0m\n\u001b[1;32m     10\u001b[0m \u001b[0;34m\u001b[0m\u001b[0m\n\u001b[0;32m---> 11\u001b[0;31m     \u001b[0;32mfor\u001b[0m \u001b[0mi\u001b[0m\u001b[0;34m,\u001b[0m \u001b[0mmessage\u001b[0m \u001b[0;32min\u001b[0m \u001b[0menumerate\u001b[0m\u001b[0;34m(\u001b[0m\u001b[0mstream\u001b[0m\u001b[0;34m)\u001b[0m\u001b[0;34m:\u001b[0m\u001b[0;34m\u001b[0m\u001b[0;34m\u001b[0m\u001b[0m\n\u001b[0m\u001b[1;32m     12\u001b[0m         \u001b[0;32mif\u001b[0m \u001b[0mmessage\u001b[0m\u001b[0;34m.\u001b[0m\u001b[0mtopic\u001b[0m \u001b[0;34m==\u001b[0m \u001b[0;34m'eeg'\u001b[0m\u001b[0;34m:\u001b[0m\u001b[0;34m\u001b[0m\u001b[0;34m\u001b[0m\u001b[0m\n\u001b[1;32m     13\u001b[0m \u001b[0;34m\u001b[0m\u001b[0m\n",
      "\u001b[0;32m~/Development/BCI-Framework/venv/lib/python3.9/site-packages/kafka/consumer/group.py\u001b[0m in \u001b[0;36m__next__\u001b[0;34m(self)\u001b[0m\n\u001b[1;32m   1191\u001b[0m             \u001b[0;32mreturn\u001b[0m \u001b[0mself\u001b[0m\u001b[0;34m.\u001b[0m\u001b[0mnext_v1\u001b[0m\u001b[0;34m(\u001b[0m\u001b[0;34m)\u001b[0m\u001b[0;34m\u001b[0m\u001b[0;34m\u001b[0m\u001b[0m\n\u001b[1;32m   1192\u001b[0m         \u001b[0;32melse\u001b[0m\u001b[0;34m:\u001b[0m\u001b[0;34m\u001b[0m\u001b[0;34m\u001b[0m\u001b[0m\n\u001b[0;32m-> 1193\u001b[0;31m             \u001b[0;32mreturn\u001b[0m \u001b[0mself\u001b[0m\u001b[0;34m.\u001b[0m\u001b[0mnext_v2\u001b[0m\u001b[0;34m(\u001b[0m\u001b[0;34m)\u001b[0m\u001b[0;34m\u001b[0m\u001b[0;34m\u001b[0m\u001b[0m\n\u001b[0m\u001b[1;32m   1194\u001b[0m \u001b[0;34m\u001b[0m\u001b[0m\n\u001b[1;32m   1195\u001b[0m     \u001b[0;32mdef\u001b[0m \u001b[0mnext_v2\u001b[0m\u001b[0;34m(\u001b[0m\u001b[0mself\u001b[0m\u001b[0;34m)\u001b[0m\u001b[0;34m:\u001b[0m\u001b[0;34m\u001b[0m\u001b[0;34m\u001b[0m\u001b[0m\n",
      "\u001b[0;32m~/Development/BCI-Framework/venv/lib/python3.9/site-packages/kafka/consumer/group.py\u001b[0m in \u001b[0;36mnext_v2\u001b[0;34m(self)\u001b[0m\n\u001b[1;32m   1199\u001b[0m                 \u001b[0mself\u001b[0m\u001b[0;34m.\u001b[0m\u001b[0m_iterator\u001b[0m \u001b[0;34m=\u001b[0m \u001b[0mself\u001b[0m\u001b[0;34m.\u001b[0m\u001b[0m_message_generator_v2\u001b[0m\u001b[0;34m(\u001b[0m\u001b[0;34m)\u001b[0m\u001b[0;34m\u001b[0m\u001b[0;34m\u001b[0m\u001b[0m\n\u001b[1;32m   1200\u001b[0m             \u001b[0;32mtry\u001b[0m\u001b[0;34m:\u001b[0m\u001b[0;34m\u001b[0m\u001b[0;34m\u001b[0m\u001b[0m\n\u001b[0;32m-> 1201\u001b[0;31m                 \u001b[0;32mreturn\u001b[0m \u001b[0mnext\u001b[0m\u001b[0;34m(\u001b[0m\u001b[0mself\u001b[0m\u001b[0;34m.\u001b[0m\u001b[0m_iterator\u001b[0m\u001b[0;34m)\u001b[0m\u001b[0;34m\u001b[0m\u001b[0;34m\u001b[0m\u001b[0m\n\u001b[0m\u001b[1;32m   1202\u001b[0m             \u001b[0;32mexcept\u001b[0m \u001b[0mStopIteration\u001b[0m\u001b[0;34m:\u001b[0m\u001b[0;34m\u001b[0m\u001b[0;34m\u001b[0m\u001b[0m\n\u001b[1;32m   1203\u001b[0m                 \u001b[0mself\u001b[0m\u001b[0;34m.\u001b[0m\u001b[0m_iterator\u001b[0m \u001b[0;34m=\u001b[0m \u001b[0;32mNone\u001b[0m\u001b[0;34m\u001b[0m\u001b[0;34m\u001b[0m\u001b[0m\n",
      "\u001b[0;32m~/Development/BCI-Framework/venv/lib/python3.9/site-packages/kafka/consumer/group.py\u001b[0m in \u001b[0;36m_message_generator_v2\u001b[0;34m(self)\u001b[0m\n\u001b[1;32m   1114\u001b[0m     \u001b[0;32mdef\u001b[0m \u001b[0m_message_generator_v2\u001b[0m\u001b[0;34m(\u001b[0m\u001b[0mself\u001b[0m\u001b[0;34m)\u001b[0m\u001b[0;34m:\u001b[0m\u001b[0;34m\u001b[0m\u001b[0;34m\u001b[0m\u001b[0m\n\u001b[1;32m   1115\u001b[0m         \u001b[0mtimeout_ms\u001b[0m \u001b[0;34m=\u001b[0m \u001b[0;36m1000\u001b[0m \u001b[0;34m*\u001b[0m \u001b[0;34m(\u001b[0m\u001b[0mself\u001b[0m\u001b[0;34m.\u001b[0m\u001b[0m_consumer_timeout\u001b[0m \u001b[0;34m-\u001b[0m \u001b[0mtime\u001b[0m\u001b[0;34m.\u001b[0m\u001b[0mtime\u001b[0m\u001b[0;34m(\u001b[0m\u001b[0;34m)\u001b[0m\u001b[0;34m)\u001b[0m\u001b[0;34m\u001b[0m\u001b[0;34m\u001b[0m\u001b[0m\n\u001b[0;32m-> 1116\u001b[0;31m         \u001b[0mrecord_map\u001b[0m \u001b[0;34m=\u001b[0m \u001b[0mself\u001b[0m\u001b[0;34m.\u001b[0m\u001b[0mpoll\u001b[0m\u001b[0;34m(\u001b[0m\u001b[0mtimeout_ms\u001b[0m\u001b[0;34m=\u001b[0m\u001b[0mtimeout_ms\u001b[0m\u001b[0;34m,\u001b[0m \u001b[0mupdate_offsets\u001b[0m\u001b[0;34m=\u001b[0m\u001b[0;32mFalse\u001b[0m\u001b[0;34m)\u001b[0m\u001b[0;34m\u001b[0m\u001b[0;34m\u001b[0m\u001b[0m\n\u001b[0m\u001b[1;32m   1117\u001b[0m         \u001b[0;32mfor\u001b[0m \u001b[0mtp\u001b[0m\u001b[0;34m,\u001b[0m \u001b[0mrecords\u001b[0m \u001b[0;32min\u001b[0m \u001b[0msix\u001b[0m\u001b[0;34m.\u001b[0m\u001b[0miteritems\u001b[0m\u001b[0;34m(\u001b[0m\u001b[0mrecord_map\u001b[0m\u001b[0;34m)\u001b[0m\u001b[0;34m:\u001b[0m\u001b[0;34m\u001b[0m\u001b[0;34m\u001b[0m\u001b[0m\n\u001b[1;32m   1118\u001b[0m             \u001b[0;31m# Generators are stateful, and it is possible that the tp / records\u001b[0m\u001b[0;34m\u001b[0m\u001b[0;34m\u001b[0m\u001b[0;34m\u001b[0m\u001b[0m\n",
      "\u001b[0;32m~/Development/BCI-Framework/venv/lib/python3.9/site-packages/kafka/consumer/group.py\u001b[0m in \u001b[0;36mpoll\u001b[0;34m(self, timeout_ms, max_records, update_offsets)\u001b[0m\n\u001b[1;32m    653\u001b[0m         \u001b[0mremaining\u001b[0m \u001b[0;34m=\u001b[0m \u001b[0mtimeout_ms\u001b[0m\u001b[0;34m\u001b[0m\u001b[0;34m\u001b[0m\u001b[0m\n\u001b[1;32m    654\u001b[0m         \u001b[0;32mwhile\u001b[0m \u001b[0;32mTrue\u001b[0m\u001b[0;34m:\u001b[0m\u001b[0;34m\u001b[0m\u001b[0;34m\u001b[0m\u001b[0m\n\u001b[0;32m--> 655\u001b[0;31m             \u001b[0mrecords\u001b[0m \u001b[0;34m=\u001b[0m \u001b[0mself\u001b[0m\u001b[0;34m.\u001b[0m\u001b[0m_poll_once\u001b[0m\u001b[0;34m(\u001b[0m\u001b[0mremaining\u001b[0m\u001b[0;34m,\u001b[0m \u001b[0mmax_records\u001b[0m\u001b[0;34m,\u001b[0m \u001b[0mupdate_offsets\u001b[0m\u001b[0;34m=\u001b[0m\u001b[0mupdate_offsets\u001b[0m\u001b[0;34m)\u001b[0m\u001b[0;34m\u001b[0m\u001b[0;34m\u001b[0m\u001b[0m\n\u001b[0m\u001b[1;32m    656\u001b[0m             \u001b[0;32mif\u001b[0m \u001b[0mrecords\u001b[0m\u001b[0;34m:\u001b[0m\u001b[0;34m\u001b[0m\u001b[0;34m\u001b[0m\u001b[0m\n\u001b[1;32m    657\u001b[0m                 \u001b[0;32mreturn\u001b[0m \u001b[0mrecords\u001b[0m\u001b[0;34m\u001b[0m\u001b[0;34m\u001b[0m\u001b[0m\n",
      "\u001b[0;32m~/Development/BCI-Framework/venv/lib/python3.9/site-packages/kafka/consumer/group.py\u001b[0m in \u001b[0;36m_poll_once\u001b[0;34m(self, timeout_ms, max_records, update_offsets)\u001b[0m\n\u001b[1;32m    700\u001b[0m \u001b[0;34m\u001b[0m\u001b[0m\n\u001b[1;32m    701\u001b[0m         \u001b[0mtimeout_ms\u001b[0m \u001b[0;34m=\u001b[0m \u001b[0mmin\u001b[0m\u001b[0;34m(\u001b[0m\u001b[0mtimeout_ms\u001b[0m\u001b[0;34m,\u001b[0m \u001b[0mself\u001b[0m\u001b[0;34m.\u001b[0m\u001b[0m_coordinator\u001b[0m\u001b[0;34m.\u001b[0m\u001b[0mtime_to_next_poll\u001b[0m\u001b[0;34m(\u001b[0m\u001b[0;34m)\u001b[0m \u001b[0;34m*\u001b[0m \u001b[0;36m1000\u001b[0m\u001b[0;34m)\u001b[0m\u001b[0;34m\u001b[0m\u001b[0;34m\u001b[0m\u001b[0m\n\u001b[0;32m--> 702\u001b[0;31m         \u001b[0mself\u001b[0m\u001b[0;34m.\u001b[0m\u001b[0m_client\u001b[0m\u001b[0;34m.\u001b[0m\u001b[0mpoll\u001b[0m\u001b[0;34m(\u001b[0m\u001b[0mtimeout_ms\u001b[0m\u001b[0;34m=\u001b[0m\u001b[0mtimeout_ms\u001b[0m\u001b[0;34m)\u001b[0m\u001b[0;34m\u001b[0m\u001b[0;34m\u001b[0m\u001b[0m\n\u001b[0m\u001b[1;32m    703\u001b[0m         \u001b[0;31m# after the long poll, we should check whether the group needs to rebalance\u001b[0m\u001b[0;34m\u001b[0m\u001b[0;34m\u001b[0m\u001b[0;34m\u001b[0m\u001b[0m\n\u001b[1;32m    704\u001b[0m         \u001b[0;31m# prior to returning data so that the group can stabilize faster\u001b[0m\u001b[0;34m\u001b[0m\u001b[0;34m\u001b[0m\u001b[0;34m\u001b[0m\u001b[0m\n",
      "\u001b[0;32m~/Development/BCI-Framework/venv/lib/python3.9/site-packages/kafka/client_async.py\u001b[0m in \u001b[0;36mpoll\u001b[0;34m(self, timeout_ms, future)\u001b[0m\n\u001b[1;32m    600\u001b[0m                     \u001b[0mtimeout\u001b[0m \u001b[0;34m=\u001b[0m \u001b[0mmax\u001b[0m\u001b[0;34m(\u001b[0m\u001b[0;36m0\u001b[0m\u001b[0;34m,\u001b[0m \u001b[0mtimeout\u001b[0m\u001b[0;34m)\u001b[0m  \u001b[0;31m# avoid negative timeouts\u001b[0m\u001b[0;34m\u001b[0m\u001b[0;34m\u001b[0m\u001b[0m\n\u001b[1;32m    601\u001b[0m \u001b[0;34m\u001b[0m\u001b[0m\n\u001b[0;32m--> 602\u001b[0;31m                 \u001b[0mself\u001b[0m\u001b[0;34m.\u001b[0m\u001b[0m_poll\u001b[0m\u001b[0;34m(\u001b[0m\u001b[0mtimeout\u001b[0m \u001b[0;34m/\u001b[0m \u001b[0;36m1000\u001b[0m\u001b[0;34m)\u001b[0m\u001b[0;34m\u001b[0m\u001b[0;34m\u001b[0m\u001b[0m\n\u001b[0m\u001b[1;32m    603\u001b[0m \u001b[0;34m\u001b[0m\u001b[0m\n\u001b[1;32m    604\u001b[0m             \u001b[0;31m# called without the lock to avoid deadlock potential\u001b[0m\u001b[0;34m\u001b[0m\u001b[0;34m\u001b[0m\u001b[0;34m\u001b[0m\u001b[0m\n",
      "\u001b[0;32m~/Development/BCI-Framework/venv/lib/python3.9/site-packages/kafka/client_async.py\u001b[0m in \u001b[0;36m_poll\u001b[0;34m(self, timeout)\u001b[0m\n\u001b[1;32m    632\u001b[0m \u001b[0;34m\u001b[0m\u001b[0m\n\u001b[1;32m    633\u001b[0m         \u001b[0mstart_select\u001b[0m \u001b[0;34m=\u001b[0m \u001b[0mtime\u001b[0m\u001b[0;34m.\u001b[0m\u001b[0mtime\u001b[0m\u001b[0;34m(\u001b[0m\u001b[0;34m)\u001b[0m\u001b[0;34m\u001b[0m\u001b[0;34m\u001b[0m\u001b[0m\n\u001b[0;32m--> 634\u001b[0;31m         \u001b[0mready\u001b[0m \u001b[0;34m=\u001b[0m \u001b[0mself\u001b[0m\u001b[0;34m.\u001b[0m\u001b[0m_selector\u001b[0m\u001b[0;34m.\u001b[0m\u001b[0mselect\u001b[0m\u001b[0;34m(\u001b[0m\u001b[0mtimeout\u001b[0m\u001b[0;34m)\u001b[0m\u001b[0;34m\u001b[0m\u001b[0;34m\u001b[0m\u001b[0m\n\u001b[0m\u001b[1;32m    635\u001b[0m         \u001b[0mend_select\u001b[0m \u001b[0;34m=\u001b[0m \u001b[0mtime\u001b[0m\u001b[0;34m.\u001b[0m\u001b[0mtime\u001b[0m\u001b[0;34m(\u001b[0m\u001b[0;34m)\u001b[0m\u001b[0;34m\u001b[0m\u001b[0;34m\u001b[0m\u001b[0m\n\u001b[1;32m    636\u001b[0m         \u001b[0;32mif\u001b[0m \u001b[0mself\u001b[0m\u001b[0;34m.\u001b[0m\u001b[0m_sensors\u001b[0m\u001b[0;34m:\u001b[0m\u001b[0;34m\u001b[0m\u001b[0;34m\u001b[0m\u001b[0m\n",
      "\u001b[0;32m/usr/lib/python3.9/selectors.py\u001b[0m in \u001b[0;36mselect\u001b[0;34m(self, timeout)\u001b[0m\n\u001b[1;32m    467\u001b[0m             \u001b[0mready\u001b[0m \u001b[0;34m=\u001b[0m \u001b[0;34m[\u001b[0m\u001b[0;34m]\u001b[0m\u001b[0;34m\u001b[0m\u001b[0;34m\u001b[0m\u001b[0m\n\u001b[1;32m    468\u001b[0m             \u001b[0;32mtry\u001b[0m\u001b[0;34m:\u001b[0m\u001b[0;34m\u001b[0m\u001b[0;34m\u001b[0m\u001b[0m\n\u001b[0;32m--> 469\u001b[0;31m                 \u001b[0mfd_event_list\u001b[0m \u001b[0;34m=\u001b[0m \u001b[0mself\u001b[0m\u001b[0;34m.\u001b[0m\u001b[0m_selector\u001b[0m\u001b[0;34m.\u001b[0m\u001b[0mpoll\u001b[0m\u001b[0;34m(\u001b[0m\u001b[0mtimeout\u001b[0m\u001b[0;34m,\u001b[0m \u001b[0mmax_ev\u001b[0m\u001b[0;34m)\u001b[0m\u001b[0;34m\u001b[0m\u001b[0;34m\u001b[0m\u001b[0m\n\u001b[0m\u001b[1;32m    470\u001b[0m             \u001b[0;32mexcept\u001b[0m \u001b[0mInterruptedError\u001b[0m\u001b[0;34m:\u001b[0m\u001b[0;34m\u001b[0m\u001b[0;34m\u001b[0m\u001b[0m\n\u001b[1;32m    471\u001b[0m                 \u001b[0;32mreturn\u001b[0m \u001b[0mready\u001b[0m\u001b[0;34m\u001b[0m\u001b[0;34m\u001b[0m\u001b[0m\n",
      "\u001b[0;31mKeyboardInterrupt\u001b[0m: "
     ]
    }
   ],
   "source": [
    "import time\n",
    "Z = []\n",
    "with OpenBCIConsumer('wifi', '192.168.1.113', host='192.168.1.1', auto_start=False, streaming_package_size=250, daisy=False) as (stream, openbci):\n",
    "        \n",
    "    print(openbci.command(cons.SAMPLE_RATE_1KSPS))\n",
    "    print(openbci.command(cons.DEFAULT_CHANNELS_SETTINGS))\n",
    "    print(openbci.leadoff_impedance(range(0, 9), pchan=cons.TEST_SIGNAL_NOT_APPLIED, nchan=cons.TEST_SIGNAL_APPLIED))\n",
    "    time.sleep(1)\n",
    "    openbci.start_stream()\n",
    "    \n",
    "    for i, message in enumerate(stream):\n",
    "        if message.topic == 'eeg':\n",
    "        \n",
    "            eeg, aux = message.value['data']\n",
    "            eeg = filter_impedance(eeg)\n",
    "#             eeg = eeg[:, 100:-100]            \n",
    "            z = get_z(eeg[0])\n",
    "            Z.append(z)\n",
    "            print(f'{z/1000:.2f} kOhm')\n",
    "            \n",
    "        if i >= 600:\n",
    "            break"
   ]
  },
  {
   "cell_type": "code",
   "execution_count": null,
   "metadata": {},
   "outputs": [],
   "source": [
    "plt.figure(figsize=(10, 5), dpi=90)\n",
    "plt.plot(np.array(Z)/1000)\n",
    "plt.ylabel('Impedance [$K\\Omega$]')\n",
    "plt.xlabel('Time [s]')\n",
    "plt.grid(True)\n",
    "plt.show()"
   ]
  },
  {
   "cell_type": "markdown",
   "metadata": {},
   "source": [
    "## Improve measurements\n",
    "\n",
    "Some tips for improving the impedance measurement:\n",
    "\n",
    "  * Take shorts signals but enough, 1 second is fine.\n",
    "  * Remove the first and last segments of the filtered signal.\n",
    "  * Nonstationary signals will produce wrong measurements.\n",
    "  * A single measurement is not enough, is recommended to work with trends instead."
   ]
  },
  {
   "cell_type": "code",
   "execution_count": 2,
   "metadata": {},
   "outputs": [
    {
     "name": "stderr",
     "output_type": "stream",
     "text": [
      "INFO:OpenBCI-Stream:Open socket on 192.168.4.2:38065\n",
      "INFO:OpenBCI-Stream:Init WiFi connection with IP: 192.168.4.1\n",
      "INFO:OpenBCI-Stream:WiFi Shield to Python TCP Socket Established\n",
      "INFO:OpenBCI-Stream:Sending command: 'd'\n",
      "INFO:OpenBCI-Stream:Incoming connection from ('192.168.4.1', 2902)\n",
      "INFO:OpenBCI-Stream:Writing: b'd'\n",
      "INFO:OpenBCI-Stream:Response: updating channel settings to default\n",
      "\n",
      "INFO:OpenBCI-Stream:Creating binary Produser\n",
      "INFO:OpenBCI-Stream:Clossing binary Produser\n"
     ]
    }
   ],
   "source": [
    "from openbci_stream.acquisition import Cyton\n",
    "import time\n",
    "\n",
    "# openbci = Cyton('wifi', '192.168.1.113', host='192.168.1.1', streaming_package_size=250, daisy=False)\n",
    "openbci = Cyton('wifi', '192.168.4.1', streaming_package_size=100, capture_stream=True, daisy=False)\n",
    "\n",
    "openbci.command(cons.DEFAULT_CHANNELS_SETTINGS)\n",
    "# openbci = Cyton('serial', 'COM0')\n",
    "\n",
    "# stream 15 seconds\n",
    "openbci.start_stream()\n",
    "time.sleep(15)  # asynchronous call\n",
    "openbci.stop_stream()"
   ]
  },
  {
   "cell_type": "code",
   "execution_count": 3,
   "metadata": {},
   "outputs": [],
   "source": [
    "data_raw = np.array(openbci.eeg_time_series)"
   ]
  },
  {
   "cell_type": "code",
   "execution_count": 4,
   "metadata": {},
   "outputs": [
    {
     "data": {
      "text/plain": [
       "(8, 3700)"
      ]
     },
     "execution_count": 4,
     "metadata": {},
     "output_type": "execute_result"
    }
   ],
   "source": [
    "data_raw.shape"
   ]
  },
  {
   "cell_type": "code",
   "execution_count": 11,
   "metadata": {},
   "outputs": [
    {
     "name": "stderr",
     "output_type": "stream",
     "text": [
      "INFO:OpenBCI-Stream:Open socket on 192.168.4.2:36243\n",
      "INFO:OpenBCI-Stream:Init WiFi connection with IP: 192.168.4.1\n",
      "INFO:OpenBCI-Stream:WiFi Shield to Python TCP Socket Established\n",
      "INFO:OpenBCI-Stream:Creating binary Produser\n",
      "INFO:OpenBCI-Stream:Incoming connection from ('192.168.4.1', 7796)\n",
      "INFO:OpenBCI-Stream:Sending command: '~6'\n",
      "INFO:OpenBCI-Stream:Writing: b'~6'\n",
      "INFO:OpenBCI-Stream:Response: Success: Sample rate is 250Hz\n",
      "\n"
     ]
    },
    {
     "name": "stdout",
     "output_type": "stream",
     "text": [
      "b'Success: Sample rate is 250Hz\\r\\n'\n"
     ]
    },
    {
     "name": "stderr",
     "output_type": "stream",
     "text": [
      "INFO:OpenBCI-Stream:Sending command: 'd'\n",
      "INFO:OpenBCI-Stream:No confirmation from board, does not mean fail.\n",
      "INFO:OpenBCI-Stream:Writing: b'd'\n",
      "INFO:OpenBCI-Stream:Response: Success: Sample rate is 250Hz\n",
      "\n"
     ]
    },
    {
     "name": "stdout",
     "output_type": "stream",
     "text": [
      "b'Success: Sample rate is 250Hz\\r\\n'\n"
     ]
    },
    {
     "name": "stderr",
     "output_type": "stream",
     "text": [
      "INFO:OpenBCI-Stream:Sending command: 'zI01Zz101Zz201Zz301Zz401Zz501Z'\n",
      "INFO:OpenBCI-Stream:Writing: b'zI01Zz101Zz201Zz301Zz401Zz501Z'\n",
      "INFO:OpenBCI-Stream:Response: Success: Lead off set for 16\n",
      "\n",
      "INFO:OpenBCI-Stream:Sending command: 'z601Zz701Zz801Z'\n",
      "INFO:OpenBCI-Stream:Writing: b'z601Zz701Zz801Z'\n",
      "INFO:OpenBCI-Stream:Response: Success: Lead off set for 6\n",
      "\n"
     ]
    },
    {
     "name": "stdout",
     "output_type": "stream",
     "text": [
      "b'Success: Lead off set for 6\\r\\n'\n"
     ]
    },
    {
     "name": "stderr",
     "output_type": "stream",
     "text": [
      "INFO:OpenBCI-Stream:Creating binary Produser\n"
     ]
    },
    {
     "name": "stdout",
     "output_type": "stream",
     "text": [
      "(8, 100) 138.09 kOhm\n",
      "(8, 100) 136.65 kOhm\n",
      "(8, 100) 132.82 kOhm\n",
      "(8, 100) 121.58 kOhm\n",
      "(8, 100) 121.60 kOhm\n",
      "(8, 100) 61.56 kOhm\n",
      "(8, 100) 61.32 kOhm\n",
      "(8, 100) 60.44 kOhm\n",
      "(8, 100) 62.34 kOhm\n",
      "(8, 100) 72.41 kOhm\n",
      "(8, 100) 67.94 kOhm\n",
      "(8, 100) 50.77 kOhm\n",
      "(8, 100) 62.61 kOhm\n",
      "(8, 100) 98.18 kOhm\n",
      "(8, 100) 105.67 kOhm\n",
      "(8, 100) 96.48 kOhm\n",
      "(8, 100) 98.61 kOhm\n",
      "(8, 100) 97.92 kOhm\n",
      "(8, 100) 94.63 kOhm\n",
      "(8, 100) 91.81 kOhm\n",
      "(8, 100) 111.02 kOhm\n",
      "(8, 100) 105.46 kOhm\n",
      "(8, 100) 97.94 kOhm\n",
      "(8, 100) 96.57 kOhm\n",
      "(8, 100) 98.92 kOhm\n",
      "(8, 100) 97.34 kOhm\n",
      "(8, 100) 101.17 kOhm\n",
      "(8, 100) 103.58 kOhm\n",
      "(8, 100) 106.15 kOhm\n",
      "(8, 100) 115.02 kOhm\n",
      "(8, 100) 134.59 kOhm\n",
      "(8, 100) 139.50 kOhm\n",
      "(8, 100) 139.79 kOhm\n",
      "(8, 100) 112.81 kOhm\n",
      "(8, 100) 95.66 kOhm\n",
      "(8, 100) 80.80 kOhm\n",
      "(8, 100) 58.53 kOhm\n",
      "(8, 100) 55.48 kOhm\n",
      "(8, 100) 57.20 kOhm\n",
      "(8, 100) 37.32 kOhm\n",
      "(8, 100) 52.25 kOhm\n",
      "(8, 100) 55.62 kOhm\n",
      "(8, 100) 54.00 kOhm\n",
      "(8, 100) 56.98 kOhm\n",
      "(8, 100) 51.41 kOhm\n",
      "(8, 100) 63.83 kOhm\n",
      "(8, 100) 70.31 kOhm\n",
      "(8, 100) 78.20 kOhm\n",
      "(8, 100) 72.03 kOhm\n",
      "(8, 100) 69.58 kOhm\n",
      "(8, 100) 56.69 kOhm\n",
      "(8, 100) 57.49 kOhm\n",
      "(8, 100) 60.20 kOhm\n",
      "(8, 100) 67.44 kOhm\n",
      "(8, 100) 73.11 kOhm\n",
      "(8, 100) 69.77 kOhm\n",
      "(8, 100) 63.70 kOhm\n",
      "(8, 100) 63.86 kOhm\n",
      "(8, 100) 76.54 kOhm\n",
      "(8, 100) 74.57 kOhm\n",
      "(8, 100) 90.12 kOhm\n",
      "(8, 100) 91.31 kOhm\n",
      "(8, 100) 103.04 kOhm\n",
      "(8, 100) 113.64 kOhm\n",
      "(8, 100) 106.39 kOhm\n",
      "(8, 100) 125.11 kOhm\n",
      "(8, 100) 133.85 kOhm\n",
      "(8, 100) 129.75 kOhm\n",
      "(8, 100) 129.67 kOhm\n",
      "(8, 100) 132.01 kOhm\n",
      "(8, 100) 139.45 kOhm\n",
      "(8, 100) 139.68 kOhm\n",
      "(8, 100) 140.80 kOhm\n",
      "(8, 100) 136.98 kOhm\n",
      "(8, 100) 133.96 kOhm\n",
      "(8, 100) 140.75 kOhm\n",
      "(8, 100) 138.42 kOhm\n",
      "(8, 100) 141.92 kOhm\n",
      "(8, 100) 135.42 kOhm\n",
      "(8, 100) 136.04 kOhm\n",
      "(8, 100) 135.55 kOhm\n",
      "(8, 100) 134.31 kOhm\n",
      "(8, 100) 132.67 kOhm\n",
      "(8, 100) 139.95 kOhm\n",
      "(8, 100) 140.27 kOhm\n",
      "(8, 100) 142.06 kOhm\n",
      "(8, 100) 145.30 kOhm\n",
      "(8, 100) 143.59 kOhm\n",
      "(8, 100) 136.44 kOhm\n",
      "(8, 100) 131.39 kOhm\n",
      "(8, 100) 132.36 kOhm\n",
      "(8, 100) 130.10 kOhm\n",
      "(8, 100) 131.88 kOhm\n",
      "(8, 100) 132.59 kOhm\n",
      "(8, 100) 138.12 kOhm\n",
      "(8, 100) 137.23 kOhm\n",
      "(8, 100) 138.78 kOhm\n",
      "(8, 100) 127.00 kOhm\n",
      "(8, 100) 129.03 kOhm\n",
      "(8, 100) 128.17 kOhm\n",
      "(8, 100) 128.54 kOhm\n",
      "(8, 100) 127.60 kOhm\n",
      "(8, 100) 128.44 kOhm\n",
      "(8, 100) 128.10 kOhm\n",
      "(8, 100) 134.92 kOhm\n",
      "(8, 100) 135.47 kOhm\n",
      "(8, 100) 134.60 kOhm\n",
      "(8, 100) 137.36 kOhm\n",
      "(8, 100) 137.60 kOhm\n",
      "(8, 100) 136.42 kOhm\n",
      "(8, 100) 128.42 kOhm\n",
      "(8, 100) 127.85 kOhm\n",
      "(8, 100) 127.91 kOhm\n",
      "(8, 100) 128.92 kOhm\n",
      "(8, 100) 123.04 kOhm\n",
      "(8, 100) 128.70 kOhm\n",
      "(8, 100) 125.63 kOhm\n",
      "(8, 100) 132.91 kOhm\n",
      "(8, 100) 130.34 kOhm\n",
      "(8, 100) 132.27 kOhm\n",
      "(8, 100) 129.85 kOhm\n",
      "(8, 100) 134.63 kOhm\n",
      "(8, 100) 132.28 kOhm\n",
      "(8, 100) 132.35 kOhm\n",
      "(8, 100) 136.43 kOhm\n",
      "(8, 100) 136.72 kOhm\n",
      "(8, 100) 99.13 kOhm\n",
      "(8, 100) 160.11 kOhm\n",
      "(8, 100) 147.11 kOhm\n",
      "(8, 100) 1488.66 kOhm\n",
      "(8, 100) 1502.85 kOhm\n",
      "(8, 100) 1261.91 kOhm\n",
      "(8, 100) 436.07 kOhm\n",
      "(8, 100) 14.89 kOhm\n",
      "(8, 100) 11.88 kOhm\n",
      "(8, 100) 10.79 kOhm\n",
      "(8, 100) 21.61 kOhm\n",
      "(8, 100) 19.39 kOhm\n",
      "(8, 100) 12.00 kOhm\n",
      "(8, 100) 12.98 kOhm\n",
      "(8, 100) 11.49 kOhm\n",
      "(8, 100) 13.73 kOhm\n",
      "(8, 100) 8.84 kOhm\n",
      "(8, 100) 11.66 kOhm\n",
      "(8, 100) 10.39 kOhm\n",
      "(8, 100) 14.67 kOhm\n",
      "(8, 100) 8.95 kOhm\n",
      "(8, 100) 10.91 kOhm\n",
      "(8, 100) 14.78 kOhm\n",
      "(8, 100) 11.31 kOhm\n",
      "(8, 100) 14.67 kOhm\n",
      "(8, 100) 9.68 kOhm\n",
      "(8, 100) 14.65 kOhm\n",
      "(8, 100) 13.69 kOhm\n",
      "(8, 100) 11.39 kOhm\n",
      "(8, 100) 14.12 kOhm\n",
      "(8, 100) 14.82 kOhm\n",
      "(8, 100) 13.92 kOhm\n",
      "(8, 100) 16.01 kOhm\n",
      "(8, 100) 8.43 kOhm\n",
      "(8, 100) 11.99 kOhm\n",
      "(8, 100) 9.39 kOhm\n",
      "(8, 100) 14.81 kOhm\n",
      "(8, 100) 14.61 kOhm\n",
      "(8, 100) 11.31 kOhm\n",
      "(8, 100) 14.82 kOhm\n",
      "(8, 100) 9.92 kOhm\n",
      "(8, 100) 15.74 kOhm\n",
      "(8, 100) 10.85 kOhm\n",
      "(8, 100) 13.92 kOhm\n",
      "(8, 100) 12.46 kOhm\n",
      "(8, 100) 14.16 kOhm\n",
      "(8, 100) 9.12 kOhm\n",
      "(8, 100) 16.43 kOhm\n",
      "(8, 100) 7.86 kOhm\n",
      "(8, 100) 13.37 kOhm\n",
      "(8, 100) 12.66 kOhm\n",
      "(8, 100) 11.71 kOhm\n",
      "(8, 100) 12.57 kOhm\n",
      "(8, 100) 13.56 kOhm\n",
      "(8, 100) 10.91 kOhm\n",
      "(8, 100) 13.72 kOhm\n",
      "(8, 100) 14.11 kOhm\n",
      "(8, 100) 14.16 kOhm\n",
      "(8, 100) 8.04 kOhm\n",
      "(8, 100) 10.85 kOhm\n",
      "(8, 100) 10.42 kOhm\n",
      "(8, 100) 14.94 kOhm\n",
      "(8, 100) 14.59 kOhm\n",
      "(8, 100) 12.00 kOhm\n",
      "(8, 100) 12.61 kOhm\n",
      "(8, 100) 120.22 kOhm\n",
      "(8, 100) 131.06 kOhm\n",
      "(8, 100) 2440.81 kOhm\n",
      "(8, 100) 98.34 kOhm\n",
      "(8, 100) 101.90 kOhm\n",
      "(8, 100) 103.10 kOhm\n",
      "(8, 100) 120.32 kOhm\n",
      "(8, 100) 135.51 kOhm\n",
      "(8, 100) 113.20 kOhm\n",
      "(8, 100) 128.97 kOhm\n",
      "(8, 100) 127.29 kOhm\n",
      "(8, 100) 130.14 kOhm\n",
      "(8, 100) 125.54 kOhm\n",
      "(8, 100) 140.38 kOhm\n",
      "(8, 100) 139.67 kOhm\n",
      "(8, 100) 144.87 kOhm\n",
      "(8, 100) 149.96 kOhm\n",
      "(8, 100) 148.52 kOhm\n",
      "(8, 100) 156.06 kOhm\n",
      "(8, 100) 155.81 kOhm\n",
      "(8, 100) 154.71 kOhm\n",
      "(8, 100) 149.83 kOhm\n",
      "(8, 100) 146.90 kOhm\n",
      "(8, 100) 115.79 kOhm\n",
      "(8, 100) 104.16 kOhm\n",
      "(8, 100) 91.38 kOhm\n",
      "(8, 100) 76.57 kOhm\n",
      "(8, 100) 142.26 kOhm\n",
      "(8, 100) 145.12 kOhm\n",
      "(8, 100) 151.85 kOhm\n",
      "(8, 100) 155.58 kOhm\n",
      "(8, 100) 157.52 kOhm\n",
      "(8, 100) 157.52 kOhm\n",
      "(8, 100) 157.52 kOhm\n",
      "(8, 100) 157.52 kOhm\n",
      "(8, 100) 157.52 kOhm\n",
      "(8, 100) 157.52 kOhm\n",
      "(8, 100) 157.52 kOhm\n",
      "(8, 100) 153.72 kOhm\n"
     ]
    },
    {
     "name": "stderr",
     "output_type": "stream",
     "text": [
      "INFO:OpenBCI-Stream:Clossing binary Produser\n",
      "ERROR:kafka.consumer.fetcher:Fetch to node 0 failed: Cancelled: <BrokerConnection node_id=0 host=archlinux:9092 <connected> [IPv6 ('fe80::b5d6:affe:5d83:d929', 9092, 0, 3)]>\n",
      "WARNING:OpenBCI-Stream:<class 'KeyboardInterrupt'>\n",
      "WARNING:OpenBCI-Stream:\n",
      "WARNING:OpenBCI-Stream:<traceback object at 0x7f9b5bfe0600>\n"
     ]
    },
    {
     "name": "stdout",
     "output_type": "stream",
     "text": [
      "(8, 100) 149.83 kOhm\n"
     ]
    },
    {
     "ename": "KeyboardInterrupt",
     "evalue": "",
     "output_type": "error",
     "traceback": [
      "\u001b[0;31m---------------------------------------------------------------------------\u001b[0m",
      "\u001b[0;31mKeyboardInterrupt\u001b[0m                         Traceback (most recent call last)",
      "\u001b[0;32m<ipython-input-11-63580b6b945e>\u001b[0m in \u001b[0;36m<module>\u001b[0;34m\u001b[0m\n\u001b[1;32m     12\u001b[0m     \u001b[0mopenbci\u001b[0m\u001b[0;34m.\u001b[0m\u001b[0mstart_stream\u001b[0m\u001b[0;34m(\u001b[0m\u001b[0;34m)\u001b[0m\u001b[0;34m\u001b[0m\u001b[0;34m\u001b[0m\u001b[0m\n\u001b[1;32m     13\u001b[0m \u001b[0;34m\u001b[0m\u001b[0m\n\u001b[0;32m---> 14\u001b[0;31m     \u001b[0;32mfor\u001b[0m \u001b[0mi\u001b[0m\u001b[0;34m,\u001b[0m \u001b[0mmessage\u001b[0m \u001b[0;32min\u001b[0m \u001b[0menumerate\u001b[0m\u001b[0;34m(\u001b[0m\u001b[0mstream\u001b[0m\u001b[0;34m)\u001b[0m\u001b[0;34m:\u001b[0m\u001b[0;34m\u001b[0m\u001b[0;34m\u001b[0m\u001b[0m\n\u001b[0m\u001b[1;32m     15\u001b[0m         \u001b[0;32mif\u001b[0m \u001b[0mmessage\u001b[0m\u001b[0;34m.\u001b[0m\u001b[0mtopic\u001b[0m \u001b[0;34m==\u001b[0m \u001b[0;34m'eeg'\u001b[0m\u001b[0;34m:\u001b[0m\u001b[0;34m\u001b[0m\u001b[0;34m\u001b[0m\u001b[0m\n\u001b[1;32m     16\u001b[0m \u001b[0;34m\u001b[0m\u001b[0m\n",
      "\u001b[0;32m~/Development/BCI-Framework/venv/lib/python3.9/site-packages/kafka/consumer/group.py\u001b[0m in \u001b[0;36m__next__\u001b[0;34m(self)\u001b[0m\n\u001b[1;32m   1191\u001b[0m             \u001b[0;32mreturn\u001b[0m \u001b[0mself\u001b[0m\u001b[0;34m.\u001b[0m\u001b[0mnext_v1\u001b[0m\u001b[0;34m(\u001b[0m\u001b[0;34m)\u001b[0m\u001b[0;34m\u001b[0m\u001b[0;34m\u001b[0m\u001b[0m\n\u001b[1;32m   1192\u001b[0m         \u001b[0;32melse\u001b[0m\u001b[0;34m:\u001b[0m\u001b[0;34m\u001b[0m\u001b[0;34m\u001b[0m\u001b[0m\n\u001b[0;32m-> 1193\u001b[0;31m             \u001b[0;32mreturn\u001b[0m \u001b[0mself\u001b[0m\u001b[0;34m.\u001b[0m\u001b[0mnext_v2\u001b[0m\u001b[0;34m(\u001b[0m\u001b[0;34m)\u001b[0m\u001b[0;34m\u001b[0m\u001b[0;34m\u001b[0m\u001b[0m\n\u001b[0m\u001b[1;32m   1194\u001b[0m \u001b[0;34m\u001b[0m\u001b[0m\n\u001b[1;32m   1195\u001b[0m     \u001b[0;32mdef\u001b[0m \u001b[0mnext_v2\u001b[0m\u001b[0;34m(\u001b[0m\u001b[0mself\u001b[0m\u001b[0;34m)\u001b[0m\u001b[0;34m:\u001b[0m\u001b[0;34m\u001b[0m\u001b[0;34m\u001b[0m\u001b[0m\n",
      "\u001b[0;32m~/Development/BCI-Framework/venv/lib/python3.9/site-packages/kafka/consumer/group.py\u001b[0m in \u001b[0;36mnext_v2\u001b[0;34m(self)\u001b[0m\n\u001b[1;32m   1199\u001b[0m                 \u001b[0mself\u001b[0m\u001b[0;34m.\u001b[0m\u001b[0m_iterator\u001b[0m \u001b[0;34m=\u001b[0m \u001b[0mself\u001b[0m\u001b[0;34m.\u001b[0m\u001b[0m_message_generator_v2\u001b[0m\u001b[0;34m(\u001b[0m\u001b[0;34m)\u001b[0m\u001b[0;34m\u001b[0m\u001b[0;34m\u001b[0m\u001b[0m\n\u001b[1;32m   1200\u001b[0m             \u001b[0;32mtry\u001b[0m\u001b[0;34m:\u001b[0m\u001b[0;34m\u001b[0m\u001b[0;34m\u001b[0m\u001b[0m\n\u001b[0;32m-> 1201\u001b[0;31m                 \u001b[0;32mreturn\u001b[0m \u001b[0mnext\u001b[0m\u001b[0;34m(\u001b[0m\u001b[0mself\u001b[0m\u001b[0;34m.\u001b[0m\u001b[0m_iterator\u001b[0m\u001b[0;34m)\u001b[0m\u001b[0;34m\u001b[0m\u001b[0;34m\u001b[0m\u001b[0m\n\u001b[0m\u001b[1;32m   1202\u001b[0m             \u001b[0;32mexcept\u001b[0m \u001b[0mStopIteration\u001b[0m\u001b[0;34m:\u001b[0m\u001b[0;34m\u001b[0m\u001b[0;34m\u001b[0m\u001b[0m\n\u001b[1;32m   1203\u001b[0m                 \u001b[0mself\u001b[0m\u001b[0;34m.\u001b[0m\u001b[0m_iterator\u001b[0m \u001b[0;34m=\u001b[0m \u001b[0;32mNone\u001b[0m\u001b[0;34m\u001b[0m\u001b[0;34m\u001b[0m\u001b[0m\n",
      "\u001b[0;32m~/Development/BCI-Framework/venv/lib/python3.9/site-packages/kafka/consumer/group.py\u001b[0m in \u001b[0;36m_message_generator_v2\u001b[0;34m(self)\u001b[0m\n\u001b[1;32m   1114\u001b[0m     \u001b[0;32mdef\u001b[0m \u001b[0m_message_generator_v2\u001b[0m\u001b[0;34m(\u001b[0m\u001b[0mself\u001b[0m\u001b[0;34m)\u001b[0m\u001b[0;34m:\u001b[0m\u001b[0;34m\u001b[0m\u001b[0;34m\u001b[0m\u001b[0m\n\u001b[1;32m   1115\u001b[0m         \u001b[0mtimeout_ms\u001b[0m \u001b[0;34m=\u001b[0m \u001b[0;36m1000\u001b[0m \u001b[0;34m*\u001b[0m \u001b[0;34m(\u001b[0m\u001b[0mself\u001b[0m\u001b[0;34m.\u001b[0m\u001b[0m_consumer_timeout\u001b[0m \u001b[0;34m-\u001b[0m \u001b[0mtime\u001b[0m\u001b[0;34m.\u001b[0m\u001b[0mtime\u001b[0m\u001b[0;34m(\u001b[0m\u001b[0;34m)\u001b[0m\u001b[0;34m)\u001b[0m\u001b[0;34m\u001b[0m\u001b[0;34m\u001b[0m\u001b[0m\n\u001b[0;32m-> 1116\u001b[0;31m         \u001b[0mrecord_map\u001b[0m \u001b[0;34m=\u001b[0m \u001b[0mself\u001b[0m\u001b[0;34m.\u001b[0m\u001b[0mpoll\u001b[0m\u001b[0;34m(\u001b[0m\u001b[0mtimeout_ms\u001b[0m\u001b[0;34m=\u001b[0m\u001b[0mtimeout_ms\u001b[0m\u001b[0;34m,\u001b[0m \u001b[0mupdate_offsets\u001b[0m\u001b[0;34m=\u001b[0m\u001b[0;32mFalse\u001b[0m\u001b[0;34m)\u001b[0m\u001b[0;34m\u001b[0m\u001b[0;34m\u001b[0m\u001b[0m\n\u001b[0m\u001b[1;32m   1117\u001b[0m         \u001b[0;32mfor\u001b[0m \u001b[0mtp\u001b[0m\u001b[0;34m,\u001b[0m \u001b[0mrecords\u001b[0m \u001b[0;32min\u001b[0m \u001b[0msix\u001b[0m\u001b[0;34m.\u001b[0m\u001b[0miteritems\u001b[0m\u001b[0;34m(\u001b[0m\u001b[0mrecord_map\u001b[0m\u001b[0;34m)\u001b[0m\u001b[0;34m:\u001b[0m\u001b[0;34m\u001b[0m\u001b[0;34m\u001b[0m\u001b[0m\n\u001b[1;32m   1118\u001b[0m             \u001b[0;31m# Generators are stateful, and it is possible that the tp / records\u001b[0m\u001b[0;34m\u001b[0m\u001b[0;34m\u001b[0m\u001b[0;34m\u001b[0m\u001b[0m\n",
      "\u001b[0;32m~/Development/BCI-Framework/venv/lib/python3.9/site-packages/kafka/consumer/group.py\u001b[0m in \u001b[0;36mpoll\u001b[0;34m(self, timeout_ms, max_records, update_offsets)\u001b[0m\n\u001b[1;32m    653\u001b[0m         \u001b[0mremaining\u001b[0m \u001b[0;34m=\u001b[0m \u001b[0mtimeout_ms\u001b[0m\u001b[0;34m\u001b[0m\u001b[0;34m\u001b[0m\u001b[0m\n\u001b[1;32m    654\u001b[0m         \u001b[0;32mwhile\u001b[0m \u001b[0;32mTrue\u001b[0m\u001b[0;34m:\u001b[0m\u001b[0;34m\u001b[0m\u001b[0;34m\u001b[0m\u001b[0m\n\u001b[0;32m--> 655\u001b[0;31m             \u001b[0mrecords\u001b[0m \u001b[0;34m=\u001b[0m \u001b[0mself\u001b[0m\u001b[0;34m.\u001b[0m\u001b[0m_poll_once\u001b[0m\u001b[0;34m(\u001b[0m\u001b[0mremaining\u001b[0m\u001b[0;34m,\u001b[0m \u001b[0mmax_records\u001b[0m\u001b[0;34m,\u001b[0m \u001b[0mupdate_offsets\u001b[0m\u001b[0;34m=\u001b[0m\u001b[0mupdate_offsets\u001b[0m\u001b[0;34m)\u001b[0m\u001b[0;34m\u001b[0m\u001b[0;34m\u001b[0m\u001b[0m\n\u001b[0m\u001b[1;32m    656\u001b[0m             \u001b[0;32mif\u001b[0m \u001b[0mrecords\u001b[0m\u001b[0;34m:\u001b[0m\u001b[0;34m\u001b[0m\u001b[0;34m\u001b[0m\u001b[0m\n\u001b[1;32m    657\u001b[0m                 \u001b[0;32mreturn\u001b[0m \u001b[0mrecords\u001b[0m\u001b[0;34m\u001b[0m\u001b[0;34m\u001b[0m\u001b[0m\n",
      "\u001b[0;32m~/Development/BCI-Framework/venv/lib/python3.9/site-packages/kafka/consumer/group.py\u001b[0m in \u001b[0;36m_poll_once\u001b[0;34m(self, timeout_ms, max_records, update_offsets)\u001b[0m\n\u001b[1;32m    700\u001b[0m \u001b[0;34m\u001b[0m\u001b[0m\n\u001b[1;32m    701\u001b[0m         \u001b[0mtimeout_ms\u001b[0m \u001b[0;34m=\u001b[0m \u001b[0mmin\u001b[0m\u001b[0;34m(\u001b[0m\u001b[0mtimeout_ms\u001b[0m\u001b[0;34m,\u001b[0m \u001b[0mself\u001b[0m\u001b[0;34m.\u001b[0m\u001b[0m_coordinator\u001b[0m\u001b[0;34m.\u001b[0m\u001b[0mtime_to_next_poll\u001b[0m\u001b[0;34m(\u001b[0m\u001b[0;34m)\u001b[0m \u001b[0;34m*\u001b[0m \u001b[0;36m1000\u001b[0m\u001b[0;34m)\u001b[0m\u001b[0;34m\u001b[0m\u001b[0;34m\u001b[0m\u001b[0m\n\u001b[0;32m--> 702\u001b[0;31m         \u001b[0mself\u001b[0m\u001b[0;34m.\u001b[0m\u001b[0m_client\u001b[0m\u001b[0;34m.\u001b[0m\u001b[0mpoll\u001b[0m\u001b[0;34m(\u001b[0m\u001b[0mtimeout_ms\u001b[0m\u001b[0;34m=\u001b[0m\u001b[0mtimeout_ms\u001b[0m\u001b[0;34m)\u001b[0m\u001b[0;34m\u001b[0m\u001b[0;34m\u001b[0m\u001b[0m\n\u001b[0m\u001b[1;32m    703\u001b[0m         \u001b[0;31m# after the long poll, we should check whether the group needs to rebalance\u001b[0m\u001b[0;34m\u001b[0m\u001b[0;34m\u001b[0m\u001b[0;34m\u001b[0m\u001b[0m\n\u001b[1;32m    704\u001b[0m         \u001b[0;31m# prior to returning data so that the group can stabilize faster\u001b[0m\u001b[0;34m\u001b[0m\u001b[0;34m\u001b[0m\u001b[0;34m\u001b[0m\u001b[0m\n",
      "\u001b[0;32m~/Development/BCI-Framework/venv/lib/python3.9/site-packages/kafka/client_async.py\u001b[0m in \u001b[0;36mpoll\u001b[0;34m(self, timeout_ms, future)\u001b[0m\n\u001b[1;32m    600\u001b[0m                     \u001b[0mtimeout\u001b[0m \u001b[0;34m=\u001b[0m \u001b[0mmax\u001b[0m\u001b[0;34m(\u001b[0m\u001b[0;36m0\u001b[0m\u001b[0;34m,\u001b[0m \u001b[0mtimeout\u001b[0m\u001b[0;34m)\u001b[0m  \u001b[0;31m# avoid negative timeouts\u001b[0m\u001b[0;34m\u001b[0m\u001b[0;34m\u001b[0m\u001b[0m\n\u001b[1;32m    601\u001b[0m \u001b[0;34m\u001b[0m\u001b[0m\n\u001b[0;32m--> 602\u001b[0;31m                 \u001b[0mself\u001b[0m\u001b[0;34m.\u001b[0m\u001b[0m_poll\u001b[0m\u001b[0;34m(\u001b[0m\u001b[0mtimeout\u001b[0m \u001b[0;34m/\u001b[0m \u001b[0;36m1000\u001b[0m\u001b[0;34m)\u001b[0m\u001b[0;34m\u001b[0m\u001b[0;34m\u001b[0m\u001b[0m\n\u001b[0m\u001b[1;32m    603\u001b[0m \u001b[0;34m\u001b[0m\u001b[0m\n\u001b[1;32m    604\u001b[0m             \u001b[0;31m# called without the lock to avoid deadlock potential\u001b[0m\u001b[0;34m\u001b[0m\u001b[0;34m\u001b[0m\u001b[0;34m\u001b[0m\u001b[0m\n",
      "\u001b[0;32m~/Development/BCI-Framework/venv/lib/python3.9/site-packages/kafka/client_async.py\u001b[0m in \u001b[0;36m_poll\u001b[0;34m(self, timeout)\u001b[0m\n\u001b[1;32m    632\u001b[0m \u001b[0;34m\u001b[0m\u001b[0m\n\u001b[1;32m    633\u001b[0m         \u001b[0mstart_select\u001b[0m \u001b[0;34m=\u001b[0m \u001b[0mtime\u001b[0m\u001b[0;34m.\u001b[0m\u001b[0mtime\u001b[0m\u001b[0;34m(\u001b[0m\u001b[0;34m)\u001b[0m\u001b[0;34m\u001b[0m\u001b[0;34m\u001b[0m\u001b[0m\n\u001b[0;32m--> 634\u001b[0;31m         \u001b[0mready\u001b[0m \u001b[0;34m=\u001b[0m \u001b[0mself\u001b[0m\u001b[0;34m.\u001b[0m\u001b[0m_selector\u001b[0m\u001b[0;34m.\u001b[0m\u001b[0mselect\u001b[0m\u001b[0;34m(\u001b[0m\u001b[0mtimeout\u001b[0m\u001b[0;34m)\u001b[0m\u001b[0;34m\u001b[0m\u001b[0;34m\u001b[0m\u001b[0m\n\u001b[0m\u001b[1;32m    635\u001b[0m         \u001b[0mend_select\u001b[0m \u001b[0;34m=\u001b[0m \u001b[0mtime\u001b[0m\u001b[0;34m.\u001b[0m\u001b[0mtime\u001b[0m\u001b[0;34m(\u001b[0m\u001b[0;34m)\u001b[0m\u001b[0;34m\u001b[0m\u001b[0;34m\u001b[0m\u001b[0m\n\u001b[1;32m    636\u001b[0m         \u001b[0;32mif\u001b[0m \u001b[0mself\u001b[0m\u001b[0;34m.\u001b[0m\u001b[0m_sensors\u001b[0m\u001b[0;34m:\u001b[0m\u001b[0;34m\u001b[0m\u001b[0;34m\u001b[0m\u001b[0m\n",
      "\u001b[0;32m/usr/lib/python3.9/selectors.py\u001b[0m in \u001b[0;36mselect\u001b[0;34m(self, timeout)\u001b[0m\n\u001b[1;32m    467\u001b[0m             \u001b[0mready\u001b[0m \u001b[0;34m=\u001b[0m \u001b[0;34m[\u001b[0m\u001b[0;34m]\u001b[0m\u001b[0;34m\u001b[0m\u001b[0;34m\u001b[0m\u001b[0m\n\u001b[1;32m    468\u001b[0m             \u001b[0;32mtry\u001b[0m\u001b[0;34m:\u001b[0m\u001b[0;34m\u001b[0m\u001b[0;34m\u001b[0m\u001b[0m\n\u001b[0;32m--> 469\u001b[0;31m                 \u001b[0mfd_event_list\u001b[0m \u001b[0;34m=\u001b[0m \u001b[0mself\u001b[0m\u001b[0;34m.\u001b[0m\u001b[0m_selector\u001b[0m\u001b[0;34m.\u001b[0m\u001b[0mpoll\u001b[0m\u001b[0;34m(\u001b[0m\u001b[0mtimeout\u001b[0m\u001b[0;34m,\u001b[0m \u001b[0mmax_ev\u001b[0m\u001b[0;34m)\u001b[0m\u001b[0;34m\u001b[0m\u001b[0;34m\u001b[0m\u001b[0m\n\u001b[0m\u001b[1;32m    470\u001b[0m             \u001b[0;32mexcept\u001b[0m \u001b[0mInterruptedError\u001b[0m\u001b[0;34m:\u001b[0m\u001b[0;34m\u001b[0m\u001b[0;34m\u001b[0m\u001b[0m\n\u001b[1;32m    471\u001b[0m                 \u001b[0;32mreturn\u001b[0m \u001b[0mready\u001b[0m\u001b[0;34m\u001b[0m\u001b[0;34m\u001b[0m\u001b[0m\n",
      "\u001b[0;31mKeyboardInterrupt\u001b[0m: "
     ]
    }
   ],
   "source": [
    "import time\n",
    "Z = []\n",
    "with OpenBCIConsumer('wifi', '192.168.4.1', streaming_package_size=100, daisy=False) as (stream, openbci):\n",
    "# with OpenBCIConsumer(host='192.168.1.1') as stream:\n",
    "    time.sleep(1)\n",
    "    print(openbci.command(cons.SAMPLE_RATE_250SPS))\n",
    "    time.sleep(1)\n",
    "    print(openbci.command(cons.DEFAULT_CHANNELS_SETTINGS))\n",
    "    time.sleep(1)\n",
    "    print(openbci.leadoff_impedance(range(0, 9), pchan=cons.TEST_SIGNAL_NOT_APPLIED, nchan=cons.TEST_SIGNAL_APPLIED))\n",
    "    time.sleep(1)\n",
    "    openbci.start_stream()\n",
    "    \n",
    "    for i, message in enumerate(stream):\n",
    "        if message.topic == 'eeg':\n",
    "        \n",
    "            eeg, aux = message.value['data']\n",
    "#             print()\n",
    "            eeg = filter_impedance(eeg)\n",
    "#             eeg = eeg[:, 100:-100]            \n",
    "            z = get_z(eeg[0])\n",
    "            Z.append(z)\n",
    "            print(eeg.shape, f'{z/1000:.2f} kOhm')\n",
    "            \n",
    "        if i >= 600:\n",
    "            break"
   ]
  },
  {
   "cell_type": "code",
   "execution_count": 82,
   "metadata": {},
   "outputs": [],
   "source": [
    "from scipy.fftpack import fft, fftfreq, fftshift"
   ]
  },
  {
   "cell_type": "code",
   "execution_count": 84,
   "metadata": {},
   "outputs": [
    {
     "data": {
      "text/plain": [
       "\u001b[0;31mSignature:\u001b[0m \u001b[0mfft\u001b[0m\u001b[0;34m(\u001b[0m\u001b[0mx\u001b[0m\u001b[0;34m,\u001b[0m \u001b[0mn\u001b[0m\u001b[0;34m=\u001b[0m\u001b[0;32mNone\u001b[0m\u001b[0;34m,\u001b[0m \u001b[0maxis\u001b[0m\u001b[0;34m=\u001b[0m\u001b[0;34m-\u001b[0m\u001b[0;36m1\u001b[0m\u001b[0;34m,\u001b[0m \u001b[0moverwrite_x\u001b[0m\u001b[0;34m=\u001b[0m\u001b[0;32mFalse\u001b[0m\u001b[0;34m)\u001b[0m\u001b[0;34m\u001b[0m\u001b[0;34m\u001b[0m\u001b[0m\n",
       "\u001b[0;31mDocstring:\u001b[0m\n",
       "Return discrete Fourier transform of real or complex sequence.\n",
       "\n",
       "The returned complex array contains ``y(0), y(1),..., y(n-1)``, where\n",
       "\n",
       "``y(j) = (x * exp(-2*pi*sqrt(-1)*j*np.arange(n)/n)).sum()``.\n",
       "\n",
       "Parameters\n",
       "----------\n",
       "x : array_like\n",
       "    Array to Fourier transform.\n",
       "n : int, optional\n",
       "    Length of the Fourier transform. If ``n < x.shape[axis]``, `x` is\n",
       "    truncated. If ``n > x.shape[axis]``, `x` is zero-padded. The\n",
       "    default results in ``n = x.shape[axis]``.\n",
       "axis : int, optional\n",
       "    Axis along which the fft's are computed; the default is over the\n",
       "    last axis (i.e., ``axis=-1``).\n",
       "overwrite_x : bool, optional\n",
       "    If True, the contents of `x` can be destroyed; the default is False.\n",
       "\n",
       "Returns\n",
       "-------\n",
       "z : complex ndarray\n",
       "    with the elements::\n",
       "\n",
       "        [y(0),y(1),..,y(n/2),y(1-n/2),...,y(-1)]        if n is even\n",
       "        [y(0),y(1),..,y((n-1)/2),y(-(n-1)/2),...,y(-1)]  if n is odd\n",
       "\n",
       "    where::\n",
       "\n",
       "        y(j) = sum[k=0..n-1] x[k] * exp(-sqrt(-1)*j*k* 2*pi/n), j = 0..n-1\n",
       "\n",
       "See Also\n",
       "--------\n",
       "ifft : Inverse FFT\n",
       "rfft : FFT of a real sequence\n",
       "\n",
       "Notes\n",
       "-----\n",
       "The packing of the result is \"standard\": If ``A = fft(a, n)``, then\n",
       "``A[0]`` contains the zero-frequency term, ``A[1:n/2]`` contains the\n",
       "positive-frequency terms, and ``A[n/2:]`` contains the negative-frequency\n",
       "terms, in order of decreasingly negative frequency. So ,for an 8-point\n",
       "transform, the frequencies of the result are [0, 1, 2, 3, -4, -3, -2, -1].\n",
       "To rearrange the fft output so that the zero-frequency component is\n",
       "centered, like [-4, -3, -2, -1,  0,  1,  2,  3], use `fftshift`.\n",
       "\n",
       "Both single and double precision routines are implemented. Half precision\n",
       "inputs will be converted to single precision. Non-floating-point inputs\n",
       "will be converted to double precision. Long-double precision inputs are\n",
       "not supported.\n",
       "\n",
       "This function is most efficient when `n` is a power of two, and least\n",
       "efficient when `n` is prime.\n",
       "\n",
       "Note that if ``x`` is real-valued, then ``A[j] == A[n-j].conjugate()``.\n",
       "If ``x`` is real-valued and ``n`` is even, then ``A[n/2]`` is real.\n",
       "\n",
       "If the data type of `x` is real, a \"real FFT\" algorithm is automatically\n",
       "used, which roughly halves the computation time. To increase efficiency\n",
       "a little further, use `rfft`, which does the same calculation, but only\n",
       "outputs half of the symmetrical spectrum. If the data is both real and\n",
       "symmetrical, the `dct` can again double the efficiency by generating\n",
       "half of the spectrum from half of the signal.\n",
       "\n",
       "Examples\n",
       "--------\n",
       ">>> from scipy.fftpack import fft, ifft\n",
       ">>> x = np.arange(5)\n",
       ">>> np.allclose(fft(ifft(x)), x, atol=1e-15)  # within numerical accuracy.\n",
       "True\n",
       "\u001b[0;31mFile:\u001b[0m      ~/Development/BCI-Framework/venv/lib/python3.9/site-packages/scipy/fftpack/basic.py\n",
       "\u001b[0;31mType:\u001b[0m      function\n"
      ]
     },
     "metadata": {},
     "output_type": "display_data"
    }
   ],
   "source": [
    "fft?"
   ]
  },
  {
   "cell_type": "code",
   "execution_count": null,
   "metadata": {},
   "outputs": [],
   "source": []
  }
 ],
 "metadata": {
  "kernelspec": {
   "display_name": "Python 3",
   "language": "python",
   "name": "python3"
  },
  "language_info": {
   "codemirror_mode": {
    "name": "ipython",
    "version": 3
   },
   "file_extension": ".py",
   "mimetype": "text/x-python",
   "name": "python",
   "nbconvert_exporter": "python",
   "pygments_lexer": "ipython3",
   "version": "3.9.6"
  }
 },
 "nbformat": 4,
 "nbformat_minor": 4
}
