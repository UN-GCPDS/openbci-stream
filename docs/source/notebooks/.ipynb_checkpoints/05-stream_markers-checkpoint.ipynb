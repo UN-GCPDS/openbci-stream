{
 "cells": [
  {
   "cell_type": "markdown",
   "metadata": {},
   "source": [
    "# Stream markers with Kafka"
   ]
  },
  {
   "cell_type": "markdown",
   "metadata": {},
   "source": [
    "There are two ways to create markers: (i) using the [markers board mode](_notebooks/05-board_modes.html#marker-mode) and (ii) writing directly on the `Kafka stream`. . In this section we are to use the second one, using [kafka-python](https://kafka-python.readthedocs.io/) to create a produser with a specific topic. This is the recomended way to stream marker. This is the recommended way to stream marker for OpenBCI-Stream.\n",
    "\n",
    "To create a Kafka produser with Python is very simple: "
   ]
  },
  {
   "cell_type": "code",
   "execution_count": 1,
   "metadata": {},
   "outputs": [],
   "source": [
    "from kafka import KafkaProducer\n",
    "import pickle\n",
    "\n",
    "marker_producer = KafkaProducer(bootstrap_servers=['localhost:9092'], \n",
    "                                compression_type='gzip', \n",
    "                                value_serializer=pickle.dumps,\n",
    "                               )"
   ]
  },
  {
   "cell_type": "markdown",
   "metadata": {},
   "source": [
    "The `bootstrap_servers` are a list of `IP:PORT` where is running Kafka (OpenBCI-Stream no need more than one server), and `value_serializer` is the method for serialize data, since the consumer will deserialize others kind of data is a good practice serialize all of them with this method."
   ]
  },
  {
   "cell_type": "markdown",
   "metadata": {},
   "source": [
    "The individual markers, are streamed with:"
   ]
  },
  {
   "cell_type": "code",
   "execution_count": null,
   "metadata": {},
   "outputs": [],
   "source": [
    "marker = 'LEFT'\n",
    "marker_producer.send('marker', marker)"
   ]
  },
  {
   "cell_type": "markdown",
   "metadata": {},
   "source": [
    "The `timestamps` are registered automatically in background."
   ]
  },
  {
   "cell_type": "markdown",
   "metadata": {},
   "source": [
    "## Read streamed markers"
   ]
  },
  {
   "cell_type": "code",
   "execution_count": 5,
   "metadata": {},
   "outputs": [
    {
     "name": "stderr",
     "output_type": "stream",
     "text": [
      "WARNING:kafka.coordinator.consumer:group_id is None: disabling auto-commit.\n"
     ]
    },
    {
     "name": "stdout",
     "output_type": "stream",
     "text": [
      "{'timestamp': 1603138052.55216, 'marker': 'Right'}\n",
      "{'timestamp': 1603138054.490148, 'marker': 'Left'}\n",
      "{'timestamp': 1603138056.032424, 'marker': 'Left'}\n",
      "{'timestamp': 1603138057.696433, 'marker': 'Right'}\n"
     ]
    }
   ],
   "source": [
    "from openbci_stream.acquisition import OpenBCIConsumer\n",
    "\n",
    "with OpenBCIConsumer() as stream:\n",
    "    for message in stream:\n",
    "        if message.topic == 'marker':\n",
    "            \n",
    "            if message.value == 'stop':\n",
    "                break\n",
    "            else:\n",
    "                print(message.value)"
   ]
  },
  {
   "cell_type": "markdown",
   "metadata": {},
   "source": [
    "## Redirect markers into the OpenBCI board\n",
    "\n",
    "The package `Cyton` use the compatible [board mode](_notebooks/05-board_modes.html#marker-mode) for create markers, is possible to redirect the streamed markers from `Kafka` to the board calling `listen_stream_markers` after instantiate `Cyton`. "
   ]
  },
  {
   "cell_type": "code",
   "execution_count": null,
   "metadata": {},
   "outputs": [],
   "source": [
    "from openbci_stream.acquisition import Cyton\n",
    "\n",
    "openbci = Cyton('serial', capture_stream=True)\n",
    "\n",
    "openbci.listen_stream_markers(host='localhost:9092')\n",
    "openbci.stream(15)\n",
    "\n",
    "print(openbci.eeg_time_series)"
   ]
  }
 ],
 "metadata": {
  "kernelspec": {
   "display_name": "Python 3",
   "language": "python",
   "name": "python3"
  },
  "language_info": {
   "codemirror_mode": {
    "name": "ipython",
    "version": 3
   },
   "file_extension": ".py",
   "mimetype": "text/x-python",
   "name": "python",
   "nbconvert_exporter": "python",
   "pygments_lexer": "ipython3",
   "version": "3.8.6"
  }
 },
 "nbformat": 4,
 "nbformat_minor": 4
}
