{
 "cells": [
  {
   "cell_type": "code",
   "execution_count": null,
   "metadata": {},
   "outputs": [],
   "source": [
    "from matplotlib import pyplot as plt\n",
    "from datetime import datetime\n",
    "\n",
    "plt.figure(figsize=(16, 5), dpi=90)\n",
    "\n",
    "time_axis = [datetime.fromtimestamp(_) for _ in openbci.timestamp_time_series]\n",
    "for i, ch in enumerate(openbci.eeg_time_series):\n",
    "    plt.plot(time_axis, ch+i)\n",
    "    \n",
    "plt.gcf().autofmt_xdate()\n",
    "plt.grid()\n",
    "plt.show()"
   ]
  }
 ],
 "metadata": {
  "kernelspec": {
   "display_name": "Python 3",
   "language": "python",
   "name": "python3"
  },
  "language_info": {
   "codemirror_mode": {
    "name": "ipython",
    "version": 3
   },
   "file_extension": ".py",
   "mimetype": "text/x-python",
   "name": "python",
   "nbconvert_exporter": "python",
   "pygments_lexer": "ipython3",
   "version": "3.8.6"
  }
 },
 "nbformat": 4,
 "nbformat_minor": 4
}
