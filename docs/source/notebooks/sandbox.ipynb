{
 "cells": [
  {
   "cell_type": "code",
   "execution_count": 2,
   "metadata": {},
   "outputs": [
    {
     "name": "stdout",
     "output_type": "stream",
     "text": [
      "size: 30 minutes, 1000Hz, 16ch\n",
      "Time: 1.7308628559112549 s\n"
     ]
    }
   ],
   "source": [
    "from openbci_stream.handlers import HDF5_Writer\n",
    "from datetime import datetime\n",
    "from datetime import timedelta\n",
    "import numpy as np\n",
    "import time\n",
    "\n",
    "now = datetime.now()\n",
    "\n",
    "header = {'sample_rate': 1000,\n",
    "          'datetime': now.timestamp(),\n",
    "          'montage': 'Custom 1020|standard_1020|Fp1,Fp2,F7,Fz,F8,C3,Cz,C4,T5,P3,Pz,P4,T6,O1,Oz,O2'\n",
    "         }\n",
    "\n",
    "t0 = time.time()\n",
    "\n",
    "with HDF5_Writer(f'unamed-{np.random.randint(0, 10)}.h5') as writer:\n",
    "\n",
    "    writer.add_header(header)\n",
    "    \n",
    "    for i in range(60*30):\n",
    "        eeg = np.random.normal(size=(1000, 16))\n",
    "        timestamp = (now + timedelta(seconds=i)).timestamp()\n",
    "        writer.add_eeg(eeg, timestamp)\n",
    "        \n",
    "      \n",
    "print('size: 30 minutes, 1000Hz, 16ch')\n",
    "print(f\"Time: {time.time()-t0} s\")\n"
   ]
  },
  {
   "cell_type": "code",
   "execution_count": 5,
   "metadata": {},
   "outputs": [
    {
     "name": "stdout",
     "output_type": "stream",
     "text": [
      "size: 30 minutes, 1000Hz, 16ch\n",
      "Time: 38.98682975769043 s\n"
     ]
    }
   ],
   "source": [
    "t0 = time.time()\n",
    "data = np.random.normal(size=(1000*30*60, 16))\n",
    "\n",
    "np.savetxt(f'unamed-{np.random.randint(0, 10)}.csv', data, delimiter=',')\n",
    "\n",
    "print('size: 30 minutes, 1000Hz, 16ch')\n",
    "print(f\"Time: {time.time()-t0} s\")"
   ]
  },
  {
   "cell_type": "code",
   "execution_count": 2,
   "metadata": {},
   "outputs": [
    {
     "name": "stderr",
     "output_type": "stream",
     "text": [
      "WARNING:root:OpenBCI - v1.0.0-alpha.1\n",
      "WARNING:root:This version could be unstable.\n"
     ]
    },
    {
     "ename": "NameError",
     "evalue": "name 'now' is not defined",
     "output_type": "error",
     "traceback": [
      "\u001b[0;31m---------------------------------------------------------------------------\u001b[0m",
      "\u001b[0;31mNameError\u001b[0m                                 Traceback (most recent call last)",
      "\u001b[0;32m<ipython-input-2-bd359d3e83e8>\u001b[0m in \u001b[0;36m<module>\u001b[0;34m\u001b[0m\n\u001b[1;32m      5\u001b[0m \u001b[0;34m\u001b[0m\u001b[0m\n\u001b[1;32m      6\u001b[0m \u001b[0max\u001b[0m \u001b[0;34m=\u001b[0m \u001b[0mplt\u001b[0m\u001b[0;34m.\u001b[0m\u001b[0msubplot\u001b[0m\u001b[0;34m(\u001b[0m\u001b[0;36m111\u001b[0m\u001b[0;34m)\u001b[0m\u001b[0;34m\u001b[0m\u001b[0;34m\u001b[0m\u001b[0m\n\u001b[0;32m----> 7\u001b[0;31m \u001b[0;32mwith\u001b[0m \u001b[0mHDF5_Reader\u001b[0m\u001b[0;34m(\u001b[0m\u001b[0;34mf'sample-{now.timestamp()}.h5'\u001b[0m\u001b[0;34m)\u001b[0m \u001b[0;32mas\u001b[0m \u001b[0mreader\u001b[0m\u001b[0;34m:\u001b[0m\u001b[0;34m\u001b[0m\u001b[0;34m\u001b[0m\u001b[0m\n\u001b[0m\u001b[1;32m      8\u001b[0m \u001b[0;34m\u001b[0m\u001b[0m\n\u001b[1;32m      9\u001b[0m \u001b[0;31m#     t = reader.timestamp\u001b[0m\u001b[0;34m\u001b[0m\u001b[0;34m\u001b[0m\u001b[0;34m\u001b[0m\u001b[0m\n",
      "\u001b[0;31mNameError\u001b[0m: name 'now' is not defined"
     ]
    },
    {
     "data": {
      "image/png": "[encoded data removed]",
      "text/plain": [
       "<Figure size 960x540 with 1 Axes>"
      ]
     },
     "metadata": {
      "needs_background": "light"
     },
     "output_type": "display_data"
    }
   ],
   "source": [
    "from openbci_stream.handlers import HDF5_Reader\n",
    "from matplotlib import pyplot as plt\n",
    "\n",
    "plt.figure(figsize=(16, 9), dpi=60)\n",
    "\n",
    "ax = plt.subplot(111)\n",
    "with HDF5_Reader(f'sample-{now.timestamp()}.h5') as reader:\n",
    "    \n",
    "#     t = reader.timestamp\n",
    "\n",
    "    channels = reader.header['montage'].split('|')[-1].split(',')\n",
    "    \n",
    "    for i, ch in enumerate(reader.eeg[:1000].T):\n",
    "        plt.plot((ch-ch.mean())*0.1+i)\n",
    "        \n",
    "    ax.set_yticklabels(channels)\n",
    "    "
   ]
  }
 ],
 "metadata": {
  "kernelspec": {
   "display_name": "Python 3",
   "language": "python",
   "name": "python3"
  },
  "language_info": {
   "codemirror_mode": {
    "name": "ipython",
    "version": 3
   },
   "file_extension": ".py",
   "mimetype": "text/x-python",
   "name": "python",
   "nbconvert_exporter": "python",
   "pygments_lexer": "ipython3",
   "version": "3.8.5"
  }
 },
 "nbformat": 4,
 "nbformat_minor": 4
}
