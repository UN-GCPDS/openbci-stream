{
 "cells": [
  {
   "cell_type": "markdown",
   "metadata": {},
   "source": [
    "# Stream markers with Kafka"
   ]
  },
  {
   "cell_type": "markdown",
   "metadata": {},
   "source": [
    "There is two ways to create markers: using the [markers board mode](_notebooks/05-board_modes.html#marker-mode) and writing directly on the `Kafka stream`, this second way is most useful because the `producer` can be running, for example, directly on a stimuli delivery without the needing for a direct connection with the board. "
   ]
  },
  {
   "cell_type": "markdown",
   "metadata": {},
   "source": [
    "For example, in `Python` is as simple as:"
   ]
  },
  {
   "cell_type": "code",
   "execution_count": null,
   "metadata": {},
   "outputs": [],
   "source": [
    "from kafka import KafkaProducer\n",
    "\n",
    "marker_producer = KafkaProducer(bootstrap_servers=['localhost:9092'],\n",
    "                                compression_type='gzip',)"
   ]
  },
  {
   "cell_type": "markdown",
   "metadata": {},
   "source": [
    "The individual markers, are streamed with:"
   ]
  },
  {
   "cell_type": "code",
   "execution_count": null,
   "metadata": {},
   "outputs": [],
   "source": [
    "marker = 'RIGHT'\n",
    "marker_producer.send('marker', marker)"
   ]
  },
  {
   "cell_type": "markdown",
   "metadata": {},
   "source": [
    "The `timestamps` are registered in background."
   ]
  },
  {
   "cell_type": "markdown",
   "metadata": {},
   "source": [
    "## Read streamed markers"
   ]
  },
  {
   "cell_type": "code",
   "execution_count": null,
   "metadata": {},
   "outputs": [],
   "source": [
    "from openbci_stream.consumer import OpenBCIConsumer\n",
    "\n",
    "with OpenBCIConsumer() as stream:\n",
    "    for message in stream:\n",
    "        if message.topic == 'marker':\n",
    "            print(message.value)"
   ]
  },
  {
   "cell_type": "markdown",
   "metadata": {},
   "source": [
    "## Redirect markers into the OpenBCI board\n",
    "\n",
    "The package `Cyton` use the compatible [board mode](_notebooks/05-board_modes.html#marker-mode) for create markers, is possible to redirect the streamed markers from `Kafka` to the board calling `listen_stream_markers` after instantiate `Cyton`. "
   ]
  },
  {
   "cell_type": "code",
   "execution_count": null,
   "metadata": {},
   "outputs": [],
   "source": [
    "from openbci_stream.acquisition import Cyton\n",
    "\n",
    "openbci = Cyton('serial', capture_stream=True)\n",
    "\n",
    "openbci.listen_stream_markers(host='localhost:9092')\n",
    "openbci.stream(15)\n",
    "\n",
    "print(openbci.eeg_time_series)"
   ]
  }
 ],
 "metadata": {
  "kernelspec": {
   "display_name": "Python 3",
   "language": "python",
   "name": "python3"
  },
  "language_info": {
   "codemirror_mode": {
    "name": "ipython",
    "version": 3
   },
   "file_extension": ".py",
   "mimetype": "text/x-python",
   "name": "python",
   "nbconvert_exporter": "python",
   "pygments_lexer": "ipython3",
   "version": "3.8.6"
  }
 },
 "nbformat": 4,
 "nbformat_minor": 4
}
