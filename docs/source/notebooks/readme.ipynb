{
 "cells": [
  {
   "cell_type": "markdown",
   "metadata": {},
   "source": [
    "> Developed by [Yeison Nolberto Cardona Álvarez](https://github.com/yeisonCardona)  \n",
    "> [Andrés Marino Álvarez Meza, PhD.](https://github.com/amalvarezme)  \n",
    "> César Germán Castellanos Dominguez, PhD.  \n",
    "> _Digital Signal Processing and Control Group_  | _Grupo de Control y Procesamiento Digital de Señales ([GCPDS](https://github.com/UN-GCPDS/))_  \n",
    "> _National University of Colombia at Manizales_ | _Universidad Nacional de Colombia sede Manizales_\n",
    "\n",
    "----"
   ]
  },
  {
   "cell_type": "markdown",
   "metadata": {},
   "source": [
    "# OpenBCI-Stream \n",
    "High level Python module for EEG/EMG/ECG acquisition and distributed streaming for OpenBCI Cyton board.\n",
    "\n",
    "![GitHub top language](https://img.shields.io/github/languages/top/un-gcpds/openbci-stream?)\n",
    "![PyPI - License](https://img.shields.io/pypi/l/openbci-stream?)\n",
    "![PyPI](https://img.shields.io/pypi/v/openbci-stream?)\n",
    "![PyPI - Status](https://img.shields.io/pypi/status/openbci-stream?)\n",
    "![PyPI - Python Version](https://img.shields.io/pypi/pyversions/openbci-stream?)\n",
    "![GitHub last commit](https://img.shields.io/github/last-commit/un-gcpds/openbci-stream?)\n",
    "![CodeFactor Grade](https://img.shields.io/codefactor/grade/github/UN-GCPDS/openbci-stream?)\n",
    "[![Documentation Status](https://readthedocs.org/projects/openbci-stream/badge/?version=latest)](https://openbci-stream.readthedocs.io/en/latest/?badge=latest)\n",
    "\n",
    "Comprise a set of scripts that deals with the configuration and connection with the board, also is compatible with both connection modes supported by [Cyton](https://shop.openbci.com/products/cyton-biosensing-board-8-channel?variant=38958638542): RFduino (Serial dongle) and Wi-Fi (with the OpenBCI Wi-Fi Shield). These drivers are a stand-alone library that can handle the board from three different endpoints: (i) a [Command-Line Interface](06-command_line_interface.ipynb) (CLI) with simple instructions configure, start and stop data acquisition, debug stream status, and register events markers; (ii) a [Python Module](03-data_acuisition.ipynb) with high-level instructions and asynchronous acquisition; (iii) an object-proxying using Remote Python Call (RPyC) for [distributed implementations](A4-server-based-acquisition.ipynb) that can manipulate the Python modules as if they were local, this last mode needs a daemon running in the remote host that will listen to connections and driving instructions.\n",
    "\n",
    "The main functionality of the drivers live on to serve real-time and distributed access to data flow, even on single machine implementations, this is achieved by implementing [Kafka](https://kafka.apache.org/) and their capabilities to create multiple topics for classifying the streaming, these topics are used to separate the neurophysiological data from the [event markers](05-stream_markers), so the clients can subscript to a specific topic for injecting or read content, this means that is possible to implement an event register in a separate process that stream markers for all clients in real-time without handle dense time-series data. A crucial issue that stays on [time synchronization](A4-server-based_acquisition.ipynb#Step-5---Configure-time-server), all systems components in the network should have the same real-time protocol (RTP) server reference. "
   ]
  },
  {
   "cell_type": "markdown",
   "metadata": {},
   "source": [
    "## Main features\n",
    "\n",
    "  * **Asynchronous acquisition:** Acquisition and deserialization are done in uninterrupted parallel processes. In this way, the sampling rate keeps stable as long as possible.\n",
    "  * **Distributed streaming system:** The acquisition, processing, visualizations, and any other system that needs to be fed with EEG/EMG/ECG real-time data can run with their architecture.\n",
    "  * **Remote board handle:** Same code syntax for developing and debug Cython boards connected to any node in the distributed system.\n",
    "  * **Command-line interface:** A simple interface for handle the start, stop, and access to data stream directly from the command line.\n",
    "  * **Markers/Events handler:** Besides the marker boardmode available in Cyton, a stream channel for the reading and writing of markers is available for use in any development. "
   ]
  },
  {
   "cell_type": "markdown",
   "metadata": {},
   "source": [
    "## Examples"
   ]
  },
  {
   "cell_type": "code",
   "execution_count": null,
   "metadata": {},
   "outputs": [],
   "source": [
    "# Acquisition with blocking call\n",
    "\n",
    "from openbci_stream.acquisition import Cyton\n",
    "openbci = Cyton('serial', endpoint='/dev/ttyUSB0', capture_stream=True)\n",
    "\n",
    "# blocking call\n",
    "openbci.stream(15)  # collect data for 15 seconds\n",
    "\n",
    "# openbci.eeg_time_series \n",
    "# openbci.aux_time_series\n",
    "# openbci.timestamp_time_series "
   ]
  },
  {
   "cell_type": "code",
   "execution_count": null,
   "metadata": {},
   "outputs": [],
   "source": [
    "# Acquisition with asynchronous call\n",
    "\n",
    "from openbci_stream.acquisition import Cyton\n",
    "openbci = Cyton('wifi', endpoint='192.68.1.113', capture_stream=True)\n",
    "openbci.stream(15) # collect data for 15 seconds\n",
    "\n",
    "# asynchronous call\n",
    "openbci.start_stream()\n",
    "time.sleep(15)  # collect data for 15 seconds\n",
    "openbci.stop_stream()"
   ]
  },
  {
   "cell_type": "code",
   "execution_count": null,
   "metadata": {},
   "outputs": [],
   "source": [
    "# Remote acquisition\n",
    "\n",
    "from openbci_stream.acquisition import Cyton\n",
    "openbci = Cyton('serial', endpoint='/dev/ttyUSB0', host='192.168.1.1', capture_stream=True)\n",
    "\n",
    "# blocking call\n",
    "openbci.stream(15)  # collect data for 15 seconds"
   ]
  },
  {
   "cell_type": "code",
   "execution_count": null,
   "metadata": {},
   "outputs": [],
   "source": [
    "# Consumer for active streamming\n",
    "\n",
    "from openbci_stream.acquisition import OpenBCIConsumer\n",
    "with OpenBCIConsumer() as stream:\n",
    "    for i, message in enumerate(stream):\n",
    "        if message.topic == 'eeg':\n",
    "            print(f\"received {message.value['samples']} samples\")\n",
    "            if i == 9:\n",
    "                break"
   ]
  },
  {
   "cell_type": "code",
   "execution_count": null,
   "metadata": {},
   "outputs": [],
   "source": [
    "# Create stream then consume data\n",
    "\n",
    "from openbci_stream.acquisition import OpenBCIConsumer\n",
    "with OpenBCIConsumer(mode='serial', endpoint='/dev/ttyUSB0', streaming_package_size=250) as (stream, openbci):\n",
    "    t0 = time.time()\n",
    "    for i, message in enumerate(stream):\n",
    "        if message.topic == 'eeg':\n",
    "            print(f\"{i}: received {message.value['samples']} samples\")\n",
    "            t0 = time.time()\n",
    "            if i == 9:\n",
    "                break"
   ]
  }
 ],
 "metadata": {
  "kernelspec": {
   "display_name": "Python 3",
   "language": "python",
   "name": "python3"
  },
  "language_info": {
   "codemirror_mode": {
    "name": "ipython",
    "version": 3
   },
   "file_extension": ".py",
   "mimetype": "text/x-python",
   "name": "python",
   "nbconvert_exporter": "python",
   "pygments_lexer": "ipython3",
   "version": "3.9.6"
  }
 },
 "nbformat": 4,
 "nbformat_minor": 4
}
