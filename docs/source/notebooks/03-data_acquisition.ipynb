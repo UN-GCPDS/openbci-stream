{
 "cells": [
  {
   "cell_type": "markdown",
   "metadata": {},
   "source": [
    "# Data Acquisition"
   ]
  },
  {
   "cell_type": "markdown",
   "metadata": {},
   "source": [
    "<div class=\"alert alert-info\"> Note\n",
    "    \n",
    "Before continuing with the data acquisition, make sure to satisfy these two conditions.\n",
    "    \n",
    "  * OpenBCI firmware version >= [V3.0.0](https://docs.openbci.com/docs/02Cyton/CytonSDK#firmware-v300-new-commands) is required.\n",
    "  * Apache Kafka must be running and correctly configured, otherwise is impossible to access to EEG data, check the guide for [configure Kafka](02-kafka_configuration.html#kafka-configuration).\n",
    "    \n",
    "</div>"
   ]
  },
  {
   "cell_type": "markdown",
   "metadata": {},
   "source": [
    "## Distributed streaming architecture\n",
    "\n",
    "Here is where Kafka meets OpenBCI, first at all, a few definitions:\n",
    "\n",
    "  * **Produser:** Kafka node thats only generate data.\n",
    "  * **Coansumet:** Kafka node thats only read data.\n",
    "  * **Transformer:** Kafka node thats read data and push new kind of data in the stream.\n",
    "\n",
    "We use `local` to refer to the node were OpenBCI board is attached, and `remote` the other ones. We can set as many remote nodes as we want or none.\n",
    "\n",
    "![OpenBCI and Kafka data flow](images/kafka_streams.png)\n",
    "\n",
    "Talking strictly, in a distributed system we have not distinctions like, server and client, or local and remote, all nodes are equals. In this way, OpenBCI-Stream is cappable to connect and start acquisitión no matters in wich node has being executed and which node has the OpenBCI board attached.  When this nodes are differents, we need an addres to find OpenBCI, we will call this addres `host` and corresponds to the computer IP address in the local network."
   ]
  },
  {
   "cell_type": "markdown",
   "metadata": {},
   "source": [
    "## Initializing the transformer\n",
    "\n",
    "If you are familiarized with OpenBCI, you will notice that best option is collect the data in raw format, is faster, if we do this we must *transform* this data into EEG microvolts data. Using the Kafka paradigm, this means to create a tranformer, a single script thats will be reading raw data from the stream and pusshing deserialized data back. In Kafka this two channels are called Topics, There is multiple ways to execute this **mandatory transformer**.\n",
    "\n",
    "### From command line\n",
    "OpenBCI-Stream integrate a high-level transformer for this purpose, this script is also a daemon, if the package was installed correctly in the system, there is terminal program called `stream_eeg`, this program will start this transformer."
   ]
  },
  {
   "cell_type": "code",
   "execution_count": null,
   "metadata": {},
   "outputs": [],
   "source": [
    "$ stream_eeg"
   ]
  },
  {
   "cell_type": "markdown",
   "metadata": {},
   "source": [
    "### From systemd\n",
    "\n",
    "If your system are [systemd](https://wiki.archlinux.org/index.php/systemd) based, you will be interested in execute `stream_eeg systemd`, in this way a system daemon will be installed and the transformer could be initialized with:"
   ]
  },
  {
   "cell_type": "code",
   "execution_count": null,
   "metadata": {},
   "outputs": [],
   "source": [
    "$ stream_eeg systemd\n",
    "$ systemctl start stream_eeg"
   ]
  },
  {
   "cell_type": "markdown",
   "metadata": {},
   "source": [
    "### From source code\n",
    "\n",
    "For advanced users that really knows what are they doing, is to run the transformer directly from the [source code](https://github.com/UN-GCPDS/openbci-stream/blob/master/openbci_stream/daemons/stream_eeg.py)."
   ]
  },
  {
   "cell_type": "markdown",
   "metadata": {},
   "source": [
    "### From script"
   ]
  },
  {
   "cell_type": "code",
   "execution_count": null,
   "metadata": {},
   "outputs": [],
   "source": [
    "from openbci_stream.daemons.stream_eeg import BinaryToEEG\n",
    "\n",
    "tranformer = BinaryToEEG()\n",
    "tranformer.consume()"
   ]
  },
  {
   "cell_type": "markdown",
   "metadata": {},
   "source": [
    "<div class=\"alert alert-info\"> Note\n",
    "    \n",
    "  * There is no way to check if this transformer are running, if you are getting empty data on acquisition, that could means tha there is a problem with this.\n",
    "  * This transformer should be running in background all time you are working with OpenBCI.\n",
    "  * This transformer should be run only on one node, anyone, but never more than one.\n",
    "  \n",
    "</div>"
   ]
  },
  {
   "cell_type": "markdown",
   "metadata": {},
   "source": [
    "## Data acquisition\n",
    "\n",
    "### High-level `Cyton` class\n",
    "The [Cyton](../_modules/openbci_stream.acquisition.cyton.html) class is the main method to handle the board connection, support multiple modes (Serial, WiFi), synchronous, and asynchronous acquisition."
   ]
  },
  {
   "cell_type": "code",
   "execution_count": null,
   "metadata": {},
   "outputs": [],
   "source": [
    "from openbci_stream.acquisition import Cyton\n",
    "import time\n",
    "\n",
    "openbci = Cyton('wifi', '192.168.1.78')\n",
    "openbci.command(cons.DEFAULT_CHANNELS_SETTINGS)\n",
    "# openbci = Cyton('serial', 'COM0')\n",
    "\n",
    "# stream 15 seconds\n",
    "openbci.start_stream()\n",
    "time.sleep(15)  # asynchronous call\n",
    "openbci.stop_stream()"
   ]
  },
  {
   "cell_type": "markdown",
   "metadata": {},
   "source": [
    "The above initialize the data streaming, but not capture them, `capture_stream` argument must be configured for access to EEG data."
   ]
  },
  {
   "cell_type": "code",
   "execution_count": null,
   "metadata": {},
   "outputs": [],
   "source": [
    "from openbci_stream.acquisition import Cyton\n",
    "\n",
    "openbci = Cyton('serial', capture_stream=True)\n",
    "openbci.command(cons.DEFAULT_CHANNELS_SETTINGS)\n",
    "\n",
    "openbci.stream(15)  # stream 15 second\n",
    "\n",
    "print(openbci.eeg_time_series)"
   ]
  },
  {
   "cell_type": "markdown",
   "metadata": {},
   "source": [
    "In the first snippet, the stream was activated asynchronously, which means that any other task can be implemented between `start_stream()` and `stop_stream()`, in the second snippet, the code execution will wait the specified time."
   ]
  },
  {
   "cell_type": "markdown",
   "metadata": {},
   "source": [
    "<div class=\"alert alert-info\"> Note\n",
    "\n",
    "_Why is `capture_stream` set `False` by default?:_  \n",
    "Since the main achieve is a distributed streaming acquisition, this features is set False by default, so, the acquisition will be treated as distributed even in local machines, even in the same script.\n",
    "  \n",
    "</div>"
   ]
  },
  {
   "cell_type": "markdown",
   "metadata": {},
   "source": [
    "#### Datetimes\n",
    "\n",
    "The [Cyton](../_modules/openbci_stream.acquisition.cyton.html) class has the `timestamp_time_series` object that contains a [unix timestamp](https://www.unixtimestamp.com/) register, this array can be passed to [datetime.fromtimestamp](https://docs.python.org/3/library/datetime.html#datetime.datetime.fromtimestamp) to get a [datetime](https://docs.python.org/3/library/datetime.html) object."
   ]
  },
  {
   "cell_type": "code",
   "execution_count": null,
   "metadata": {},
   "outputs": [],
   "source": [
    "from datetime import datetime\n",
    "datetimes = [datetime.fromtimestamp(_) for _ in openbci.timestamp_time_series]\n",
    "\n",
    "\n",
    "print(\"Raw timestamps: \", openbci.timestamp_time_series[:2])\n",
    "print(\"Datetimes: \", datetimes[:2], end='\\n\\n')\n",
    "\n",
    "\n",
    "delta = datetimes[-1] - datetimes[0]\n",
    "print(f\"Duration: { delta.seconds} s\")\n",
    "print(f\"Started on : {datetimes[0].strftime('%Y-%m-%d %H:%M')}\")"
   ]
  },
  {
   "cell_type": "markdown",
   "metadata": {},
   "source": [
    "### Controlled execution with `OpenBCIConsumer()` class\n",
    "\n",
    "This acquisition method allows you to connect to the data stream and get the data in real-time, with the difference that [OpenBCIConsumer](../_modules/openbci_stream.acquisition.cyton.html) can connect to a previously started stream and can be executed from any node."
   ]
  },
  {
   "cell_type": "code",
   "execution_count": null,
   "metadata": {},
   "outputs": [],
   "source": [
    "from openbci_stream.acquisition import OpenBCIConsumer\n",
    "\n",
    "with OpenBCIConsumer() as stream:\n",
    "    for i, message in enumerate(stream):\n",
    "        if message.topic == 'eeg':\n",
    "            print(f\"{i}:{time.time()-t0} received {message.value['samples']} samples\")\n",
    "            if i == 9:\n",
    "                break"
   ]
  },
  {
   "cell_type": "markdown",
   "metadata": {},
   "source": [
    "In the above script, there is no board configuration because the acquisition was already started, so this only connects to the stream. \n",
    "\n",
    "Additionally, is possible to start the acquisition like in [Cyton](../_modules/openbci_stream.acquisition.cyton.html) class by passing the same arguments, with the difference that `capture_stream` has not effect because the data will be returned anyway."
   ]
  },
  {
   "cell_type": "code",
   "execution_count": null,
   "metadata": {},
   "outputs": [],
   "source": [
    "from openbci_stream.acquisition import OpenBCIConsumer\n",
    "import time\n",
    "\n",
    "with OpenBCIConsumer(mode='serial', endpoint='/dev/ttyUSB0', streaming_package_size=250) as (stream, openbci):\n",
    "    t0 = time.time()\n",
    "    for i, message in enumerate(stream):\n",
    "        if message.topic == 'eeg':\n",
    "            print(f\"{i}:{time.time()-t0} received {message.value['samples']} samples\")\n",
    "            t0 = time.time()\n",
    "            if i == 9:\n",
    "                break"
   ]
  },
  {
   "cell_type": "markdown",
   "metadata": {},
   "source": [
    "In the above script, the controlled execution will return two objects, `stream` from [kafka-python](https://kafka-python.readthedocs.io/en/master/index.html#) and an instance of [Cyton](../_modules/openbci_stream.acquisition.cyton.html) called `openbci`. This instance can be used for send extra commands previous to iterate over the `stream`:"
   ]
  },
  {
   "cell_type": "code",
   "execution_count": null,
   "metadata": {},
   "outputs": [],
   "source": [
    "with OpenBCIConsumer(mode='wifi', endpoint='192.168.1.87', streaming_package_size=500) as (stream, openbci):\n",
    "\n",
    "    openbci.stop_stream() # stop\n",
    "    \n",
    "    # Send commands previous to stream\n",
    "    openbci.command(cons.SAMPLE_RATE_2KSPS)\n",
    "    openbci.command(cons.DEFAULT_CHANNELS_SETTINGS)\n",
    "    openbci.leadoff_impedance(range(1, 9), pchan=cons.TEST_SIGNAL_NOT_APPLIED, nchan=cons.TEST_SIGNAL_APPLIED)\n",
    "    \n",
    "    openbci.start_stream() # start\n",
    "    \n",
    "    for message in stream:\n",
    "        ..."
   ]
  },
  {
   "cell_type": "markdown",
   "metadata": {},
   "source": [
    "#### Linstenign markers\n",
    "\n",
    "You probably noticed the conditional line `if message.topic == 'eeg':`, here `eeg` is a topic, there is an extra topic called `markers` and this is one of the most convenient usages of `OpenBCIConsumer`: listening to markers:"
   ]
  },
  {
   "cell_type": "code",
   "execution_count": null,
   "metadata": {},
   "outputs": [],
   "source": [
    "from openbci_stream.acquisition import OpenBCIConsumer\n",
    "\n",
    "# with OpenBCIConsumer() as stream:\n",
    "with OpenBCIConsumer(mode='serial', endpoint='/dev/ttyUSB0', streaming_package_size=250) as (stream, openbci):\n",
    "    for message in stream:\n",
    "        if message.topic == 'marker':\n",
    "            print(message.value)"
   ]
  },
  {
   "cell_type": "markdown",
   "metadata": {},
   "source": [
    "## Common features"
   ]
  },
  {
   "cell_type": "markdown",
   "metadata": {},
   "source": [
    "### WiFi module\n",
    "\n",
    "In the same way that `Cyton('serial')` and `OpenBCIConsumer(mode='serial')` handle the serial interface, the argument `'wifi'` can be used for a WiFi module."
   ]
  },
  {
   "cell_type": "code",
   "execution_count": null,
   "metadata": {},
   "outputs": [],
   "source": [
    "Cyton('wifi')\n",
    "OpenBCIConsumer(mode='wifi')"
   ]
  },
  {
   "cell_type": "markdown",
   "metadata": {},
   "source": [
    "### Daisy\n",
    "\n",
    "Daisy extension board is detected automatically but can be configured explicitly with the argument `daisy=True`:"
   ]
  },
  {
   "cell_type": "code",
   "execution_count": null,
   "metadata": {},
   "outputs": [],
   "source": [
    "Cyton('serial', daisy=True)\n",
    "OpenBCIConsumer(mode='serial', daisy=True)"
   ]
  },
  {
   "cell_type": "markdown",
   "metadata": {},
   "source": [
    "### Montage\n",
    "\n",
    "To define the EEG electrodes position is very useful, this data is streamed too, the argument `montage` receives either a list or a dictionary, this feature not only registers the montage used but also turn on and off channels on the Cyton board, by default all channels are turned on.  \n",
    "A `list` means consecutive channels:"
   ]
  },
  {
   "cell_type": "code",
   "execution_count": null,
   "metadata": {},
   "outputs": [],
   "source": [
    "Cyton('serial', daisy=True, montage=['Fp1', 'Fp2', 'F3', 'Fz', 'F4', 'T3', 'C3', 'Cz', \n",
    "                                     'C4', 'T4', 'P3', 'Pz', 'P4', 'O1', 'O2', 'Oz'])"
   ]
  },
  {
   "cell_type": "markdown",
   "metadata": {},
   "source": [
    "A `dictionary` means specific channels:"
   ]
  },
  {
   "cell_type": "code",
   "execution_count": null,
   "metadata": {},
   "outputs": [],
   "source": [
    "Cyton('serial', daisy=True, montage={0: 'Fp1', 1: 'Fp2', 2: 'F3', 3: 'Fz', 4: 'F4'})"
   ]
  },
  {
   "cell_type": "markdown",
   "metadata": {},
   "source": [
    "### Commands\n",
    "\n",
    "Cyton boards can be [configured](https://docs.openbci.com/docs/02Cyton/CytonSDK) sending a set of instructions [coded here](../_modules/openbci_stream/acquisition/cyton_base.html#CytonBase).  \n",
    "All instructions are defined like constants."
   ]
  },
  {
   "cell_type": "code",
   "execution_count": null,
   "metadata": {},
   "outputs": [],
   "source": [
    "from openbci_stream.acquisition import CytonConstants as cons\n",
    "openbci.command(cons.SD_DATA_LOGGING_1HR)\n",
    "openbci.command(cons.TEST_1X_SLOW)"
   ]
  },
  {
   "cell_type": "markdown",
   "metadata": {},
   "source": [
    "Send a constant with the string names is possible too:"
   ]
  },
  {
   "cell_type": "code",
   "execution_count": null,
   "metadata": {},
   "outputs": [],
   "source": [
    "openbci.command('SD_DATA_LOGGING_1HR')\n",
    "openbci.command('TEST_1X_SLOW')"
   ]
  },
  {
   "cell_type": "markdown",
   "metadata": {},
   "source": [
    "## Save data\n",
    "\n",
    "There is implemented a [custom data storage handler](07-data_storage_handler.ipynb), this handler was designed especially for data streams and supports useful features like EFD exports and MNE objects generator."
   ]
  },
  {
   "cell_type": "code",
   "execution_count": 3,
   "metadata": {},
   "outputs": [
    {
     "name": "stderr",
     "output_type": "stream",
     "text": [
      "WARNING:kafka.coordinator.consumer:group_id is None: disabling auto-commit.\n"
     ]
    }
   ],
   "source": [
    "from openbci_stream.acquisition import Cyton\n",
    "from openbci_stream.acquisition import CytonConstants as cons\n",
    "\n",
    "openbci = Cyton('wifi', '192.168.4.1', capture_stream=True, streaming_package_size=250)\n",
    "openbci.command(cons.DEFAULT_CHANNELS_SETTINGS)\n",
    "openbci.command(cons.SAMPLE_RATE_1KSPS)\n",
    "\n",
    "openbci.stream(10)\n",
    "openbci.save('eeg_saved.h5', montage='standar_1020')"
   ]
  },
  {
   "cell_type": "markdown",
   "metadata": {},
   "source": [
    "The data is cleared for every acquisition."
   ]
  },
  {
   "cell_type": "markdown",
   "metadata": {},
   "source": [
    "## *Cyton* Vs *OpenBCIConsumer*\n",
    "\n",
    "|                                          | Cyton()                   | OpenBCIConsumer()         |\n",
    "|------------------------------------------|---------------------------|---------------------------|\n",
    "| Type                                     | class                     | controlled execution      |\n",
    "| Can start remote and local acquisition   | yes                       | yes                       |\n",
    "| Can get the data from remote acquisition | no                        | yes                       |\n",
    "| Can get the data from local acquisition  | yes                       | yes                       |\n",
    "| Existence                                | Persistent                | Only during transmission  |\n",
    "| Main use                                 | General purpose           | Consumer and transformers |\n",
    "| Acquisition                              | Syncrhonous, Asynchronous | Real-time                 |\n",
    "\n",
    "Both classes allow the board initialization, stream, and data acquisition, `Cyton` can be used in synchronous and asynchronous implementations, is more flexible and the recommended way to handle boards, on the other hand,  `OpenBCIConsumer` is an implementation based in controlled execution, must be used when access immediately to the EEG data is required.\n",
    "\n",
    "\n",
    "### Which should I choose?\n",
    "Most of the time the `Cyton` class is the best option, it supports overwriting, and can be used to start and stop de acquisition at any time without disconnect the board. `OpenBCIConsumer` is recommended for a real-time data consumer or for markers listening."
   ]
  }
 ],
 "metadata": {
  "kernelspec": {
   "display_name": "Python 3",
   "language": "python",
   "name": "python3"
  },
  "language_info": {
   "codemirror_mode": {
    "name": "ipython",
    "version": 3
   },
   "file_extension": ".py",
   "mimetype": "text/x-python",
   "name": "python",
   "nbconvert_exporter": "python",
   "pygments_lexer": "ipython3",
   "version": "3.8.6"
  }
 },
 "nbformat": 4,
 "nbformat_minor": 4
}
