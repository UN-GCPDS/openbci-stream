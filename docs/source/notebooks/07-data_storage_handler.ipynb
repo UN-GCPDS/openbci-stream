{
 "cells": [
  {
   "cell_type": "markdown",
   "metadata": {},
   "source": [
    "# Data storage handler"
   ]
  },
  {
   "cell_type": "markdown",
   "metadata": {},
   "source": [
    "This data handler use [PyTables](https://www.pytables.org/) that is built on top of the HDF5 library, using the Python language and the NumPy package. It features an object-oriented interface that, combined with C extensions for the performance-critical parts of the code (generated using Cython), makes it a fast, yet extremely easy to use tool for interactively browse, process and search very large amounts of data. One important feature of [PyTables](https://www.pytables.org/) is that it optimizes memory and disk resources so that data takes much less space (specially if on-flight compression is used) than other solutions such as relational or object oriented databases."
   ]
  },
  {
   "cell_type": "code",
   "execution_count": 1,
   "metadata": {},
   "outputs": [],
   "source": [
    "import tables\n",
    "import numpy as np\n",
    "import json\n",
    "from datetime import datetime"
   ]
  },
  {
   "cell_type": "code",
   "execution_count": 2,
   "metadata": {},
   "outputs": [],
   "source": [
    "filename = 'sampple_eeg.h5'\n",
    "CHANNELS = 16"
   ]
  },
  {
   "cell_type": "code",
   "execution_count": 3,
   "metadata": {},
   "outputs": [],
   "source": [
    "from openbci_stream.utils import HDF5Writer, HDF5Reader"
   ]
  },
  {
   "cell_type": "markdown",
   "metadata": {},
   "source": [
    "## Writer"
   ]
  },
  {
   "cell_type": "code",
   "execution_count": 4,
   "metadata": {},
   "outputs": [],
   "source": [
    "writer = HDF5Writer('output.h5')"
   ]
  },
  {
   "cell_type": "markdown",
   "metadata": {},
   "source": [
    "### Add header"
   ]
  },
  {
   "cell_type": "code",
   "execution_count": 5,
   "metadata": {},
   "outputs": [],
   "source": [
    "header = {'sample_rate': 1000,\n",
    "          'datetime': datetime.now().timestamp(),\n",
    "         }\n",
    "writer.add_header(header)"
   ]
  },
  {
   "cell_type": "markdown",
   "metadata": {},
   "source": [
    "### Add EEG data"
   ]
  },
  {
   "cell_type": "markdown",
   "metadata": {},
   "source": [
    "The number of channels is defined with first data addition:"
   ]
  },
  {
   "cell_type": "code",
   "execution_count": 6,
   "metadata": {},
   "outputs": [],
   "source": [
    "eeg = np.random.normal(size=(16, 1000))  # channels x data\n",
    "writer.add_eeg(eeg)"
   ]
  },
  {
   "cell_type": "markdown",
   "metadata": {},
   "source": [
    "The number of channels can not be changed after define the first package:"
   ]
  },
  {
   "cell_type": "code",
   "execution_count": 7,
   "metadata": {},
   "outputs": [
    {
     "name": "stderr",
     "output_type": "stream",
     "text": [
      "WARNING:root:The number of channels 16 can not be changed!\n"
     ]
    }
   ],
   "source": [
    "eeg = np.random.normal(size=(8, 1000))\n",
    "writer.add_eeg(eeg)"
   ]
  },
  {
   "cell_type": "markdown",
   "metadata": {},
   "source": [
    "Is possible to add any amount of data:"
   ]
  },
  {
   "cell_type": "code",
   "execution_count": 8,
   "metadata": {},
   "outputs": [],
   "source": [
    "eeg = np.random.normal(size=(16, 500))\n",
    "writer.add_eeg(eeg)"
   ]
  },
  {
   "cell_type": "markdown",
   "metadata": {},
   "source": [
    "A `timestamp` can be added to the data, in a separate command, in this case, `timestamp` _could_ be an array of the same length of data."
   ]
  },
  {
   "cell_type": "code",
   "execution_count": 9,
   "metadata": {},
   "outputs": [],
   "source": [
    "eeg = np.random.normal(size=(16, 2000))\n",
    "timestamp = np.array([datetime.now().timestamp()]*2000)\n",
    "\n",
    "writer.add_eeg(eeg)\n",
    "writer.add_timestamp(timestamp)"
   ]
  },
  {
   "cell_type": "markdown",
   "metadata": {},
   "source": [
    "Is possible to use the `timestamp` in a single command."
   ]
  },
  {
   "cell_type": "code",
   "execution_count": 10,
   "metadata": {},
   "outputs": [],
   "source": [
    "eeg = np.random.normal(size=(16, 2000))\n",
    "timestamp = [datetime.now().timestamp()] * 2000\n",
    "\n",
    "writer.add_eeg(eeg, timestamp)"
   ]
  },
  {
   "cell_type": "markdown",
   "metadata": {},
   "source": [
    "### Extrapolated timestamps\n",
    "\n",
    "Usually, we never have the `datetimes` for each value in a package, instead,  we have a single marker time for each package. This module was designed keeping mind these cases, so, is possible to set a single `timestamp` and `HDF5Reader` will interpolate the missing `timestamps`"
   ]
  },
  {
   "cell_type": "code",
   "execution_count": 11,
   "metadata": {},
   "outputs": [],
   "source": [
    "eeg = np.random.normal(size=(16, 2000))\n",
    "timestamp = datetime.now().timestamp()\n",
    "\n",
    "writer.add_eeg(eeg, timestamp)"
   ]
  },
  {
   "cell_type": "markdown",
   "metadata": {},
   "source": [
    "### Add markers\n",
    "\n",
    "The `markers` can be added individually with their respective `timestamp`:"
   ]
  },
  {
   "cell_type": "code",
   "execution_count": 12,
   "metadata": {},
   "outputs": [],
   "source": [
    "timestamp = datetime.now().timestamp()\n",
    "marker = 'LEFT'\n",
    "writer.add_marker(marker, timestamp)"
   ]
  },
  {
   "cell_type": "markdown",
   "metadata": {},
   "source": [
    "Or in a dictionary structure with the marker as `key` and events as a list of `timestamps`:"
   ]
  },
  {
   "cell_type": "code",
   "execution_count": 13,
   "metadata": {},
   "outputs": [],
   "source": [
    "markers = {\n",
    "    'LEFT': [1603150888.752062, 1603150890.752062, 1603150892.752062],\n",
    "    'RIGHT': [1603150889.752062, 1603150891.752062, 1603150893.752062],\n",
    "} \n",
    "\n",
    "writer.add_markers(markers)"
   ]
  },
  {
   "cell_type": "markdown",
   "metadata": {},
   "source": [
    "### Add annotations\n",
    "\n"
   ]
  },
  {
   "cell_type": "markdown",
   "metadata": {},
   "source": [
    "The annotations are defined like in EDF format, with an `onset` and `duration` in seconds, and their corresponding `description`:"
   ]
  },
  {
   "cell_type": "code",
   "execution_count": 14,
   "metadata": {},
   "outputs": [],
   "source": [
    "writer.add_annotation(onset=5, duration=1, description='This is an annotation, in EDF style')\n",
    "writer.add_annotation(onset=45, duration=15, description='Electrode verification')\n",
    "writer.add_annotation(onset=50, duration=3, description='Patient blinking')"
   ]
  },
  {
   "cell_type": "markdown",
   "metadata": {},
   "source": [
    "Do no forget to close the file"
   ]
  },
  {
   "cell_type": "code",
   "execution_count": 15,
   "metadata": {},
   "outputs": [],
   "source": [
    "writer.close()"
   ]
  },
  {
   "cell_type": "markdown",
   "metadata": {},
   "source": [
    "## Reader"
   ]
  },
  {
   "cell_type": "code",
   "execution_count": 16,
   "metadata": {},
   "outputs": [
    {
     "data": {
      "text/plain": [
       "{'sample_rate': 1000, 'datetime': 1603571026.154923}"
      ]
     },
     "execution_count": 16,
     "metadata": {},
     "output_type": "execute_result"
    }
   ],
   "source": [
    "reader = HDF5Reader('output.h5')\n",
    "\n",
    "reader.header"
   ]
  },
  {
   "cell_type": "code",
   "execution_count": 17,
   "metadata": {},
   "outputs": [
    {
     "data": {
      "text/plain": [
       "array([[ 0.10438297,  0.64116283,  0.87643178, ..., -2.37731593,\n",
       "        -0.46304589, -0.29561915],\n",
       "       [ 1.18485957, -1.108576  , -0.51729158, ..., -0.23877551,\n",
       "         0.40733376,  0.46088901],\n",
       "       [ 0.81630461, -0.23760924, -0.28369799, ..., -0.59499498,\n",
       "        -0.08253127,  0.05682365],\n",
       "       ...,\n",
       "       [-0.73725065, -0.18386757,  1.0493811 , ..., -0.91611828,\n",
       "        -0.41891577,  0.25832004],\n",
       "       [ 1.02737675,  0.14142223,  0.4126109 , ..., -1.68713906,\n",
       "        -1.91103092,  0.02872794],\n",
       "       [ 1.34338115, -1.93427996, -0.79767577, ..., -0.74610469,\n",
       "         0.98137138,  0.64254865]])"
      ]
     },
     "execution_count": 17,
     "metadata": {},
     "output_type": "execute_result"
    }
   ],
   "source": [
    "reader.eeg"
   ]
  },
  {
   "cell_type": "code",
   "execution_count": 18,
   "metadata": {},
   "outputs": [
    {
     "data": {
      "text/plain": [
       "{'LEFT': [1603571026.232075,\n",
       "  1603150888.752062,\n",
       "  1603150890.752062,\n",
       "  1603150892.752062],\n",
       " 'RIGHT': [1603150889.752062, 1603150891.752062, 1603150893.752062]}"
      ]
     },
     "execution_count": 18,
     "metadata": {},
     "output_type": "execute_result"
    }
   ],
   "source": [
    "reader.markers"
   ]
  },
  {
   "cell_type": "code",
   "execution_count": 19,
   "metadata": {},
   "outputs": [
    {
     "data": {
      "text/plain": [
       "/eeg_data (EArray(16, 7500)) 'EEG time series'\n",
       "  atom := Float64Atom(shape=(), dflt=0.0)\n",
       "  maindim := 1\n",
       "  flavor := 'numpy'\n",
       "  byteorder := 'little'\n",
       "  chunkshape := (16, 512)"
      ]
     },
     "execution_count": 19,
     "metadata": {},
     "output_type": "execute_result"
    }
   ],
   "source": [
    "reader.f.root.eeg_data"
   ]
  },
  {
   "cell_type": "code",
   "execution_count": 20,
   "metadata": {},
   "outputs": [
    {
     "data": {
      "text/plain": [
       "/timestamp (EArray(6000,)) 'EEG timestamp'\n",
       "  atom := Float64Atom(shape=(), dflt=0.0)\n",
       "  maindim := 0\n",
       "  flavor := 'numpy'\n",
       "  byteorder := 'little'\n",
       "  chunkshape := (8192,)"
      ]
     },
     "execution_count": 20,
     "metadata": {},
     "output_type": "execute_result"
    }
   ],
   "source": [
    "reader.f.root.timestamp"
   ]
  },
  {
   "cell_type": "code",
   "execution_count": 21,
   "metadata": {},
   "outputs": [],
   "source": [
    "reader.timestamp"
   ]
  },
  {
   "cell_type": "code",
   "execution_count": 22,
   "metadata": {},
   "outputs": [
    {
     "data": {
      "text/plain": [
       "[[5, 1, 'This is an annotation, in EDF style'],\n",
       " [45, 15, 'Electrode verification'],\n",
       " [50, 3, 'Patient blinking']]"
      ]
     },
     "execution_count": 22,
     "metadata": {},
     "output_type": "execute_result"
    }
   ],
   "source": [
    "reader.annotations"
   ]
  },
  {
   "cell_type": "markdown",
   "metadata": {},
   "source": [
    "## Examples using the `with` control-flow structure\n",
    "\n",
    "This data format handlers can be used with the `with` structure:"
   ]
  },
  {
   "cell_type": "markdown",
   "metadata": {},
   "source": [
    "### Writer\n",
    "\n",
    "This example create a file with random data:"
   ]
  },
  {
   "cell_type": "code",
   "execution_count": 23,
   "metadata": {},
   "outputs": [],
   "source": [
    "from openbci_stream.utils import HDF5Writer\n",
    "from datetime import datetime, timedelta\n",
    "import numpy as np\n",
    "import os\n",
    "\n",
    "now = datetime.now()\n",
    "\n",
    "header = {'sample_rate': 1000,\n",
    "          'datetime': now.timestamp(),\n",
    "          'montage': 'standard_1020',\n",
    "          'channels': {i:ch for i, ch in enumerate('Fp1,Fp2,F7,Fz,F8,C3,Cz,C4,T5,P3,Pz,P4,T6,O1,Oz,O2'.split(','))},\n",
    "         }\n",
    "\n",
    "filename = 'sample-eeg.h5'\n",
    "if os.path.exists(filename):\n",
    "    os.remove(filename)\n",
    "\n",
    "with HDF5Writer(filename) as writer:\n",
    "\n",
    "    writer.add_header(header)\n",
    "    \n",
    "    for i in range(60*30):\n",
    "        eeg = np.random.normal(size=(16, 1000))\n",
    "        aux = np.random.normal(size=(3, 1000))\n",
    "        timestamp = (now + timedelta(seconds=i)).timestamp()\n",
    "        writer.add_eeg(eeg, timestamp)\n",
    "        writer.add_aux(aux)\n",
    "    \n",
    "#     events = np.linspace(1, 59*30, 15*30).astype(int)*1000\n",
    "#     np.random.shuffle(events)\n",
    "    markers = {}\n",
    "    for i in range(0, 60*30//4, 4):\n",
    "        markers.setdefault('RIGHT', []).append((now + timedelta(seconds=i+1)).timestamp())\n",
    "        markers.setdefault('LEFT', []).append((now + timedelta(seconds=i+2)).timestamp())\n",
    "        markers.setdefault('UP', []).append((now + timedelta(seconds=i+3)).timestamp())\n",
    "        markers.setdefault('DOWN', []).append((now + timedelta(seconds=i+4)).timestamp())\n",
    "    \n",
    "    writer.add_markers(markers)"
   ]
  },
  {
   "cell_type": "markdown",
   "metadata": {},
   "source": [
    "### Reader"
   ]
  },
  {
   "cell_type": "code",
   "execution_count": null,
   "metadata": {},
   "outputs": [],
   "source": [
    "from openbci_stream.utils import HDF5Reader\n",
    "from matplotlib import pyplot as plt\n",
    "\n",
    "plt.figure(figsize=(16, 9), dpi=60)\n",
    "\n",
    "ax = plt.subplot(111)\n",
    "with HDF5Reader(filename) as reader:\n",
    "    \n",
    "    channels = reader.header['channels']\n",
    "    sample_rate = reader.header['sample_rate']\n",
    "\n",
    "    t = np.linspace(0, 1, sample_rate)\n",
    "    for i, ch in enumerate(reader.eeg[:, :sample_rate]):\n",
    "        plt.plot(t, (ch-ch.mean())*0.1+i)\n",
    "    ax.set_yticklabels(channels)"
   ]
  },
  {
   "cell_type": "markdown",
   "metadata": {},
   "source": [
    "## MNE objects\n",
    "\n",
    "`reader.mne_epochs()` return an object [mne.EpochsArray](https://mne.tools/stable/generated/mne.EpochsArray.html):"
   ]
  },
  {
   "cell_type": "code",
   "execution_count": null,
   "metadata": {},
   "outputs": [],
   "source": [
    "reader = HDF5Reader(filename)\n",
    "\n",
    "epochs = reader.get_epochs(duration=6, tmin=-2, markers=['RIGHT', 'LEFT'])"
   ]
  },
  {
   "cell_type": "markdown",
   "metadata": {},
   "source": [
    "[mne.EpochsArray](https://mne.tools/stable/generated/mne.EpochsArray.html) needs an array of shape `(epochs, channels, time)`, we have channels and time, we only need to separate the epochs, here, an epoch is a trial, we will select trial by slicing around a `marker`. The argument `duration` in seconds set the _width_ for the trials, and `tim` set _how much_ of signal before the marker will I analyze, finally, the argument `markers` set the labels to use, if empty, then will use all of them.\n",
    "\n",
    "This feature needs at least `montage`, `channels`, and `sample_rate` configured in the header."
   ]
  },
  {
   "cell_type": "code",
   "execution_count": null,
   "metadata": {},
   "outputs": [],
   "source": [
    "evoked = epochs['RIGHT'].average()\n",
    "\n",
    "fig = plt.figure(figsize=(10, 5), dpi=90)\n",
    "ax = plt.subplot(111)\n",
    "evoked.plot(axes=ax, spatial_colors=True);"
   ]
  },
  {
   "cell_type": "markdown",
   "metadata": {},
   "source": [
    "_This is only random data._"
   ]
  },
  {
   "cell_type": "code",
   "execution_count": null,
   "metadata": {},
   "outputs": [],
   "source": [
    "times = np.linspace(-1, 3, 6)\n",
    "\n",
    "epochs['LEFT'].average().plot_topomap(times,)\n",
    "epochs['RIGHT'].average().plot_topomap(times,);"
   ]
  },
  {
   "cell_type": "markdown",
   "metadata": {},
   "source": [
    "## Relative time markers\n",
    "\n",
    "In the previous examples, we are using the markers with a `timestamp`, this is an **absolute** reference, is an exact point in time, the reason of that is because this feature was designed for real-time streaming, in this kind of implementations the main reference is the system clock, this approach makes easy to implement a markers register in an isolated system.\n",
    "\n",
    "But, is possible to get relative time markers, based on the position in the data array:"
   ]
  },
  {
   "cell_type": "code",
   "execution_count": null,
   "metadata": {},
   "outputs": [],
   "source": [
    "reader.markers_relative"
   ]
  }
 ],
 "metadata": {
  "kernelspec": {
   "display_name": "Python 3",
   "language": "python",
   "name": "python3"
  },
  "language_info": {
   "codemirror_mode": {
    "name": "ipython",
    "version": 3
   },
   "file_extension": ".py",
   "mimetype": "text/x-python",
   "name": "python",
   "nbconvert_exporter": "python",
   "pygments_lexer": "ipython3",
   "version": "3.8.6"
  }
 },
 "nbformat": 4,
 "nbformat_minor": 4
}
