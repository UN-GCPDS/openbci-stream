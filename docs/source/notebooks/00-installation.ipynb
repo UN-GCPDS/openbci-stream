{
 "cells": [
  {
   "cell_type": "markdown",
   "metadata": {},
   "source": [
    "#  Installation\n",
    "\n",
    "OpenBCI-Stream needs **Python3.8** due the utilizations of [cached_property](https://docs.python.org/3/library/functools.html#functools.cached_property) and the amazing new [walrus operator](https://docs.python.org/3/whatsnew/3.8.html#assignment-expressions), priors versions were not tested and there is not planning to do it."
   ]
  },
  {
   "cell_type": "markdown",
   "metadata": {},
   "source": [
    "## From PyPI"
   ]
  },
  {
   "cell_type": "code",
   "execution_count": null,
   "metadata": {},
   "outputs": [],
   "source": [
    "$ pip install -U openbci-stream"
   ]
  },
  {
   "cell_type": "markdown",
   "metadata": {},
   "source": [
    "## From Git"
   ]
  },
  {
   "cell_type": "code",
   "execution_count": null,
   "metadata": {},
   "outputs": [],
   "source": [
    "$ pip install -U git+https://github.com/UN-GCPDS/openbci-stream.git"
   ]
  },
  {
   "cell_type": "markdown",
   "metadata": {},
   "source": [
    "## From source code"
   ]
  },
  {
   "cell_type": "code",
   "execution_count": null,
   "metadata": {},
   "outputs": [],
   "source": [
    "$ git clone https://github.com/UN-GCPDS/openbci-stream.git\n",
    "$ cd openbci-stream\n",
    "$ pip install -r requirements.txt\n",
    "$ python setup.py install"
   ]
  },
  {
   "cell_type": "markdown",
   "metadata": {},
   "source": [
    "## In virtual environment"
   ]
  },
  {
   "cell_type": "code",
   "execution_count": null,
   "metadata": {},
   "outputs": [],
   "source": [
    "$ python -m venv openbci-env\n",
    "$ source openbci-env/bin/activate\n",
    "$ pip install -U openbci-stream"
   ]
  },
  {
   "cell_type": "markdown",
   "metadata": {},
   "source": [
    "### Acquisition system using a Raspberry Pi\n",
    "\n",
    "The [Apendix 3](A3-server-based_acquisition.ipynb) describes the process to implement an acquisition system using a Raspberry Pi."
   ]
  }
 ],
 "metadata": {
  "kernelspec": {
   "display_name": "Python 3",
   "language": "python",
   "name": "python3"
  },
  "language_info": {
   "codemirror_mode": {
    "name": "ipython",
    "version": 3
   },
   "file_extension": ".py",
   "mimetype": "text/x-python",
   "name": "python",
   "nbconvert_exporter": "python",
   "pygments_lexer": "ipython3",
   "version": "3.9.7"
  }
 },
 "nbformat": 4,
 "nbformat_minor": 4
}
