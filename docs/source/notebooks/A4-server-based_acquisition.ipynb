{
 "cells": [
  {
   "cell_type": "markdown",
   "metadata": {},
   "source": [
    "# Appendix 4 - Server-based streamer"
   ]
  },
  {
   "cell_type": "markdown",
   "metadata": {},
   "source": [
    "In this appendix, it describes the process of implementing an acquisition server based on Raspberry Pi, the main goal of using Raspberry is to get a full controlled system. The operating system chosen for this purpose is [Arch Linux ARM](https://archlinuxarm.org/)"
   ]
  },
  {
   "cell_type": "markdown",
   "metadata": {},
   "source": [
    "## Step 1 - Install Arch Linux ARM\n",
    "\n",
    "The process of installatión is very simple, there is a [guide](https://archlinuxarm.org/platforms/armv8/broadcom/raspberry-pi-4) on the official site.  \n",
    "After a complete system update:"
   ]
  },
  {
   "cell_type": "raw",
   "metadata": {},
   "source": [
    "# pacman-key --init\n",
    "# pacman-key --populate archlinuxarm\n",
    "# pacman -Suy"
   ]
  },
  {
   "cell_type": "markdown",
   "metadata": {},
   "source": [
    "We can install the dependencies:"
   ]
  },
  {
   "cell_type": "raw",
   "metadata": {},
   "source": [
    "# pacman -S vim python python-pip "
   ]
  }
 ],
 "metadata": {
  "kernelspec": {
   "display_name": "Python 3",
   "language": "python",
   "name": "python3"
  },
  "language_info": {
   "codemirror_mode": {
    "name": "ipython",
    "version": 3
   },
   "file_extension": ".py",
   "mimetype": "text/x-python",
   "name": "python",
   "nbconvert_exporter": "python",
   "pygments_lexer": "ipython3",
   "version": "3.8.6"
  }
 },
 "nbformat": 4,
 "nbformat_minor": 4
}
