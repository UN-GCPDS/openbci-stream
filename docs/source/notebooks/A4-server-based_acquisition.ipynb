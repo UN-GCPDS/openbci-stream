{
 "cells": [
  {
   "cell_type": "markdown",
   "metadata": {},
   "source": [
    "# Appendix 4 - Server-based streamer"
   ]
  },
  {
   "cell_type": "markdown",
   "metadata": {},
   "source": [
    "In this appendix, it describes the process of implementing an acquisition server based on Raspberry Pi, the main goal of using Raspberry is to get a full controlled system. The operating system chosen for this purpose is [Arch Linux ARM](https://archlinuxarm.org/)"
   ]
  },
  {
   "cell_type": "markdown",
   "metadata": {},
   "source": [
    "## Step 1 - Install Arch Linux ARM\n",
    "\n",
    "The process of installatión is very simple, there is a [guide](https://archlinuxarm.org/platforms/armv8/broadcom/raspberry-pi-4) on the official site.  \n",
    "After a complete system update:"
   ]
  },
  {
   "cell_type": "raw",
   "metadata": {},
   "source": [
    "# pacman-key --init\n",
    "# pacman-key --populate archlinuxarm\n",
    "# pacman -Suy"
   ]
  },
  {
   "cell_type": "markdown",
   "metadata": {},
   "source": [
    "## Step 2 - Install dependencies\n",
    "\n",
    "The `kafka` installation can be done by using [yay](https://github.com/Jguer/yay):"
   ]
  },
  {
   "cell_type": "raw",
   "metadata": {},
   "source": [
    "$ yay -S kafka"
   ]
  },
  {
   "cell_type": "markdown",
   "metadata": {},
   "source": [
    "And the python dependencies by:"
   ]
  },
  {
   "cell_type": "raw",
   "metadata": {},
   "source": [
    "# pacman -S python python-pip gcc cython hdf5\n",
    "# pip install openbci-stream"
   ]
  },
  {
   "cell_type": "markdown",
   "metadata": {},
   "source": [
    ":::note\n",
    "\n",
    "Arch Linux ARM could be a bit nasty about install `scipy` from `pip`, the best option here is use the default package manager:  \n",
    "`pacman -S python-scipy --overwrite='/usr/lib/python3.8/site-packages/*' --overwrite='/usr/bin/*'`  \n",
    ":::"
   ]
  },
  {
   "cell_type": "markdown",
   "metadata": {},
   "source": [
    "## Step 3 - Configure Kafka\n",
    "\n",
    "Remove the option `-XX:+UseCompressedOops` from `/usr/lib/systemd/system/kafka.service`, open the file and edit it, you can use `vim` (not instaled by default) or `nano`:"
   ]
  },
  {
   "cell_type": "raw",
   "metadata": {},
   "source": [
    "# vim /usr/lib/systemd/system/kafka.service\n",
    "# systemctl daemon-reload"
   ]
  },
  {
   "cell_type": "markdown",
   "metadata": {},
   "source": [
    "The other configuration can be done simply by executing the script `stream_configure_kafka.sh` includen on `openbci-stream` package:"
   ]
  },
  {
   "cell_type": "raw",
   "metadata": {},
   "source": [
    "# stream_configure_kafka.sh "
   ]
  },
  {
   "cell_type": "markdown",
   "metadata": {},
   "source": [
    "## Step 4 - Configure an access point\n",
    "\n",
    "Is very recommended configure the Raspberry as an access point, the next script will configure a WiFi network called `OpenBCI-Stream` with password `raspberrypi`:"
   ]
  },
  {
   "cell_type": "raw",
   "metadata": {},
   "source": [
    "# stream_access_point.sh\n",
    "# rebooot"
   ]
  },
  {
   "cell_type": "markdown",
   "metadata": {},
   "source": [
    "## Step 5 - Start acquisition daemons"
   ]
  },
  {
   "cell_type": "raw",
   "metadata": {},
   "source": [
    "# stream_eeg systemd\n",
    "# stream_rpyc systemd"
   ]
  },
  {
   "cell_type": "markdown",
   "metadata": {},
   "source": [
    "By the way you can ignore the warnings."
   ]
  },
  {
   "cell_type": "raw",
   "metadata": {},
   "source": [
    "# systemctl enable stream_eeg stream_rpyc\n",
    "# systemctl start stream_eeg stream_rpyc"
   ]
  }
 ],
 "metadata": {
  "kernelspec": {
   "display_name": "Python 3",
   "language": "python",
   "name": "python3"
  },
  "language_info": {
   "codemirror_mode": {
    "name": "ipython",
    "version": 3
   },
   "file_extension": ".py",
   "mimetype": "text/x-python",
   "name": "python",
   "nbconvert_exporter": "python",
   "pygments_lexer": "ipython3",
   "version": "3.8.6"
  }
 },
 "nbformat": 4,
 "nbformat_minor": 4
}
