{
 "cells": [
  {
   "cell_type": "markdown",
   "metadata": {},
   "source": [
    "# Appendix 4 - Server-based acquisition"
   ]
  },
  {
   "cell_type": "markdown",
   "metadata": {},
   "source": [
    "In this appendix, it describes the process of implementing an acquisition server based on Raspberry Pi, the main goal of using Raspberry is to get a full controlled system. The operating system chosen for this purpose is [Arch Linux ARM](https://archlinuxarm.org/)."
   ]
  },
  {
   "cell_type": "markdown",
   "metadata": {},
   "source": [
    "## Step 1 - Install Arch Linux ARM\n",
    "\n",
    "The process of installatión is very simple, there is a [guide](https://archlinuxarm.org/platforms/armv8/broadcom/raspberry-pi-4) on the official site.  \n",
    "After a complete system update:"
   ]
  },
  {
   "cell_type": "code",
   "execution_count": null,
   "metadata": {},
   "outputs": [],
   "source": [
    "# pacman-key --init\n",
    "# pacman-key --populate archlinuxarm\n",
    "# pacman -Suy"
   ]
  },
  {
   "cell_type": "markdown",
   "metadata": {},
   "source": [
    "## Step 2 - Install dependencies\n",
    "\n",
    "The `kafka` installation can be done by using [yay](https://github.com/Jguer/yay):"
   ]
  },
  {
   "cell_type": "code",
   "execution_count": null,
   "metadata": {},
   "outputs": [],
   "source": [
    "$ yay -S kafka"
   ]
  },
  {
   "cell_type": "markdown",
   "metadata": {},
   "source": [
    "And the python dependencies by:"
   ]
  },
  {
   "cell_type": "code",
   "execution_count": null,
   "metadata": {},
   "outputs": [],
   "source": [
    "# pacman -S python python-pip gcc cython hdf5\n",
    "# pip install openbci-stream"
   ]
  },
  {
   "cell_type": "markdown",
   "metadata": {},
   "source": [
    ":::note\n",
    "\n",
    "Arch Linux ARM could be a bit fussy about install `scipy` from `pip`, the best option here is use the default package manager:  \n",
    "`pacman -S python-scipy --overwrite='/usr/lib/python3.8/site-packages/*' --overwrite='/usr/bin/*'`  \n",
    "\n",
    ":::"
   ]
  },
  {
   "cell_type": "markdown",
   "metadata": {},
   "source": [
    "## Step 3 - Configure Kafka\n",
    "\n",
    "Remove the option `-XX:+UseCompressedOops` from `/usr/lib/systemd/system/kafka.service`, open the file and edit it, you can use `vim` (not instaled by default) or `nano`:"
   ]
  },
  {
   "cell_type": "code",
   "execution_count": null,
   "metadata": {},
   "outputs": [],
   "source": [
    "# vim /usr/lib/systemd/system/kafka.service\n",
    "# systemctl daemon-reload"
   ]
  },
  {
   "cell_type": "markdown",
   "metadata": {},
   "source": [
    "The other configuration can be done simply by executing the script `stream_configure_kafka.sh` included on `openbci-stream` package:"
   ]
  },
  {
   "cell_type": "code",
   "execution_count": null,
   "metadata": {},
   "outputs": [],
   "source": [
    "# stream_configure_kafka.sh "
   ]
  },
  {
   "cell_type": "markdown",
   "metadata": {},
   "source": [
    "## Step 4 - Configure an access point\n",
    "\n",
    "The main purpose of this guide is to configure the Raspberry as an access point, the next script will configure a WiFi network called `OpenBCI-Stream` with password `raspberrypi`:"
   ]
  },
  {
   "cell_type": "code",
   "execution_count": null,
   "metadata": {},
   "outputs": [],
   "source": [
    "# stream_access_point.sh"
   ]
  },
  {
   "cell_type": "markdown",
   "metadata": {},
   "source": [
    ":::note\n",
    "\n",
    "So, if you are connected via WiFi, this connection will be lost after restart the Raspberry, you may wish to connect using other methods (Ethernet, USB) in ways to continue the configuration.  \n",
    "\n",
    ":::"
   ]
  },
  {
   "cell_type": "markdown",
   "metadata": {},
   "source": [
    "## Step 5 - Start acquisition daemons"
   ]
  },
  {
   "cell_type": "code",
   "execution_count": null,
   "metadata": {},
   "outputs": [],
   "source": [
    "# stream_eeg systemd\n",
    "# stream_rpyc systemd"
   ]
  },
  {
   "cell_type": "markdown",
   "metadata": {},
   "source": [
    "The commands above will create the respective services for acquisition streaming and distributed access. And then, for initialize them:"
   ]
  },
  {
   "cell_type": "code",
   "execution_count": null,
   "metadata": {},
   "outputs": [],
   "source": [
    "# systemctl enable stream_eeg stream_rpyc\n",
    "# systemctl start stream_eeg stream_rpyc"
   ]
  },
  {
   "cell_type": "markdown",
   "metadata": {},
   "source": [
    "## Step 6 - Test server\n",
    "\n",
    "For a complete test, we will need an OpenBCI board connected, in any mode, Serial or WiFi (so be sure about configuring serial port permissions).\n",
    "\n",
    "### WiFi Shield\n",
    "For a WiFi shield, we must know the correct IP, usually this IP not change over time, so if we found it the first time is very likely that we can use the same in other opportunities.  \n",
    "You can use [nmap](https://wiki.archlinux.org/index.php/nmap#Ping_scan) to scan devices:"
   ]
  },
  {
   "cell_type": "code",
   "execution_count": null,
   "metadata": {},
   "outputs": [],
   "source": [
    "$ ssh alarm@192.168.1.1\n",
    "$ nmap -sn 192.168.1.2/24"
   ]
  },
  {
   "cell_type": "markdown",
   "metadata": {},
   "source": [
    "### Command line tests\n",
    "So, we have `OpenBCI-Stream` installed on Raspberry, now we need a version installed locally, also we need to have [Kafka installed and running locally](02-kafka_configuration.ipynb)."
   ]
  },
  {
   "cell_type": "code",
   "execution_count": null,
   "metadata": {},
   "outputs": [],
   "source": [
    "$ openbci_cli wifi --ip 192.168.1.113 --host 192.168.1.1 -c SAMPLE_RATE_250SPS"
   ]
  },
  {
   "cell_type": "markdown",
   "metadata": {},
   "source": [
    "Here, `192.168.1.113` is the IP assigned from Raspberry to the WiFi module and `192.168.1.1` is the Raspberry IP itself. If everything is ok, a data stream will be printed on the terminal."
   ]
  },
  {
   "cell_type": "markdown",
   "metadata": {},
   "source": [
    "### Troubleshooting\n",
    "\n",
    "  * **No streaming data:** Make sure that the WiFi module was still connected and the Serial devices have read and write permissions.\n",
    "  * **Kafka no connection:** Kafka must be running on every single machine that wants to connect to the stream, there is no special configuring, the default is enough.\n",
    " "
   ]
  }
 ],
 "metadata": {
  "kernelspec": {
   "display_name": "Python 3",
   "language": "python",
   "name": "python3"
  },
  "language_info": {
   "codemirror_mode": {
    "name": "ipython",
    "version": 3
   },
   "file_extension": ".py",
   "mimetype": "text/x-python",
   "name": "python",
   "nbconvert_exporter": "python",
   "pygments_lexer": "ipython3",
   "version": "3.8.6"
  }
 },
 "nbformat": 4,
 "nbformat_minor": 4
}
