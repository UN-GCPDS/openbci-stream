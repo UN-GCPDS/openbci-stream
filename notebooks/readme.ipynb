{
 "cells": [
  {
   "cell_type": "markdown",
   "metadata": {},
   "source": [
    "# OpenBCI-Stream\n",
    "\n",
    "Hight level Python module for handle OpenBCI hardware and stream data."
   ]
  },
  {
   "cell_type": "markdown",
   "metadata": {},
   "source": [
    "::: warning\n",
    "  * This is NOT an official package from [OpenBCI team](https://openbci.com/).\n",
    "  * This module is still unstable and not recommended for use in production.\n",
    ":::"
   ]
  },
  {
   "cell_type": "markdown",
   "metadata": {},
   "source": [
    "## What is?\n",
    "\n",
    "A Python module for develop hight performance interfaces with [OpenBCI boards](https://openbci.com/).\n",
    "Currently, we have support for Cyton+Daisy and their WiFi module, additionally, we provide a real time data stream with [Kafka](https://kafka.apache.org/).\n",
    "All source code can be accessed from our [bitbucket repository](https://bitbucket.org/gcpds/python-openbci_stream/)."
   ]
  },
  {
   "cell_type": "markdown",
   "metadata": {},
   "source": [
    "## What do we want?\n",
    "\n",
    "We want a stable, high level, easy to use and extensible Python module focused on the awesome hardware provided by OpenBCI that can be used for students and researchers, we are developing too a set of tools for preprocessing, real-time data handling and streaming of EEG signals."
   ]
  },
  {
   "cell_type": "markdown",
   "metadata": {},
   "source": [
    "## Who are we?\n",
    "We are a research group concentrated on digital processing of signals and machine learning from the National University of Colombia at Manizales ([GCPDS](http://www.hermes.unal.edu.co/pages/Consultas/Grupo.xhtml;jsessionid=8701CFAD84FB5D540090846EA8912D48.tomcat6?idGrupo=615&opcion=1>))."
   ]
  },
  {
   "cell_type": "markdown",
   "metadata": {},
   "source": [
    "## Examples"
   ]
  },
  {
   "cell_type": "markdown",
   "metadata": {},
   "source": [
    "EEG acquisition from Serial"
   ]
  },
  {
   "cell_type": "code",
   "execution_count": 13,
   "metadata": {},
   "outputs": [
    {
     "name": "stderr",
     "output_type": "stream",
     "text": [
      "WARNING:root:Stream must be stoped for read the current boardmode\n",
      "WARNING:kafka.coordinator.consumer:group_id is None: disabling auto-commit.\n"
     ]
    },
    {
     "name": "stdout",
     "output_type": "stream",
     "text": [
      "(8, 1018)\n"
     ]
    }
   ],
   "source": [
    "import time\n",
    "from openbci_stream.acquisition import CytonRFDuino\n",
    "\n",
    "openbci = CytonRFDuino(capture_stream=True, daisy=False)\n",
    "openbci.start_stream()\n",
    "time.sleep(5)\n",
    "openbci.stop_stream()\n",
    "\n",
    "print(openbci.eeg_time_series.shape)"
   ]
  },
  {
   "cell_type": "markdown",
   "metadata": {},
   "source": [
    "Stream markers"
   ]
  },
  {
   "cell_type": "code",
   "execution_count": 11,
   "metadata": {},
   "outputs": [],
   "source": [
    "import time\n",
    "from datetime import datetime\n",
    "import pickle\n",
    "from kafka import KafkaProducer\n",
    "\n",
    "producer_eeg = KafkaProducer(bootstrap_servers=['localhost:9092'],\n",
    "                             value_serializer=lambda x: pickle.dumps(x))\n",
    "\n",
    "def stream_marker(marker):\n",
    "    producer_eeg.send('marker', {'timestamp': datetime.now().timestamp(), \n",
    "                                 'marker': marker})\n",
    "\n",
    "stream_marker('RIGHT')\n",
    "time.sleep(1) \n",
    "stream_marker('LEFT')\n",
    "time.sleep(1) \n",
    "stream_marker('RIGHT')\n",
    "time.sleep(1) \n",
    "stream_marker('LEFT')    "
   ]
  },
  {
   "cell_type": "markdown",
   "metadata": {},
   "source": [
    "Saving EEG data from command line"
   ]
  },
  {
   "cell_type": "code",
   "execution_count": null,
   "metadata": {},
   "outputs": [],
   "source": [
    "$ python openbci_cli.py serial  --start  --output 'eeg_out.csv'\n",
    "Writing data in \n",
    "Ctrl+C for stop it.\n",
    "\n",
    "[EEG] 2020-03-04 22:57:57.117478        0.0146s ago     254 samples, 8 channels\n",
    "[EEG] 2020-03-04 22:57:58.138276        0.0153s ago     254 samples, 8 channels\n",
    "[EEG] 2020-03-04 22:57:59.158153        0.0161s ago     302 samples, 8 channels\n",
    "[EEG] 2020-03-04 22:58:00.179612        0.0155s ago     254 samples, 8 channels\n",
    "[EEG] 2020-03-04 22:58:01.199204        0.0164s ago     254 samples, 8 channels\n",
    "[EEG] 2020-03-04 22:58:02.219734        0.0154s ago     254 samples, 8 channels\n",
    "[EEG] 2020-03-04 22:58:03.239956        0.0159s ago     254 samples, 8 channels\n",
    "[EEG] 2020-03-04 22:58:04.259876        0.0134s ago     254 samples, 8 channels\n",
    "[EEG] 2020-03-04 22:58:05.281410        0.0170s ago     256 samples, 8 channels\n",
    "[EEG] 2020-03-04 22:58:06.301453        0.0199s ago     256 samples, 8 channels\n",
    "[EEG] 2020-03-04 22:58:07.322150        0.0141s ago     254 samples, 8 channels"
   ]
  }
 ],
 "metadata": {
  "kernelspec": {
   "display_name": "Python 3",
   "language": "python",
   "name": "python3"
  },
  "language_info": {
   "codemirror_mode": {
    "name": "ipython",
    "version": 3
   },
   "file_extension": ".py",
   "mimetype": "text/x-python",
   "name": "python",
   "nbconvert_exporter": "python",
   "pygments_lexer": "ipython3",
   "version": "3.8.2"
  }
 },
 "nbformat": 4,
 "nbformat_minor": 4
}
