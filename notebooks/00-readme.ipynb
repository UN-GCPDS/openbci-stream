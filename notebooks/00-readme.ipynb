{
 "cells": [
  {
   "cell_type": "markdown",
   "metadata": {},
   "source": [
    "# OpenBCI-Stream \n",
    "High level Python module for EEG acquisition and streaming with OpenBCI hardware."
   ]
  },
  {
   "cell_type": "markdown",
   "metadata": {},
   "source": [
    "## About this project\n",
    "\n",
    "### What is it?\n",
    "A Python module for high-performance interfaces development with [OpenBCI boards](https://openbci.com/).\n",
    "Currently, we have support for Cyton+Daisy and their WiFi module, additionally, we provide a real-time data streaming feature using [Kafka](https://kafka.apache.org/).\n",
    "\n",
    "### What we want?\n",
    "We want a stable, high level, easy to use and extensible Python module focalizes on the hardware provided by OpenBCI, a library that can be used for students, hobbyist and researchers, we are developing a set of tools for preprocessing, real-time data handling and streaming of EEG signals.\n",
    "\n",
    "### About us?\n",
    "We are a research group focused on digital processing of signals and machine learning from the National University of Colombia at Manizales ([GCPDS](http://www.hermes.unal.edu.co/pages/Consultas/Grupo.xhtml;jsessionid=8701CFAD84FB5D540090846EA8912D48.tomcat6?idGrupo=615&opcion=1>))."
   ]
  },
  {
   "cell_type": "markdown",
   "metadata": {},
   "source": [
    "## Main features\n",
    "\n",
    "  * **Asynchronous acquisition:** After the board initialization, the data acquisition can be executed asynchronously, this feature ables to realize background operations without interrupt and affect the data sampling [read more...](../html/_notebooks/04-data_acquisition.html#initialize-stream)\n",
    "  * **Streaming data:** The EEG data is streamed with [Apache Kafka](https://kafka.apache.org/), this means that the data can be consumed from any other interface or language [read more...](../html/_notebooks/04-data_acquisition.html#access-to-stream)\n",
    "  * **Remote host:** Is possible to get OpenBCI running in one computing system and manage it from other [read more...](../html/_notebooks/A4-configure_remote_host.html)\n",
    "  * **Command line interface:** A simple interface is available for handle the start, stop and access to data stream directly from the command line [read more...](../html/_notebooks/A3-command_line_interface.html)\n",
    "  * **Markers/Events handler:**  [read more...](../html/_notebooks/07-stream_markers.html)\n",
    "  * **Distributed platforms: **"
   ]
  },
  {
   "cell_type": "markdown",
   "metadata": {},
   "source": [
    "## Examples"
   ]
  },
  {
   "cell_type": "markdown",
   "metadata": {},
   "source": [
    "Read 5 seconds EEG from serial:"
   ]
  },
  {
   "cell_type": "code",
   "execution_count": null,
   "metadata": {},
   "outputs": [],
   "source": [
    "from openbci_stream.acquisition import CytonRFDuino\n",
    "import time\n",
    "\n",
    "openbci = CytonRFDuino(capture_stream=True, daisy=False)\n",
    "openbci.start_stream()\n",
    "time.sleep(5)\n",
    "openbci.stop_stream()\n",
    "\n",
    "print(openbci.eeg_time_series.shape)"
   ]
  },
  {
   "cell_type": "markdown",
   "metadata": {},
   "source": [
    "Stream markers through Kafka"
   ]
  },
  {
   "cell_type": "code",
   "execution_count": 11,
   "metadata": {},
   "outputs": [],
   "source": [
    "import time\n",
    "from datetime import datetime\n",
    "import pickle\n",
    "from kafka import KafkaProducer\n",
    "\n",
    "producer_eeg = KafkaProducer(bootstrap_servers=['localhost:9092'],\n",
    "                             value_serializer=lambda x: pickle.dumps(x))\n",
    "\n",
    "def stream_marker(marker):\n",
    "    producer_eeg.send('marker', {'timestamp': datetime.now().timestamp(), \n",
    "                                 'marker': marker})\n",
    "\n",
    "stream_marker('RIGHT')\n",
    "time.sleep(1) \n",
    "stream_marker('LEFT')\n",
    "time.sleep(1) \n",
    "stream_marker('RIGHT')\n",
    "time.sleep(1) \n",
    "stream_marker('LEFT')    "
   ]
  },
  {
   "cell_type": "markdown",
   "metadata": {},
   "source": [
    "Starting streaming from command line and store as 'CSV'"
   ]
  },
  {
   "cell_type": "code",
   "execution_count": null,
   "metadata": {},
   "outputs": [],
   "source": [
    "$ python openbci_cli.py serial  --start  --output 'eeg_out.csv'\n",
    "Writing data in \n",
    "Ctrl+C for stop it.\n",
    "\n",
    "[EEG] 2020-03-04 22:57:57.117478        0.0146s ago     254 samples, 8 channels\n",
    "[EEG] 2020-03-04 22:57:58.138276        0.0153s ago     254 samples, 8 channels\n",
    "[EEG] 2020-03-04 22:57:59.158153        0.0161s ago     302 samples, 8 channels\n",
    "[EEG] 2020-03-04 22:58:00.179612        0.0155s ago     254 samples, 8 channels\n",
    "[EEG] 2020-03-04 22:58:01.199204        0.0164s ago     254 samples, 8 channels\n",
    "[EEG] 2020-03-04 22:58:02.219734        0.0154s ago     254 samples, 8 channels\n",
    "[EEG] 2020-03-04 22:58:03.239956        0.0159s ago     254 samples, 8 channels\n",
    "[EEG] 2020-03-04 22:58:04.259876        0.0134s ago     254 samples, 8 channels\n",
    "[EEG] 2020-03-04 22:58:05.281410        0.0170s ago     256 samples, 8 channels\n",
    "[EEG] 2020-03-04 22:58:06.301453        0.0199s ago     256 samples, 8 channels\n",
    "[EEG] 2020-03-04 22:58:07.322150        0.0141s ago     254 samples, 8 channels"
   ]
  }
 ],
 "metadata": {
  "kernelspec": {
   "display_name": "Python 3",
   "language": "python",
   "name": "python3"
  },
  "language_info": {
   "codemirror_mode": {
    "name": "ipython",
    "version": 3
   },
   "file_extension": ".py",
   "mimetype": "text/x-python",
   "name": "python",
   "nbconvert_exporter": "python",
   "pygments_lexer": "ipython3",
   "version": "3.8.3"
  }
 },
 "nbformat": 4,
 "nbformat_minor": 4
}
